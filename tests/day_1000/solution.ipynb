{
 "cells": [
  {
   "cell_type": "markdown",
   "id": "be9c4ca5",
   "metadata": {},
   "source": [
    "# Day 1000: this is a  test Solution\n",
    "\n",
    "- [Homepage](https://adventofcode.com/2022)\n",
    "- [Day 1000 Challenge](https://adventofcode.com/2022/day/1000)\n",
    "- [Input Data](https://adventofcode.com/2022/day/1000/input)\n"
   ]
  },
  {
   "cell_type": "markdown",
   "id": "4b39e325",
   "metadata": {},
   "source": [
    "---\n",
    "\n",
    "## Part I\n"
   ]
  },
  {
   "cell_type": "code",
   "execution_count": null,
   "id": "539b10ba",
   "metadata": {},
   "outputs": [],
   "source": [
    "input_file = 'input.txt'"
   ]
  },
  {
   "cell_type": "markdown",
   "id": "a33a3708",
   "metadata": {},
   "source": [
    "### Answer"
   ]
  },
  {
   "cell_type": "code",
   "execution_count": null,
   "id": "2fd325d4",
   "metadata": {},
   "outputs": [],
   "source": []
  },
  {
   "cell_type": "markdown",
   "id": "693585ee",
   "metadata": {},
   "source": [
    "---\n",
    "    \n",
    "## Part II\n"
   ]
  },
  {
   "cell_type": "code",
   "execution_count": null,
   "id": "e3f883f4",
   "metadata": {},
   "outputs": [],
   "source": []
  },
  {
   "cell_type": "markdown",
   "id": "4bf6d103",
   "metadata": {},
   "source": [
    "### Answer"
   ]
  },
  {
   "cell_type": "code",
   "execution_count": null,
   "id": "740388d0",
   "metadata": {},
   "outputs": [],
   "source": []
  }
 ],
 "metadata": {},
 "nbformat": 4,
 "nbformat_minor": 5
}
