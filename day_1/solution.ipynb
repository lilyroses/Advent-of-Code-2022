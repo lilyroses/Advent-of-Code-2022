{
 "cells": [
  {
   "cell_type": "markdown",
   "metadata": {},
   "source": [
    "# Day 1: Calorie Counting (Part I)\n",
    "\n",
    "**Day 1: Calorie Counting**\n",
    "*(Advent of Code 2022)*\n",
    "\n",
    "Challenge 1 of 25 of the Advent of Code event of 2022.\n",
    "\n",
    "- [Homepage](https://adventofcode.com/2022)\n",
    "- [Day 1 Challenge](https://adventofcode.com/2022/day/1)\n",
    "- [Input Data](https://adventofcode.com/2022/day/1/input)\n",
    "\n",
    "---"
   ]
  },
  {
   "cell_type": "markdown",
   "metadata": {},
   "source": [
    "## Description\n",
    "\n",
    "Santa's reindeer typically eat regular reindeer food, but they need a lot of magical energy to deliver presents on Christmas.\n",
    "\n",
    "For that, their favorite snack is a special type of star fruit that only grows deep in the jungle.\n",
    "\n",
    "The Elves have brought you on their annual expedition to the grove where the fruit grows.\n",
    "\n",
    "To supply enough magical energy, the expedition needs to retrieve a minimum of fifty stars by December 25th.\n",
    "\n",
    "Although the Elves assure you that the grove has plenty of fruit, you decide to grab any fruit you see along the way, just in case.\n",
    "\n",
    "**Collect stars by solving puzzles.**\n",
    "\n",
    "Two puzzles will be made available on each day in the Advent calendar; the second puzzle is unlocked when you complete the first.\n",
    "\n",
    "Each puzzle grants one star. Good luck!\n",
    "\n",
    "The jungle must be too overgrown and difficult to navigate in vehicles or access from the air; the Elves' expedition traditionally goes on foot.\n",
    "\n",
    "As your boats approach land, the Elves begin taking inventory of their supplies.\n",
    "\n",
    "One important consideration is food - in particular, **the number of Calories each Elf is carrying** (your puzzle input).\n",
    "\n",
    "The Elves take turns writing down the number of Calories contained by the various meals, snacks, rations, etc. that they've brought with them, **one item per line**.\n",
    "\n",
    "**Each Elf separates their own inventory from the previous Elf's inventory (if any) by a blank line**.\n",
    "\n",
    "For example, suppose the Elves finish writing their items' Calories and end up with the following list:\n",
    "\n",
    "\n",
    "```\n",
    "1000\n",
    "2000\n",
    "3000\n",
    "\n",
    "4000\n",
    "\n",
    "5000\n",
    "6000\n",
    "\n",
    "7000\n",
    "8000\n",
    "9000\n",
    "\n",
    "10000\n",
    "```\n",
    "\n",
    "\n",
    "This list represents the Calories of the food carried by five Elves:\n",
    "\n",
    "- The first Elf is carrying food with 1000, 2000, and 3000 Calories, a total of 6000 Calories.\n",
    "\n",
    "- The second Elf is carrying one food item with 4000 Calories.\n",
    "\n",
    "- The third Elf is carrying food with 5000 and 6000 Calories, a total of 11000 Calories.\n",
    "\n",
    "- The fourth Elf is carrying food with 7000, 8000, and 9000 Calories, a total of 24000 Calories.\n",
    "\n",
    "- The fifth Elf is carrying one food item with 10000 Calories.\n",
    "\n",
    "\n",
    "In case the Elves get hungry and need extra snacks, they need to know which Elf to ask: they'd like to know **how many Calories are being carried by the Elf carrying the most Calories.**\n",
    "\n",
    "In the example above, this is 24000 (carried by the fourth Elf).\n",
    "\n",
    "- **Goal: Find the Elf carrying the most Calories**. \n",
    "\n",
    "*How many total Calories is that Elf carrying?*\n",
    "\n",
    "To begin, get your puzzle input (see above for links).\n",
    "\n",
    "---"
   ]
  },
  {
   "cell_type": "markdown",
   "metadata": {},
   "source": [
    "## Solution (Python)\n",
    "\n",
    "**GOAL:**\n",
    "- Determine which elf is carrying the most calories.\n",
    "\n",
    "\n",
    "**DETAILS:**\n",
    "- Each elf is carrying `>= 0` food items.\n",
    "- Each food item contains `> 0` calories.\n",
    "- Each elf has an associated set of integers representing the calories of each of their food items.\n",
    "\n",
    "**INPUT DATA:**\n",
    "- Calorie data for all elves is contained within the input file.\n",
    "- Lines within the input data contain either:\n",
    "    - One integer value (representing calories)\n",
    "    - No value (delimits the end of an individual elf's food items). \n",
    "\n",
    "---"
   ]
  },
  {
   "cell_type": "markdown",
   "metadata": {},
   "source": [
    "### Steps\n",
    "\n",
    "My solution contains the following steps:\n",
    "\n",
    "0. Create directory `day_1` within the `advent_of_code` directory. Save the input data to `input.txt` and save within the `day_1` directory. Also, create a Jupyter notebook for the solution called `day_1.ipynb`.\n",
    "\n",
    "1. Read the contents of `input.txt` into the `day_1.ipynb` notebook as a list object, `lines`, where each line of the `input.txt` file is an element of the list (including the blank spaces, which are saved as empty strings). Check that the length of `lines` matches the known number of lines in the input data file (2234)\n",
    "\n",
    "2. Create a function, `separate_lists()`, to split each string of values into its own list of integers, then sum then and add the sums to the `calorie_totals` list.\n",
    "\n",
    "\n"
   ]
  },
  {
   "cell_type": "code",
   "execution_count": 1,
   "metadata": {},
   "outputs": [],
   "source": [
    "from typing import List"
   ]
  },
  {
   "cell_type": "code",
   "execution_count": 2,
   "metadata": {},
   "outputs": [
    {
     "name": "stdout",
     "output_type": "stream",
     "text": [
      "Reading lines from input file...\n",
      "\n",
      "OK [2234/2234]\n"
     ]
    }
   ],
   "source": [
    "# Save file name to variable\n",
    "input_data = 'input.txt'\n",
    "\n",
    "\n",
    "# Read in the data from the input.txt file to the program.\n",
    "with open(input_data, 'r') as f:\n",
    "    # Save the data to a list, where each line of the data is its own list element,\n",
    "    # including the empty lines, which are saved as empty strings (''). \n",
    "    lines = [line.strip() for line in f.readlines()]\n",
    "\n",
    "\n",
    "print(\"Reading lines from input file...\")\n",
    "\n",
    "\n",
    "# Check that no lines have been omitted from lines.\n",
    "# There are 2234 lines in the input data file.\n",
    "total_lines = 2234\n",
    "\n",
    "if len(lines) == total_lines:\n",
    "    print(f'\\nOK [{len(lines)}/{total_lines}]')\n",
    "elif len(lines) > total_lines:\n",
    "        print(f'\\nERROR [{len(lines)}/{total_lines}]')"
   ]
  },
  {
   "cell_type": "markdown",
   "metadata": {},
   "source": [
    "### Step 2. Create a Function to Find Calorie Totals from Lines"
   ]
  },
  {
   "cell_type": "code",
   "execution_count": 3,
   "metadata": {},
   "outputs": [],
   "source": [
    "# Create a function to separate the list of strings.\n",
    "\n",
    "def separate_food_lists(lines: List[str], sep: str) -> List[int]:\n",
    "    \"\"\"\n",
    "    Separate data into individual lists, delimited by the empty strings within\n",
    "    the main list object.\n",
    "    \n",
    "    Args:\n",
    "        lines : a list element where every element is a string of values that are chained with a delimiter string.\n",
    "        sep : a delimiter string which separates each set of values.\n",
    "    \"\"\"\n",
    "\n",
    "    # Holds all lists of elf food lists.\n",
    "    calorie_totals = []\n",
    "    # Used to construct each individual elf's calorie list.\n",
    "    current_food_list = []\n",
    "    \n",
    "    # Iterate over each line to split the values into proper lists.\n",
    "    for line in lines:\n",
    "        # Until we reach an empty string (blank line), the list elements are part\n",
    "        # of the same sublist.\n",
    "        if line != sep:\n",
    "            # Change the value to an integer.\n",
    "            current_food_list.append(int(line))\n",
    "        # When an empty string is reached, the current list is complete.\n",
    "        else:\n",
    "            # Add the components in the list to find the total calories of\n",
    "            # each elf's list.\n",
    "            calorie_total = sum(current_food_list)\n",
    "            # Add the total calories to a list to compare when the values for all lists\n",
    "            # have been added up.\n",
    "            calorie_totals.append(calorie_total)\n",
    "            # Reset the current food list to empty so the next list can be built\n",
    "            current_food_list = []\n",
    "    \n",
    "    # Return a list of integers representing the calorie totals.\n",
    "    return calorie_totals"
   ]
  },
  {
   "cell_type": "markdown",
   "metadata": {},
   "source": [
    "### Step 3. Find the Maximum Value of Calorie Totals"
   ]
  },
  {
   "cell_type": "code",
   "execution_count": 6,
   "metadata": {},
   "outputs": [
    {
     "name": "stdout",
     "output_type": "stream",
     "text": [
      "Maximum amount of calories carried by one elf: 70374\n"
     ]
    }
   ],
   "source": [
    "all_calorie_totals = separate_food_lists(lines, '')\n",
    "\n",
    "max_calories = max(all_calorie_totals)\n",
    "\n",
    "print(f\"Maximum amount of calories carried by one elf: {max_calories}\")"
   ]
  },
  {
   "cell_type": "markdown",
   "metadata": {},
   "source": [
    "--- \n",
    "\n",
    "## Part II\n",
    "\n",
    "Find total amount of elves carrying top 3 amounts of calories."
   ]
  },
  {
   "cell_type": "code",
   "execution_count": 8,
   "metadata": {},
   "outputs": [
    {
     "name": "stdout",
     "output_type": "stream",
     "text": [
      "Top 3 calorie values:\n",
      "      \n",
      "      1. 70374\n",
      "      2. 68996\n",
      "      3. 65240\n",
      "\n",
      "Total: 204610\n"
     ]
    }
   ],
   "source": [
    "# Sort calorie totals by highest to lowest\n",
    "sorted_calories = sorted(all_calorie_totals, reverse=True)\n",
    "\n",
    "# Find the top 3 by picking the first 3 values\n",
    "top_three = sorted_calories[0:3]\n",
    "first, second, third = top_three\n",
    "total = sum(top_three)\n",
    "\n",
    "print(f\"\"\"Top 3 calorie values:\n",
    "      \n",
    "      1. {first}\n",
    "      2. {second}\n",
    "      3. {third}\"\"\")\n",
    "\n",
    "print(f\"\\nTotal: {total}\")"
   ]
  }
 ],
 "metadata": {
  "kernelspec": {
   "display_name": "Python 3",
   "language": "python",
   "name": "python3"
  },
  "language_info": {
   "codemirror_mode": {
    "name": "ipython",
    "version": 3
   },
   "file_extension": ".py",
   "mimetype": "text/x-python",
   "name": "python",
   "nbconvert_exporter": "python",
   "pygments_lexer": "ipython3",
   "version": "3.10.12"
  },
  "orig_nbformat": 4
 },
 "nbformat": 4,
 "nbformat_minor": 2
}
