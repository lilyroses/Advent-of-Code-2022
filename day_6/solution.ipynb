{
 "cells": [
  {
   "cell_type": "markdown",
   "id": "4fa6de2c",
   "metadata": {},
   "source": [
    "# Day 6: Tuning Trouble Solution\n",
    "\n",
    "- [Homepage](https://adventofcode.com/2022)\n",
    "- [Day 6 Challenge](https://adventofcode.com/2022/day/6)\n",
    "- [Input Data](https://adventofcode.com/2022/day/6/input)\n"
   ]
  },
  {
   "cell_type": "markdown",
   "id": "581fb662",
   "metadata": {},
   "source": [
    "---\n",
    "\n",
    "## Part I\n"
   ]
  },
  {
   "cell_type": "code",
   "execution_count": null,
   "id": "f66002f5",
   "metadata": {},
   "outputs": [],
   "source": [
    "input_file = 'input.txt'"
   ]
  },
  {
   "cell_type": "code",
   "execution_count": null,
   "id": "125cae9e",
   "metadata": {},
   "outputs": [],
   "source": []
  },
  {
   "cell_type": "markdown",
   "id": "0548cc39",
   "metadata": {},
   "source": [
    "### Answer"
   ]
  },
  {
   "cell_type": "code",
   "execution_count": null,
   "id": "ab7d82ad",
   "metadata": {},
   "outputs": [],
   "source": []
  },
  {
   "cell_type": "markdown",
   "id": "d98a0f6f",
   "metadata": {},
   "source": [
    "---\n",
    "    \n",
    "## Part II\n"
   ]
  },
  {
   "cell_type": "code",
   "execution_count": null,
   "id": "c08fdb19",
   "metadata": {},
   "outputs": [],
   "source": []
  },
  {
   "cell_type": "markdown",
   "id": "7c868384",
   "metadata": {},
   "source": [
    "### Answer"
   ]
  },
  {
   "cell_type": "code",
   "execution_count": null,
   "id": "51abadbe",
   "metadata": {},
   "outputs": [],
   "source": []
  }
 ],
 "metadata": {},
 "nbformat": 4,
 "nbformat_minor": 5
}
