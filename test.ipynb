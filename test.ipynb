{
 "cells": [
  {
   "cell_type": "code",
   "execution_count": 7,
   "metadata": {},
   "outputs": [
    {
     "data": {
      "text/plain": [
       "{5: 5, 4: 4, 3: 3, 2: 2, 1: 1}"
      ]
     },
     "execution_count": 7,
     "metadata": {},
     "output_type": "execute_result"
    }
   ],
   "source": [
    "n = 122333444455555\n",
    "\n",
    "frequency_map = {}\n",
    "\n",
    "while n > 0:\n",
    "    digit = n % 10\n",
    "    n = n // 10\n",
    "    if digit not in frequency_map.keys():\n",
    "        frequency_map[digit] = 1\n",
    "    else:\n",
    "        frequency_map[digit] +=1 \n",
    "\n",
    "frequency_map"
   ]
  },
  {
   "cell_type": "code",
   "execution_count": 9,
   "metadata": {},
   "outputs": [
    {
     "data": {
      "text/plain": [
       "[[1], [2, 3], [4, 5, 6]]"
      ]
     },
     "execution_count": 9,
     "metadata": {},
     "output_type": "execute_result"
    }
   ],
   "source": [
    "def create_staircase(nums):\n",
    "  step = 1\n",
    "  subsets = []\n",
    "  while len(nums) != 0:\n",
    "    if len(nums) >= step:\n",
    "      subsets.append(nums[0:step])\n",
    "      nums = nums[step:]\n",
    "      step += 1\n",
    "    else:\n",
    "      return False\n",
    "      \n",
    "  return subsets\n",
    "\n",
    "nums = [1, 2, 3, 4, 5, 6]\n",
    "\n",
    "create_staircase(nums)"
   ]
  },
  {
   "cell_type": "code",
   "execution_count": 10,
   "metadata": {},
   "outputs": [
    {
     "ename": "IndexError",
     "evalue": "string index out of range",
     "output_type": "error",
     "traceback": [
      "\u001b[0;31m---------------------------------------------------------------------------\u001b[0m",
      "\u001b[0;31mIndexError\u001b[0m                                Traceback (most recent call last)",
      "Cell \u001b[0;32mIn[10], line 14\u001b[0m\n\u001b[1;32m     11\u001b[0m        word_nums[num] \u001b[38;5;241m=\u001b[39m word\n\u001b[1;32m     12\u001b[0m     \u001b[38;5;28;01mreturn\u001b[39;00m word_nums\n\u001b[0;32m---> 14\u001b[0m \u001b[43mparse_text\u001b[49m\u001b[43m(\u001b[49m\u001b[43minput_file\u001b[49m\u001b[43m)\u001b[49m\n\u001b[1;32m     16\u001b[0m \u001b[38;5;66;03m# def create_staircase(nums):\u001b[39;00m\n\u001b[1;32m     17\u001b[0m \u001b[38;5;66;03m#   step = 1\u001b[39;00m\n\u001b[1;32m     18\u001b[0m \u001b[38;5;66;03m#   subsets = []\u001b[39;00m\n\u001b[0;32m   (...)\u001b[0m\n\u001b[1;32m     26\u001b[0m       \n\u001b[1;32m     27\u001b[0m \u001b[38;5;66;03m#   return subsets\u001b[39;00m\n",
      "Cell \u001b[0;32mIn[10], line 9\u001b[0m, in \u001b[0;36mparse_text\u001b[0;34m(input_file)\u001b[0m\n\u001b[1;32m      7\u001b[0m     lines \u001b[38;5;241m=\u001b[39m [line\u001b[38;5;241m.\u001b[39mstrip() \u001b[38;5;28;01mfor\u001b[39;00m line \u001b[38;5;129;01min\u001b[39;00m f\u001b[38;5;241m.\u001b[39mreadlines()]\n\u001b[1;32m      8\u001b[0m \u001b[38;5;28;01mfor\u001b[39;00m line \u001b[38;5;129;01min\u001b[39;00m lines:\n\u001b[0;32m----> 9\u001b[0m    num \u001b[38;5;241m=\u001b[39m \u001b[43mline\u001b[49m\u001b[43m[\u001b[49m\u001b[38;5;241;43m0\u001b[39;49m\u001b[43m]\u001b[49m\n\u001b[1;32m     10\u001b[0m    word \u001b[38;5;241m=\u001b[39m line[\u001b[38;5;241m1\u001b[39m]\n\u001b[1;32m     11\u001b[0m    word_nums[num] \u001b[38;5;241m=\u001b[39m word\n",
      "\u001b[0;31mIndexError\u001b[0m: string index out of range"
     ]
    }
   ],
   "source": [
    "input_file = 'msg.txt'\n",
    "\n",
    "\n",
    "def parse_text(input_file):\n",
    "    word_nums = {}\n",
    "    with open(input_file) as f:\n",
    "        lines = [line.strip() for line in f.readlines()]\n",
    "    for line in lines:\n",
    "       num = line[0]\n",
    "       word = line[1]\n",
    "       word_nums[num] = word\n",
    "    return word_nums\n",
    "\n",
    "parse_text(input_file)\n",
    "\n",
    "# def create_staircase(nums):\n",
    "#   step = 1\n",
    "#   subsets = []\n",
    "#   while len(nums) != 0:\n",
    "#     if len(nums) >= step:\n",
    "#       subsets.append(nums[0:step])\n",
    "#       nums = nums[step:]\n",
    "#       step += 1\n",
    "#     else:\n",
    "#       return False\n",
    "      \n",
    "#   return subsets"
   ]
  }
 ],
 "metadata": {
  "kernelspec": {
   "display_name": "Python 3",
   "language": "python",
   "name": "python3"
  },
  "language_info": {
   "codemirror_mode": {
    "name": "ipython",
    "version": 3
   },
   "file_extension": ".py",
   "mimetype": "text/x-python",
   "name": "python",
   "nbconvert_exporter": "python",
   "pygments_lexer": "ipython3",
   "version": "3.10.12"
  }
 },
 "nbformat": 4,
 "nbformat_minor": 2
}
