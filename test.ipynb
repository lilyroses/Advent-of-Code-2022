{
 "cells": [
  {
   "cell_type": "code",
   "execution_count": 1,
   "metadata": {},
   "outputs": [
    {
     "name": "stdout",
     "output_type": "stream",
     "text": [
      "Exception occured\n"
     ]
    }
   ],
   "source": [
    "try:\n",
    "    print(x)\n",
    "except:\n",
    "    print('Exception occured')"
   ]
  },
  {
   "cell_type": "code",
   "execution_count": 2,
   "metadata": {},
   "outputs": [
    {
     "name": "stdout",
     "output_type": "stream",
     "text": [
      "[Errno 2] No such file or directory: 'data.csv'\n",
      "Explanation: Cannot find data.csv\n"
     ]
    }
   ],
   "source": [
    "csv_file = 'data.csv'\n",
    "try:\n",
    "    with open(csv_file, 'r') as f:\n",
    "        data = f.read()\n",
    "except FileNotFoundError as fnf_error:\n",
    "    print(fnf_error)\n",
    "    print(f'Explanation: Cannot find {csv_file}')"
   ]
  },
  {
   "cell_type": "code",
   "execution_count": 3,
   "metadata": {},
   "outputs": [],
   "source": [
    "x = [5,8,9,13]\n",
    "\n",
    "def find_nth_value(x,n):\n",
    "    try:\n",
    "        result = x[n]\n",
    "    except IndexError as err:\n",
    "        print(err)\n",
    "    else:\n",
    "        print(f'Your answer: {result}')"
   ]
  },
  {
   "cell_type": "code",
   "execution_count": 9,
   "metadata": {},
   "outputs": [
    {
     "name": "stdout",
     "output_type": "stream",
     "text": [
      "Your answer: 13\n"
     ]
    }
   ],
   "source": [
    "find_nth_value(x, 3)"
   ]
  },
  {
   "cell_type": "code",
   "execution_count": 31,
   "metadata": {},
   "outputs": [
    {
     "name": "stdout",
     "output_type": "stream",
     "text": [
      "\u001b[95m Code by LilyRoses\u001b[00m\n"
     ]
    }
   ],
   "source": [
    "print(\"\\033[95m Code by LilyRoses\\033[00m\")"
   ]
  }
 ],
 "metadata": {
  "kernelspec": {
   "display_name": "Python 3",
   "language": "python",
   "name": "python3"
  },
  "language_info": {
   "codemirror_mode": {
    "name": "ipython",
    "version": 3
   },
   "file_extension": ".py",
   "mimetype": "text/x-python",
   "name": "python",
   "nbconvert_exporter": "python",
   "pygments_lexer": "ipython3",
   "version": "3.10.12"
  },
  "orig_nbformat": 4
 },
 "nbformat": 4,
 "nbformat_minor": 2
}
