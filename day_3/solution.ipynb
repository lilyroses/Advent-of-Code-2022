{
 "cells": [
  {
   "cell_type": "markdown",
   "metadata": {},
   "source": [
    "# Day 3: Rucksack Reorganization Solution\n",
    "\n",
    "- [Homepage](https://adventofcode.com/2022)\n",
    "- [Day 3 Challenge](https://adventofcode.com/2022/day/3)\n",
    "- [Input Data](https://adventofcode.com/2022/day/3/input)\n",
    "\n",
    "---"
   ]
  },
  {
   "cell_type": "markdown",
   "metadata": {},
   "source": [
    "## Part I"
   ]
  },
  {
   "cell_type": "code",
   "execution_count": 118,
   "metadata": {},
   "outputs": [],
   "source": [
    "import collections\n",
    "import string"
   ]
  },
  {
   "cell_type": "code",
   "execution_count": 119,
   "metadata": {},
   "outputs": [],
   "source": [
    "input_file = 'input.txt'"
   ]
  },
  {
   "cell_type": "code",
   "execution_count": 120,
   "metadata": {},
   "outputs": [],
   "source": [
    "with open(input_file, 'r') as f:\n",
    "    lines = [line.strip() for line in f.readlines()]\n",
    "    \n",
    "# lines"
   ]
  },
  {
   "cell_type": "code",
   "execution_count": 138,
   "metadata": {},
   "outputs": [],
   "source": [
    "# This works because we know each line contains an even-number\n",
    "# of items (as per the instrucions)\n",
    "\n",
    "def split_line(line):\n",
    "    # index of middle of line\n",
    "    i = len(line) // 2\n",
    "    # Split line into two equal parts, preserving order\n",
    "    # of characters\n",
    "    line_1 = line[:i]\n",
    "    line_2 = line[i:]\n",
    "    \n",
    "    # Return a tuple, with each half of the line as a string\n",
    "    return line_1, line_2    "
   ]
  },
  {
   "cell_type": "code",
   "execution_count": 134,
   "metadata": {},
   "outputs": [],
   "source": [
    "duplicates = []"
   ]
  },
  {
   "cell_type": "code",
   "execution_count": 135,
   "metadata": {},
   "outputs": [],
   "source": [
    "for line in lines:\n",
    "    line_1, line_2 = split_line(line, 2)\n",
    "\n",
    "    # collections allows us to find list intersections (repeated elements within two lists)\n",
    "    result = collections.Counter(line_1) & collections.Counter(line_2)\n",
    "    \n",
    "    # Use set to only return the item that is repeated, not multiple instances of it\n",
    "    # Use join to change set {'p'} into string 'p'.\n",
    "    duplicate = ''.join(set(result.elements()))\n",
    "    \n",
    "    # Add the string character to a list. \n",
    "    duplicates.append(duplicate)"
   ]
  },
  {
   "cell_type": "code",
   "execution_count": 136,
   "metadata": {},
   "outputs": [
    {
     "data": {
      "text/plain": [
       "['s',\n",
       " 'j',\n",
       " 'z',\n",
       " 'N',\n",
       " 'n',\n",
       " 'D',\n",
       " 'T',\n",
       " 'L',\n",
       " 'j',\n",
       " 'p',\n",
       " 'q',\n",
       " 'T',\n",
       " 'T',\n",
       " 'G',\n",
       " 'Z',\n",
       " 'Q',\n",
       " 'J',\n",
       " 'c',\n",
       " 'H',\n",
       " 'b',\n",
       " 'D',\n",
       " 'd',\n",
       " 'g',\n",
       " 'L',\n",
       " 'W',\n",
       " 'N',\n",
       " 'J',\n",
       " 'M',\n",
       " 'v',\n",
       " 'V',\n",
       " 'H',\n",
       " 'l',\n",
       " 'D',\n",
       " 't',\n",
       " 'Z',\n",
       " 'w',\n",
       " 'h',\n",
       " 'V',\n",
       " 'F',\n",
       " 'T',\n",
       " 'L',\n",
       " 'S',\n",
       " 'D',\n",
       " 'R',\n",
       " 'N',\n",
       " 'p',\n",
       " 'f',\n",
       " 'c',\n",
       " 'q',\n",
       " 's',\n",
       " 'S',\n",
       " 'D',\n",
       " 'p',\n",
       " 'Q',\n",
       " 'z',\n",
       " 'S',\n",
       " 'n',\n",
       " 'T',\n",
       " 'z',\n",
       " 'F',\n",
       " 'P',\n",
       " 'B',\n",
       " 'm',\n",
       " 'J',\n",
       " 'D',\n",
       " 'G',\n",
       " 'g',\n",
       " 'G',\n",
       " 'F',\n",
       " 'S',\n",
       " 'M',\n",
       " 'f',\n",
       " 'q',\n",
       " 'H',\n",
       " 's',\n",
       " 'd',\n",
       " 'W',\n",
       " 'v',\n",
       " 'N',\n",
       " 'b',\n",
       " 'g',\n",
       " 's',\n",
       " 'T',\n",
       " 'f',\n",
       " 'n',\n",
       " 's',\n",
       " 'R',\n",
       " 'j',\n",
       " 'z',\n",
       " 'q',\n",
       " 'J',\n",
       " 'R',\n",
       " 'P',\n",
       " 'c',\n",
       " 'F',\n",
       " 'V',\n",
       " 'd',\n",
       " 'j',\n",
       " 'P',\n",
       " 'h',\n",
       " 'm',\n",
       " 'B',\n",
       " 'r',\n",
       " 'T',\n",
       " 'B',\n",
       " 'V',\n",
       " 'Q',\n",
       " 'l',\n",
       " 'B',\n",
       " 'n',\n",
       " 'b',\n",
       " 'r',\n",
       " 'Q',\n",
       " 'J',\n",
       " 'R',\n",
       " 'D',\n",
       " 'T',\n",
       " 'V',\n",
       " 'L',\n",
       " 's',\n",
       " 'P',\n",
       " 'J',\n",
       " 'z',\n",
       " 'p',\n",
       " 'm',\n",
       " 'f',\n",
       " 'p',\n",
       " 's',\n",
       " 'C',\n",
       " 'd',\n",
       " 't',\n",
       " 'p',\n",
       " 'N',\n",
       " 'B',\n",
       " 'R',\n",
       " 'P',\n",
       " 'n',\n",
       " 'g',\n",
       " 'v',\n",
       " 'G',\n",
       " 'H',\n",
       " 'B',\n",
       " 'P',\n",
       " 'C',\n",
       " 'd',\n",
       " 'b',\n",
       " 'q',\n",
       " 'c',\n",
       " 'd',\n",
       " 'P',\n",
       " 'M',\n",
       " 'C',\n",
       " 'm',\n",
       " 'v',\n",
       " 'L',\n",
       " 'd',\n",
       " 'V',\n",
       " 'p',\n",
       " 'm',\n",
       " 'g',\n",
       " 'h',\n",
       " 't',\n",
       " 'S',\n",
       " 'v',\n",
       " 'p',\n",
       " 't',\n",
       " 'c',\n",
       " 'z',\n",
       " 't',\n",
       " 'b',\n",
       " 'q',\n",
       " 'l',\n",
       " 'd',\n",
       " 'P',\n",
       " 'D',\n",
       " 'N',\n",
       " 'W',\n",
       " 'z',\n",
       " 'N',\n",
       " 'W',\n",
       " 'q',\n",
       " 'l',\n",
       " 'Z',\n",
       " 'r',\n",
       " 'z',\n",
       " 'd',\n",
       " 'J',\n",
       " 'j',\n",
       " 'D',\n",
       " 'M',\n",
       " 'q',\n",
       " 'F',\n",
       " 'N',\n",
       " 'n',\n",
       " 'p',\n",
       " 'D',\n",
       " 'N',\n",
       " 'q',\n",
       " 'H',\n",
       " 'q',\n",
       " 'R',\n",
       " 'l',\n",
       " 'g',\n",
       " 'm',\n",
       " 'j',\n",
       " 'f',\n",
       " 'v',\n",
       " 'c',\n",
       " 'M',\n",
       " 'Z',\n",
       " 'r',\n",
       " 'W',\n",
       " 'd',\n",
       " 'Z',\n",
       " 'p',\n",
       " 'm',\n",
       " 'R',\n",
       " 'q',\n",
       " 'l',\n",
       " 'Z',\n",
       " 'z',\n",
       " 'd',\n",
       " 't',\n",
       " 'S',\n",
       " 's',\n",
       " 'M',\n",
       " 'Z',\n",
       " 'g',\n",
       " 'm',\n",
       " 'G',\n",
       " 'N',\n",
       " 'Z',\n",
       " 'M',\n",
       " 'H',\n",
       " 'q',\n",
       " 'G',\n",
       " 'D',\n",
       " 'T',\n",
       " 'S',\n",
       " 'l',\n",
       " 'L',\n",
       " 'F',\n",
       " 'S',\n",
       " 'g',\n",
       " 'v',\n",
       " 'Z',\n",
       " 'J',\n",
       " 'M',\n",
       " 'n',\n",
       " 'b',\n",
       " 'h',\n",
       " 'v',\n",
       " 'd',\n",
       " 'H',\n",
       " 'v',\n",
       " 'Z',\n",
       " 'N',\n",
       " 'B',\n",
       " 'w',\n",
       " 'D',\n",
       " 'G',\n",
       " 'N',\n",
       " 'L',\n",
       " 'W',\n",
       " 's',\n",
       " 'n',\n",
       " 'p',\n",
       " 'n',\n",
       " 'v',\n",
       " 'c',\n",
       " 'w',\n",
       " 'Q',\n",
       " 's',\n",
       " 'W',\n",
       " 'F',\n",
       " 'c',\n",
       " 'p',\n",
       " 'z',\n",
       " 'G',\n",
       " 'w',\n",
       " 'N',\n",
       " 'n',\n",
       " 'l',\n",
       " 't',\n",
       " 'q',\n",
       " 'd',\n",
       " 'h',\n",
       " 'm',\n",
       " 'V',\n",
       " 's',\n",
       " 'l',\n",
       " 'd',\n",
       " 'L',\n",
       " 'p',\n",
       " 'L',\n",
       " 'r',\n",
       " 'g',\n",
       " 'T',\n",
       " 'v',\n",
       " 'C']"
      ]
     },
     "execution_count": 136,
     "metadata": {},
     "output_type": "execute_result"
    }
   ],
   "source": [
    "# Check that duplicates is a list of strings\n",
    "# duplicates"
   ]
  },
  {
   "cell_type": "code",
   "execution_count": 125,
   "metadata": {},
   "outputs": [],
   "source": [
    "priority_values = {}"
   ]
  },
  {
   "cell_type": "code",
   "execution_count": 126,
   "metadata": {},
   "outputs": [],
   "source": [
    "letters = string.ascii_letters"
   ]
  },
  {
   "cell_type": "code",
   "execution_count": 127,
   "metadata": {},
   "outputs": [],
   "source": [
    "# As per the instructions, the priority list of all letters is\n",
    "# a-z = 1-26, and A-Z = 27-52\n",
    "for i, letter in enumerate(letters, 1):\n",
    "    priority_values[letter] = i"
   ]
  },
  {
   "cell_type": "code",
   "execution_count": 128,
   "metadata": {},
   "outputs": [],
   "source": [
    "total_priority_value = 0"
   ]
  },
  {
   "cell_type": "code",
   "execution_count": 152,
   "metadata": {},
   "outputs": [],
   "source": [
    "# For each line, we split the line in half, then find the duplicate element between the halves.\n",
    "# Next, we find the priority value that duplicate element. We do this for each line given in the input data\n",
    "# and find the priority value of each element.\n",
    "for duplicate in duplicates:\n",
    "    total_priority_value += priority_values[duplicate]"
   ]
  },
  {
   "cell_type": "markdown",
   "metadata": {},
   "source": [
    "### Answer"
   ]
  },
  {
   "cell_type": "code",
   "execution_count": 130,
   "metadata": {},
   "outputs": [
    {
     "name": "stdout",
     "output_type": "stream",
     "text": [
      "Total: 7850\n"
     ]
    }
   ],
   "source": [
    "print(f'Total: {total_priority_value}')"
   ]
  },
  {
   "cell_type": "markdown",
   "metadata": {},
   "source": [
    "---\n",
    "\n",
    "## Part II"
   ]
  },
  {
   "cell_type": "code",
   "execution_count": 153,
   "metadata": {},
   "outputs": [],
   "source": [
    "from itertools import islice"
   ]
  },
  {
   "cell_type": "code",
   "execution_count": 154,
   "metadata": {},
   "outputs": [],
   "source": [
    "# Split a list into chunks of size n\n",
    "def split_groups(lines, n):\n",
    "    # Save the chunks to a list\n",
    "    groups = []\n",
    "    \n",
    "    i = iter(lines)\n",
    "    \n",
    "    while (batch := tuple(islice(i, n))):\n",
    "        groups.append(batch)\n",
    "    \n",
    "    return groups"
   ]
  },
  {
   "cell_type": "code",
   "execution_count": 155,
   "metadata": {},
   "outputs": [],
   "source": [
    "groups = split_groups(lines, 3)  "
   ]
  },
  {
   "cell_type": "code",
   "execution_count": 157,
   "metadata": {},
   "outputs": [],
   "source": [
    "# Check output is correct\n",
    "# for group in groups:\n",
    "    # print(group)"
   ]
  },
  {
   "cell_type": "code",
   "execution_count": 158,
   "metadata": {},
   "outputs": [],
   "source": [
    "badge_letters = []"
   ]
  },
  {
   "cell_type": "code",
   "execution_count": 159,
   "metadata": {},
   "outputs": [],
   "source": [
    "for group in groups:\n",
    "    elf_1, elf_2, elf_3 = group\n",
    "    result = collections.Counter(elf_1) & collections.Counter(elf_2) & collections.Counter(elf_3)\n",
    "    \n",
    "    badge_letter = ''.join(set(result.elements()))\n",
    "    badge_letters.append(badge_letter)"
   ]
  },
  {
   "cell_type": "code",
   "execution_count": 160,
   "metadata": {},
   "outputs": [],
   "source": [
    "# Check output\n",
    "# badge_letters"
   ]
  },
  {
   "cell_type": "code",
   "execution_count": 149,
   "metadata": {},
   "outputs": [],
   "source": [
    "badge_letters_priorities = 0"
   ]
  },
  {
   "cell_type": "code",
   "execution_count": 150,
   "metadata": {},
   "outputs": [],
   "source": [
    "for badge_letter in badge_letters:\n",
    "    badge_letters_priorities += priority_values[badge_letter]"
   ]
  },
  {
   "cell_type": "code",
   "execution_count": 161,
   "metadata": {},
   "outputs": [
    {
     "data": {
      "text/plain": [
       "2581"
      ]
     },
     "execution_count": 161,
     "metadata": {},
     "output_type": "execute_result"
    }
   ],
   "source": [
    "badge_letters_priorities"
   ]
  }
 ],
 "metadata": {
  "kernelspec": {
   "display_name": "Python 3",
   "language": "python",
   "name": "python3"
  },
  "language_info": {
   "codemirror_mode": {
    "name": "ipython",
    "version": 3
   },
   "file_extension": ".py",
   "mimetype": "text/x-python",
   "name": "python",
   "nbconvert_exporter": "python",
   "pygments_lexer": "ipython3",
   "version": "3.10.12"
  },
  "orig_nbformat": 4
 },
 "nbformat": 4,
 "nbformat_minor": 2
}
