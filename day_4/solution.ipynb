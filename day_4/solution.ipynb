{
 "cells": [
  {
   "cell_type": "markdown",
   "id": "4f6d7815",
   "metadata": {},
   "source": [
    "# Day 4: Camp Cleanup Solution\n",
    "\n",
    "- [Homepage](https://adventofcode.com/2022)\n",
    "- [Day 4 Challenge](https://adventofcode.com/2022/day/4)\n",
    "- [Input Data](https://adventofcode.com/2022/day/4/input)\n"
   ]
  },
  {
   "cell_type": "markdown",
   "id": "b3048c03",
   "metadata": {},
   "source": [
    "---\n",
    "\n",
    "## Part I\n"
   ]
  },
  {
   "cell_type": "code",
   "execution_count": 2,
   "id": "ad22f2f5",
   "metadata": {},
   "outputs": [],
   "source": [
    "input_file = '/home/lilyroses/code/python_projects/advent_of_code_2022/day_4/input.txt'"
   ]
  },
  {
   "cell_type": "code",
   "execution_count": null,
   "id": "062c8950",
   "metadata": {},
   "outputs": [],
   "source": [
    "with open(input_file, 'r') as f:\n",
    "    # lines = [line.strip().split(',') for line in f.readlines()]\n",
    "    lines = f.readlines()"
   ]
  },
  {
   "cell_type": "code",
   "execution_count": 56,
   "id": "cd982bba",
   "metadata": {},
   "outputs": [],
   "source": [
    "# Holds the elves assignments in lists containing pairs of lists \n",
    "# that hold integers, not strings\n",
    "formatted_assignments = []"
   ]
  },
  {
   "cell_type": "code",
   "execution_count": 57,
   "id": "95c8ca51",
   "metadata": {},
   "outputs": [],
   "source": [
    "for line in lines:\n",
    "    split_lines = (line.strip().split(','))\n",
    "\n",
    "    # Change the strings into integers\n",
    "    elf_1 = [int(i) for i in split_lines[0].split('-')]\n",
    "    elf_2 = [int(i) for i in split_lines[1].split('-')]\n",
    "    \n",
    "    # Appends a list of two lists, each list holding the integers for that elf's\n",
    "    # start section and end section\n",
    "    formatted_assignments.append(list((elf_1,  elf_2)))"
   ]
  },
  {
   "cell_type": "code",
   "execution_count": 58,
   "id": "1754c1a6",
   "metadata": {},
   "outputs": [],
   "source": [
    "# The total of overlapping section assingments; the eventual answer\n",
    "total = 0"
   ]
  },
  {
   "cell_type": "code",
   "execution_count": 59,
   "id": "0472bef8",
   "metadata": {},
   "outputs": [],
   "source": [
    "for assignment in formatted_assignments:\n",
    "    \n",
    "    # Assign the start and end section values for each elf to variables    \n",
    "    elf_1_start = assignment[0][0]\n",
    "    elf_1_end = assignment[0][1]\n",
    "    # Variables for elf_2\n",
    "    elf_2_start = assignment[1][0]\n",
    "    elf_2_end = assignment[1][1]\n",
    "    \n",
    "    # Create lists of the range of sections for each elf to compare the lengths\n",
    "    # of each list - this way we can determine if an elf's values are contained \n",
    "    # within the other elf's sections or not\n",
    "    elf_1_sections = list(range(elf_1_start, elf_1_end + 1))\n",
    "    elf_2_sections = list(range(elf_2_start, elf_2_end + 1))\n",
    "\n",
    "    # If elf 1 has more sections\n",
    "    if (elf_1_end - elf_1_start) >= (elf_2_end - elf_2_start):\n",
    "        # If elf 2's starting AND ending sections are contained in elf 1's sections\n",
    "        if (elf_2_start in elf_1_sections) and (elf_2_end in elf_1_sections):\n",
    "            # Add 1 to the overall total of overlapping section\n",
    "            total += 1\n",
    "\n",
    "    # If elf 2 has more sections\n",
    "    elif (elf_1_end - elf_1_start) < (elf_2_end - elf_2_start):\n",
    "        # If elf 1's starting AND ending sections are contained in elf 2's sections\n",
    "        if (elf_1_start in elf_2_sections) and (elf_1_end in elf_2_sections):\n",
    "            # Add 1 to the overall total of overlapping section\n",
    "            total += 1"
   ]
  },
  {
   "cell_type": "markdown",
   "id": "8bcb2f15",
   "metadata": {},
   "source": [
    "### Answer"
   ]
  },
  {
   "cell_type": "code",
   "execution_count": 60,
   "id": "9b96e862",
   "metadata": {},
   "outputs": [
    {
     "name": "stdout",
     "output_type": "stream",
     "text": [
      "Answer: 494\n"
     ]
    }
   ],
   "source": [
    "print(f'Answer: {total}')"
   ]
  },
  {
   "cell_type": "markdown",
   "id": "73dbf37e",
   "metadata": {},
   "source": [
    "---\n",
    "    \n",
    "## Part II\n"
   ]
  },
  {
   "cell_type": "code",
   "execution_count": 70,
   "id": "bf740829",
   "metadata": {},
   "outputs": [],
   "source": [
    "new_total = 0"
   ]
  },
  {
   "cell_type": "code",
   "execution_count": 73,
   "id": "b5a02775",
   "metadata": {},
   "outputs": [],
   "source": [
    "for assignment in formatted_assignments:\n",
    "    elf_1_sections = assignment[0]\n",
    "    elf_1_start = elf_1_sections[0]\n",
    "    elf_1_end = elf_1_sections[1]\n",
    "    \n",
    "    elf_2_sections = assignment[1]\n",
    "    elf_2_start = elf_2_sections[0]\n",
    "    elf_2_end = elf_2_sections[1]\n",
    "    \n",
    "    if (elf_2_start >= elf_1_start) and (elf_2_start <= elf_1_end):\n",
    "        # print(f'Overlap: {elf_2_start} >= {elf_1_start} and {elf_2_start} <= {elf_1_end}')\n",
    "        new_total += 1\n",
    "    elif (elf_1_start >= elf_2_start) and (elf_1_start <= elf_2_end):\n",
    "        # print(f'Overlap: {elf_1_start} >= {elf_2_start} and {elf_1_start} <= {elf_2_end}')\n",
    "        new_total += 1"
   ]
  },
  {
   "cell_type": "code",
   "execution_count": 74,
   "id": "644eb3b4",
   "metadata": {},
   "outputs": [
    {
     "data": {
      "text/plain": [
       "833"
      ]
     },
     "execution_count": 74,
     "metadata": {},
     "output_type": "execute_result"
    }
   ],
   "source": [
    "new_total"
   ]
  },
  {
   "cell_type": "markdown",
   "id": "4db14e74",
   "metadata": {},
   "source": [
    "### Answer"
   ]
  },
  {
   "cell_type": "code",
   "execution_count": 75,
   "id": "4db14e74",
   "metadata": {},
   "outputs": [
    {
     "name": "stdout",
     "output_type": "stream",
     "text": [
      "New total: 833\n"
     ]
    }
   ],
   "source": [
    "print(f'New total: {new_total}')"
   ]
  }
 ],
 "metadata": {
  "kernelspec": {
   "display_name": "Python 3",
   "language": "python",
   "name": "python3"
  },
  "language_info": {
   "codemirror_mode": {
    "name": "ipython",
    "version": 3
   },
   "file_extension": ".py",
   "mimetype": "text/x-python",
   "name": "python",
   "nbconvert_exporter": "python",
   "pygments_lexer": "ipython3",
   "version": "3.10.12"
  }
 },
 "nbformat": 4,
 "nbformat_minor": 5
}
