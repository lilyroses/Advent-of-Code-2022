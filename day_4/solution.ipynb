{
 "cells": [
  {
   "cell_type": "markdown",
   "id": "4f6d7815",
   "metadata": {},
   "source": [
    "# Day 4: Camp Cleanup Solution\n",
    "\n",
    "- [Homepage](https://adventofcode.com/2022)\n",
    "- [Day 4 Challenge](https://adventofcode.com/2022/day/4)\n",
    "- [Input Data](https://adventofcode.com/2022/day/4/input)\n"
   ]
  },
  {
   "cell_type": "markdown",
   "id": "b3048c03",
   "metadata": {},
   "source": [
    "---\n",
    "\n",
    "## Part I\n"
   ]
  },
  {
   "cell_type": "code",
   "execution_count": null,
   "id": "ad22f2f5",
   "metadata": {},
   "outputs": [],
   "source": [
    "input_file = 'input.txt'"
   ]
  },
  {
   "cell_type": "markdown",
   "id": "8bcb2f15",
   "metadata": {},
   "source": [
    "### Answer"
   ]
  },
  {
   "cell_type": "code",
   "execution_count": null,
   "id": "6e40e1fa",
   "metadata": {},
   "outputs": [],
   "source": []
  },
  {
   "cell_type": "markdown",
   "id": "73dbf37e",
   "metadata": {},
   "source": [
    "---\n",
    "    \n",
    "## Part II\n"
   ]
  },
  {
   "cell_type": "code",
   "execution_count": null,
   "id": "8a4f47cb",
   "metadata": {},
   "outputs": [],
   "source": []
  },
  {
   "cell_type": "markdown",
   "id": "4db14e74",
   "metadata": {},
   "source": [
    "### Answer"
   ]
  },
  {
   "cell_type": "code",
   "execution_count": null,
   "id": "cf1b9fcb",
   "metadata": {},
   "outputs": [],
   "source": []
  }
 ],
 "metadata": {},
 "nbformat": 4,
 "nbformat_minor": 5
}
