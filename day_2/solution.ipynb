{
 "cells": [
  {
   "cell_type": "code",
   "execution_count": 19,
   "metadata": {},
   "outputs": [],
   "source": [
    "move_codes = {\n",
    "    'A': 'rock',\n",
    "    'B': 'paper',\n",
    "    'C': 'scissors',\n",
    "    'X': 'rock',\n",
    "    'Y': 'paper',\n",
    "    'Z': 'scissors',\n",
    "    'rock': 1,\n",
    "    'paper': 2,\n",
    "    'scissors': 3\n",
    "}\n",
    "\n",
    "loss = 0\n",
    "tie = 3\n",
    "win = 6"
   ]
  },
  {
   "cell_type": "code",
   "execution_count": 21,
   "metadata": {},
   "outputs": [
    {
     "data": {
      "text/plain": [
       "10624"
      ]
     },
     "execution_count": 21,
     "metadata": {},
     "output_type": "execute_result"
    }
   ],
   "source": [
    "\n",
    "input_file = 'input.txt'\n",
    "\n",
    "with open(input_file, 'r') as f:\n",
    "    rounds = f.readlines()\n",
    "\n",
    "round_scores = []\n",
    "\n",
    "for round in rounds:\n",
    "    moves = round.split()\n",
    "    opponent_move = move_codes[moves[0]]\n",
    "    my_move = move_codes[moves[1]]\n",
    "\n",
    "    round_score = 0\n",
    "    if my_move == opponent_move:\n",
    "        round_score += tie\n",
    "    elif opponent_move == 'rock':\n",
    "        if my_move == 'paper':\n",
    "            round_score += win\n",
    "        elif my_move == 'scissors':\n",
    "            round_score += loss\n",
    "    elif opponent_move == 'paper':\n",
    "        if my_move == 'scissors':\n",
    "            round_score += win\n",
    "        elif my_move == 'rock':\n",
    "            round_score += loss\n",
    "    else:\n",
    "        if my_move == 'rock':\n",
    "            round_score += win\n",
    "        elif my_move == 'paper':\n",
    "            round_score += loss\n",
    "\n",
    "    round_score += move_codes[my_move]\n",
    "     \n",
    "    round_scores.append(round_score)\n",
    "\n",
    "total = sum(round_scores)\n",
    "total"
   ]
  }
 ],
 "metadata": {
  "kernelspec": {
   "display_name": "Python 3",
   "language": "python",
   "name": "python3"
  },
  "language_info": {
   "codemirror_mode": {
    "name": "ipython",
    "version": 3
   },
   "file_extension": ".py",
   "mimetype": "text/x-python",
   "name": "python",
   "nbconvert_exporter": "python",
   "pygments_lexer": "ipython3",
   "version": "3.10.12"
  },
  "orig_nbformat": 4
 },
 "nbformat": 4,
 "nbformat_minor": 2
}
