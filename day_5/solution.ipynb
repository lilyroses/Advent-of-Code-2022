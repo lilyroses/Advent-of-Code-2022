{
 "cells": [
  {
   "cell_type": "markdown",
   "id": "9532e8db",
   "metadata": {},
   "source": [
    "# Day 5: Supply Stacks Solution\n",
    "\n",
    "- [Homepage](https://adventofcode.com/2022)\n",
    "- [Day 5 Challenge](https://adventofcode.com/2022/day/5)\n",
    "- [Input Data](https://adventofcode.com/2022/day/5/input)\n"
   ]
  },
  {
   "cell_type": "markdown",
   "id": "41b784b7",
   "metadata": {},
   "source": [
    "---\n",
    "\n",
    "## Part I\n"
   ]
  },
  {
   "cell_type": "code",
   "execution_count": 202,
   "id": "47993412",
   "metadata": {},
   "outputs": [],
   "source": [
    "from itertools import islice"
   ]
  },
  {
   "cell_type": "code",
   "execution_count": 3,
   "id": "c2e62afc",
   "metadata": {},
   "outputs": [],
   "source": [
    "input_file = 'input.txt'"
   ]
  },
  {
   "cell_type": "code",
   "execution_count": 149,
   "id": "5e511884",
   "metadata": {},
   "outputs": [],
   "source": [
    "with open(input_file, 'r') as f:\n",
    "    # lines = [line.strip('\\n') for line in f.readlines()]\n",
    "    \n",
    "    # Read in all the input data as one huge string, to be \n",
    "    # parsed later\n",
    "    data = f.read()"
   ]
  },
  {
   "cell_type": "code",
   "execution_count": 150,
   "id": "c4ab694e",
   "metadata": {},
   "outputs": [],
   "source": [
    "# Break apart that huge string (data) into individual lines, separated\n",
    "# by newline characters\n",
    "lines = [line for line in data.split('\\n')]"
   ]
  },
  {
   "cell_type": "code",
   "execution_count": 159,
   "id": "22462747",
   "metadata": {},
   "outputs": [
    {
     "data": {
      "text/plain": [
       "True"
      ]
     },
     "execution_count": 159,
     "metadata": {},
     "output_type": "execute_result"
    }
   ],
   "source": [
    "# Separate out the lines containing the crates array\n",
    "crate_lines = [line for line in lines if '[' in line]\n",
    "\n",
    "# crate_lines\n",
    "\n",
    "# There should be 8 crate lines, as there are 8 crates in the highest columns\n",
    "# (we know this from simply viewing the output of `crate_lines`)\n",
    "len(crate_lines) == 8"
   ]
  },
  {
   "cell_type": "code",
   "execution_count": 160,
   "id": "0d2a53c8",
   "metadata": {},
   "outputs": [],
   "source": [
    "# Lines containing the move instructions\n",
    "move_lines = [line for line in lines if 'move' in line]\n",
    "\n",
    "# move_lines"
   ]
  },
  {
   "cell_type": "markdown",
   "id": "cf629a65",
   "metadata": {},
   "source": [
    "---\n",
    "\n",
    "## Error Checking\n",
    "\n",
    "Check if all the lines from the `input.txt` file were properly parsed when\n",
    "creating the `crate_lines` and `move_lines` lists. \n",
    "\n",
    "First we check if there are any lines that were not added to those lists, by creating the `leftover_lines` list.\n",
    "\n",
    "Then we add the length of all 3 lists, `crate_lines`, `move_lines`, and\n",
    "`leftover_lines`. This should equal the length of the original `lines` list if no lines have been accidentally excluded from one of the three lists."
   ]
  },
  {
   "cell_type": "code",
   "execution_count": 183,
   "id": "6c964339",
   "metadata": {},
   "outputs": [],
   "source": [
    "# Just to check if all lines were properly parsed\n",
    "leftover_lines = [line for line in lines if \n",
    "                    ('[' not in line) and\n",
    "                    ('move' not in line)]"
   ]
  },
  {
   "cell_type": "code",
   "execution_count": 168,
   "id": "47c41f1b",
   "metadata": {},
   "outputs": [],
   "source": [
    "# The total number of lines in the original lines list\n",
    "number_of_total_lines = len(lines)"
   ]
  },
  {
   "cell_type": "code",
   "execution_count": 181,
   "id": "6e5eb879",
   "metadata": {},
   "outputs": [],
   "source": [
    "# The number of total lines in the lists created to hold specific items\n",
    "number_of_parsed_lines = len(crate_lines) + \\\n",
    "                         len(move_lines)  + \\\n",
    "                         len(leftover_lines)"
   ]
  },
  {
   "cell_type": "code",
   "execution_count": 179,
   "id": "0ede7e29",
   "metadata": {},
   "outputs": [],
   "source": [
    "# Now check if the number of lines add up correctly\n",
    "def check_number_of_lines(total_lines_custom_lists: int,\n",
    "                          lines_original_list: int,\n",
    "                          verbose=False) -> str:\n",
    "    \"\"\"Compare lengths of custom and original lists to ensure no lines were omitted.\n",
    "    \n",
    "    Add the number of lines in each custom list and compare it to the number of lines\n",
    "    in the original list. This will indicate if any lines were left out of the custom\n",
    "    generated lists.\n",
    "    \n",
    "    Args:\n",
    "        total_lines_custom_lists (int) : the len() of each custom list, added together\n",
    "        lines_original_list (int) : the len() of the original list\n",
    "    \"\"\"\n",
    "    \n",
    "    # The result is derived from comparing the values of x and y\n",
    "    if total_lines_custom_lists == lines_original_list: \n",
    "        check = 'OK'\n",
    "    else:\n",
    "        check = 'ERROR'\n",
    "\n",
    "    # The result of the check\n",
    "    result = f'LINES: {check}'\n",
    "\n",
    "    # If option for verbose is set to True, return more info on why\n",
    "    # the check failed or not by comparing the numbers\n",
    "    if verbose == True:\n",
    "        result += f' [{total_lines_custom_lists}/{lines_original_list}]'\n",
    "    \n",
    "    # The final result message\n",
    "    return result"
   ]
  },
  {
   "cell_type": "code",
   "execution_count": 184,
   "id": "cbd31129",
   "metadata": {},
   "outputs": [
    {
     "name": "stdout",
     "output_type": "stream",
     "text": [
      "LINES: OK [511/511]\n"
     ]
    }
   ],
   "source": [
    "ans = check_number_of_lines(number_of_parsed_lines,\n",
    "                            number_of_total_lines,\n",
    "                            verbose=True)\n",
    "\n",
    "print(ans)"
   ]
  },
  {
   "cell_type": "markdown",
   "id": "7e439cb1",
   "metadata": {},
   "source": [
    "---\n",
    "\n",
    "## Build Columns of Crates"
   ]
  },
  {
   "cell_type": "code",
   "execution_count": 224,
   "id": "fd8828f4",
   "metadata": {},
   "outputs": [
    {
     "data": {
      "text/plain": [
       "['....[W].........[J].....[J]........',\n",
       " '....[V].....[F].[F].[S].[S]........',\n",
       " '....[S].[M].[R].[W].[M].[C]........',\n",
       " '....[M].[G].[W].[S].[F].[G].....[C]',\n",
       " '[W].[P].[S].[M].[H].[N].[F].....[L]',\n",
       " '[R].[H].[T].[D].[L].[D].[D].[B].[W]',\n",
       " '[T].[C].[L].[H].[Q].[J].[B].[T].[N]',\n",
       " '[G].[G].[C].[J].[P].[P].[Z].[R].[H]']"
      ]
     },
     "execution_count": 224,
     "metadata": {},
     "output_type": "execute_result"
    }
   ],
   "source": [
    "# Add . characters to the lines of crates to view the empty slots\n",
    "# more easily\n",
    "rows = []\n",
    "\n",
    "for line in crate_lines[:8]:\n",
    "    row = line.replace(' ', '.')\n",
    "    rows.append(row)\n",
    "\n",
    "rows"
   ]
  },
  {
   "cell_type": "code",
   "execution_count": 225,
   "id": "3cfbb980",
   "metadata": {},
   "outputs": [],
   "source": [
    "third_column = []\n",
    "fourth_column = []\n",
    "fifth_column = []\n",
    "sixth_column = []\n",
    "seventh_column = []\n",
    "eighth_column = []\n",
    "ninth_column = []"
   ]
  },
  {
   "cell_type": "markdown",
   "id": "5f080bdc",
   "metadata": {},
   "source": [
    "---\n",
    "\n",
    "### Build the First Column"
   ]
  },
  {
   "cell_type": "code",
   "execution_count": 222,
   "id": "1ed14d51",
   "metadata": {},
   "outputs": [
    {
     "data": {
      "text/plain": [
       "['.', '.', '.', '.', 'W', 'R', 'T', 'G']"
      ]
     },
     "execution_count": 222,
     "metadata": {},
     "output_type": "execute_result"
    }
   ],
   "source": [
    "# Build the first column\n",
    "first_column = []\n",
    "\n",
    "for row in rows:\n",
    "    column_1 = row[1:2]\n",
    "    for crate in column_1:\n",
    "        first_column.append(crate)\n",
    "        \n",
    "first_column"
   ]
  },
  {
   "cell_type": "markdown",
   "id": "66fc524a",
   "metadata": {},
   "source": [
    "---\n",
    "\n",
    "### Build the Second Column"
   ]
  },
  {
   "cell_type": "code",
   "execution_count": 233,
   "id": "748f8964",
   "metadata": {},
   "outputs": [
    {
     "data": {
      "text/plain": [
       "['W', 'V', 'S', 'M', 'P', 'H', 'C', 'G']"
      ]
     },
     "execution_count": 233,
     "metadata": {},
     "output_type": "execute_result"
    }
   ],
   "source": [
    "second_column = []\n",
    "\n",
    "for row in rows:\n",
    "    column_2 = row[5:6]\n",
    "    for crate in column_2:\n",
    "        second_column.append(crate)\n",
    "        \n",
    "second_column"
   ]
  },
  {
   "cell_type": "markdown",
   "id": "1cf84bcb",
   "metadata": {},
   "source": [
    "---\n",
    "\n",
    "### Build the Third Column"
   ]
  },
  {
   "cell_type": "code",
   "execution_count": 236,
   "id": "2875ebd5",
   "metadata": {},
   "outputs": [
    {
     "data": {
      "text/plain": [
       "['.', '.', 'M', 'G', 'S', 'T', 'L', 'C']"
      ]
     },
     "execution_count": 236,
     "metadata": {},
     "output_type": "execute_result"
    }
   ],
   "source": [
    "third_column = []\n",
    "\n",
    "for row in rows:\n",
    "    column_3 = row[9:10]\n",
    "    for crate in column_3:\n",
    "        third_column.append(crate)\n",
    "        \n",
    "third_column"
   ]
  },
  {
   "cell_type": "markdown",
   "id": "8f0d4d84",
   "metadata": {},
   "source": [
    "---\n",
    "\n",
    "### Build the Fourth Column"
   ]
  },
  {
   "cell_type": "code",
   "execution_count": 237,
   "id": "918d8145",
   "metadata": {},
   "outputs": [
    {
     "data": {
      "text/plain": [
       "['.', 'F', 'R', 'W', 'M', 'D', 'H', 'J']"
      ]
     },
     "execution_count": 237,
     "metadata": {},
     "output_type": "execute_result"
    }
   ],
   "source": [
    "fourth_column = []\n",
    "\n",
    "for row in rows:\n",
    "    column_4 = row[13:14]\n",
    "    for crate in column_4:\n",
    "        fourth_column.append(crate)\n",
    "        \n",
    "fourth_column"
   ]
  },
  {
   "cell_type": "markdown",
   "id": "f2b0579f",
   "metadata": {},
   "source": [
    "---\n",
    "\n",
    "### Build the Fifth Column"
   ]
  },
  {
   "cell_type": "code",
   "execution_count": 238,
   "id": "bcdfd96e",
   "metadata": {},
   "outputs": [
    {
     "data": {
      "text/plain": [
       "['J', 'F', 'W', 'S', 'H', 'L', 'Q', 'P']"
      ]
     },
     "execution_count": 238,
     "metadata": {},
     "output_type": "execute_result"
    }
   ],
   "source": [
    "fifth_column = []\n",
    "\n",
    "for row in rows:\n",
    "    column_5 = row[17:18]\n",
    "    for crate in column_5:\n",
    "        fifth_column.append(crate)\n",
    "        \n",
    "fifth_column"
   ]
  },
  {
   "cell_type": "markdown",
   "id": "43b63e22",
   "metadata": {},
   "source": [
    "---\n",
    "\n",
    "### Build the Sixth Column"
   ]
  },
  {
   "cell_type": "code",
   "execution_count": 240,
   "id": "74ea1b2e",
   "metadata": {},
   "outputs": [
    {
     "data": {
      "text/plain": [
       "['.', 'S', 'M', 'F', 'N', 'D', 'J', 'P']"
      ]
     },
     "execution_count": 240,
     "metadata": {},
     "output_type": "execute_result"
    }
   ],
   "source": [
    "sixth_column = []\n",
    "\n",
    "for row in rows:\n",
    "    column_6 = row[21:22]\n",
    "    for crate in column_6:\n",
    "        sixth_column.append(crate)\n",
    "        \n",
    "sixth_column"
   ]
  },
  {
   "cell_type": "markdown",
   "id": "bddfaa36",
   "metadata": {},
   "source": [
    "---\n",
    "\n",
    "### Build the Seventh Column"
   ]
  },
  {
   "cell_type": "code",
   "execution_count": 242,
   "id": "a7060b77",
   "metadata": {},
   "outputs": [
    {
     "data": {
      "text/plain": [
       "['J', 'S', 'C', 'G', 'F', 'D', 'B', 'Z']"
      ]
     },
     "execution_count": 242,
     "metadata": {},
     "output_type": "execute_result"
    }
   ],
   "source": [
    "seventh_column = []\n",
    "\n",
    "for row in rows:\n",
    "    column_7 = row[25:26]\n",
    "    for crate in column_7:\n",
    "        seventh_column.append(crate)\n",
    "        \n",
    "seventh_column"
   ]
  },
  {
   "cell_type": "markdown",
   "id": "81f77e4a",
   "metadata": {},
   "source": [
    "---\n",
    "\n",
    "### Build the Eighth Column"
   ]
  },
  {
   "cell_type": "code",
   "execution_count": 243,
   "id": "0259511f",
   "metadata": {},
   "outputs": [
    {
     "data": {
      "text/plain": [
       "['.', '.', '.', '.', '.', 'B', 'T', 'R']"
      ]
     },
     "execution_count": 243,
     "metadata": {},
     "output_type": "execute_result"
    }
   ],
   "source": [
    "eighth_column = []\n",
    "\n",
    "for row in rows:\n",
    "    column_8 = row[29:30]\n",
    "    for crate in column_8:\n",
    "        eighth_column.append(crate)\n",
    "        \n",
    "eighth_column"
   ]
  },
  {
   "cell_type": "markdown",
   "id": "9d3d4b17",
   "metadata": {},
   "source": [
    "---\n",
    "\n",
    "### Build the Ninth Column"
   ]
  },
  {
   "cell_type": "code",
   "execution_count": 244,
   "id": "4bf7f736",
   "metadata": {},
   "outputs": [
    {
     "data": {
      "text/plain": [
       "['.', '.', '.', 'C', 'L', 'W', 'N', 'H']"
      ]
     },
     "execution_count": 244,
     "metadata": {},
     "output_type": "execute_result"
    }
   ],
   "source": [
    "ninth_column = []\n",
    "\n",
    "for row in rows:\n",
    "    column_9 = row[33:34]\n",
    "    for crate in column_9:\n",
    "        ninth_column.append(crate)\n",
    "        \n",
    "ninth_column"
   ]
  },
  {
   "cell_type": "markdown",
   "id": "d310f5a9",
   "metadata": {},
   "source": [
    "---\n",
    "\n",
    "## Next Steps"
   ]
  },
  {
   "cell_type": "code",
   "execution_count": 65,
   "id": "c2776dfe",
   "metadata": {},
   "outputs": [],
   "source": [
    "crate_lines = [list(line) for line in lines[:8]]\n",
    "# crate_lines"
   ]
  },
  {
   "cell_type": "code",
   "execution_count": 6,
   "id": "f5532c21",
   "metadata": {},
   "outputs": [],
   "source": [
    "move_lines = lines[10:]"
   ]
  },
  {
   "cell_type": "code",
   "execution_count": 78,
   "id": "a964ade5",
   "metadata": {},
   "outputs": [
    {
     "name": "stdout",
     "output_type": "stream",
     "text": [
      "[('[', 'G', ']', ' '), ('[', 'G', ']', ' '), ('[', 'C', ']', ' '), ('[', 'J', ']', ' '), ('[', 'P', ']', ' '), ('[', 'P', ']', ' '), ('[', 'Z', ']', ' '), ('[', 'R', ']', ' '), ('[', 'H', ']')]\n"
     ]
    }
   ],
   "source": []
  },
  {
   "cell_type": "markdown",
   "id": "4aa56f13",
   "metadata": {},
   "source": [
    "### Answer"
   ]
  },
  {
   "cell_type": "code",
   "execution_count": null,
   "id": "9e8bbe0d",
   "metadata": {},
   "outputs": [],
   "source": []
  },
  {
   "cell_type": "markdown",
   "id": "67e94f2f",
   "metadata": {},
   "source": [
    "---\n",
    "    \n",
    "## Part II\n"
   ]
  },
  {
   "cell_type": "code",
   "execution_count": null,
   "id": "4a1e7cd0",
   "metadata": {},
   "outputs": [],
   "source": []
  },
  {
   "cell_type": "markdown",
   "id": "51b10009",
   "metadata": {},
   "source": [
    "### Answer"
   ]
  },
  {
   "cell_type": "code",
   "execution_count": null,
   "id": "d506c184",
   "metadata": {},
   "outputs": [],
   "source": []
  }
 ],
 "metadata": {
  "kernelspec": {
   "display_name": "Python 3",
   "language": "python",
   "name": "python3"
  },
  "language_info": {
   "codemirror_mode": {
    "name": "ipython",
    "version": 3
   },
   "file_extension": ".py",
   "mimetype": "text/x-python",
   "name": "python",
   "nbconvert_exporter": "python",
   "pygments_lexer": "ipython3",
   "version": "3.10.12"
  }
 },
 "nbformat": 4,
 "nbformat_minor": 5
}
