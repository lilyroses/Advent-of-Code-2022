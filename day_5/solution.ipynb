{
 "cells": [
  {
   "cell_type": "markdown",
   "id": "f79849f4",
   "metadata": {},
   "source": [
    "# Day 5: Supply Stacks Solution\n",
    "\n",
    "- [Homepage](https://adventofcode.com/2022)\n",
    "- [Day 5 Challenge](https://adventofcode.com/2022/day/5)\n",
    "- [Input Data](https://adventofcode.com/2022/day/5/input)\n"
   ]
  },
  {
   "cell_type": "markdown",
   "id": "e9a4cbab",
   "metadata": {},
   "source": [
    "---\n",
    "\n",
    "## Part I"
   ]
  },
  {
   "cell_type": "code",
   "execution_count": 1,
   "id": "decf89b3",
   "metadata": {},
   "outputs": [],
   "source": [
    "from typing import List"
   ]
  },
  {
   "cell_type": "markdown",
   "id": "9b7de06b",
   "metadata": {},
   "source": [
    "---\n",
    "\n",
    "### Read Input Data and Parse Lines"
   ]
  },
  {
   "cell_type": "code",
   "execution_count": 2,
   "id": "773bee57",
   "metadata": {},
   "outputs": [],
   "source": [
    "input_file = 'input.txt'"
   ]
  },
  {
   "cell_type": "markdown",
   "id": "7e703918",
   "metadata": {},
   "source": [
    "---\n",
    "\n",
    "#### ALL LINES"
   ]
  },
  {
   "cell_type": "code",
   "execution_count": 3,
   "id": "e9bcc09b",
   "metadata": {},
   "outputs": [],
   "source": [
    "# Read in all lines from input data\n",
    "with open(input_file, 'r') as f:\n",
    "    lines = [line.strip('\\n') for line in f.readlines()]\n",
    "    \n",
    "# lines"
   ]
  },
  {
   "cell_type": "markdown",
   "id": "b75ea518",
   "metadata": {},
   "source": [
    "---\n",
    "\n",
    "#### CRATE LINES"
   ]
  },
  {
   "cell_type": "markdown",
   "id": "a0296f2f",
   "metadata": {},
   "source": [
    "##### Crate Rows (Lists)\n",
    "\n",
    "Parse the lines list to retrieve all lines contianing `[` characters, \n",
    "as these lines are the lines containing crate information.\n",
    "\n",
    "However, the final list of lists (`crate_rows`) does NOT preserve the\n",
    "bracket characters, and in fact purposely slices them out by using,\n",
    "list slicing (`line[1::4]`) to retrieve every 4th character from the\n",
    "`line` list.\n",
    "\n",
    "We know that every 4th character is the letter of the crate (or an\n",
    "empty space where there is no crate) from inspecting the lines\n",
    "containing crate information."
   ]
  },
  {
   "cell_type": "code",
   "execution_count": 4,
   "id": "6b51c753",
   "metadata": {},
   "outputs": [],
   "source": [
    "# Parse the lines with the crate information from 'lines' list\n",
    "\n",
    "# Crate lines contain '[' characters, so first save those lines to\n",
    "# crate_rows.\n",
    "\n",
    "# Next, we extract just the crate's letters, removing brackets by\n",
    "# slicing every fourth character from the line ([1::4]).\n",
    "\n",
    "# Finally, replace the spaces in the line with . characters to preserve\n",
    "# crate positions and to help with visual row representation.  \n",
    "crate_rows = [[crates for crates in line[1::4].replace(' ', '.')]\n",
    "               for line in lines if '[' in line]\n",
    "                                                  \n",
    "# crate_rows"
   ]
  },
  {
   "cell_type": "markdown",
   "id": "c55b52a0",
   "metadata": {},
   "source": [
    "##### Crate Columns (Lists)\n",
    "\n",
    "`columns` is a list of lists, where each list contains each crate\n",
    "letter for that column.\n",
    "\n",
    "`crate_columns` takes each list in `crate_columns` and reverses\n",
    "it, so that the bottom-most crate for each column has an index of\n",
    "`0`, and the top-most crate has an index of `-1`."
   ]
  },
  {
   "cell_type": "code",
   "execution_count": 5,
   "id": "dc01b698",
   "metadata": {},
   "outputs": [],
   "source": [
    "# THIS WORKS!!!!\n",
    "\n",
    "# Create CRATE COLUMN lists from the CRATE ROWS list using matrix\n",
    "# transposing. Also, remove the '.' characters from the lists as we\n",
    "# no longer need them to preserve crate position integrity\n",
    "crate_columns_reversed = [[crate_row[i] for crate_row in crate_rows\n",
    "                  if (crate_row[i] != '.')]\n",
    "                 for i in range(len(crate_rows) + 1)]\n",
    "\n",
    "# crate_columns_reversed"
   ]
  },
  {
   "cell_type": "code",
   "execution_count": 6,
   "id": "18e0e03e",
   "metadata": {},
   "outputs": [],
   "source": [
    "# Take all column lists and REVERSE them so that the BOTTOM\n",
    "# CRATE has index 0 and the TOP CRATE has index -1\n",
    "crate_columns = [column[::-1] for\n",
    "                column in crate_columns_reversed]\n",
    "\n",
    "# crate_columns"
   ]
  },
  {
   "cell_type": "markdown",
   "id": "ea2fd4be",
   "metadata": {},
   "source": [
    "*Count the total number of crates for error checking later.*"
   ]
  },
  {
   "cell_type": "code",
   "execution_count": 7,
   "id": "4722bf3b",
   "metadata": {},
   "outputs": [],
   "source": [
    "# # DEBUG CELL\n",
    "# def check_total_crates(cols):\n",
    "#     total_crates = 0\n",
    "\n",
    "#     for crate_column in crate_columns:\n",
    "#         total_crates += len(crate_column)\n",
    "    \n",
    "#     return total_crates\n",
    "\n",
    "# check_total_crates(crate_columns)"
   ]
  },
  {
   "cell_type": "markdown",
   "id": "fbfc12e3",
   "metadata": {},
   "source": [
    "---\n",
    "\n",
    "#### Move Lines\n",
    "\n",
    "Extract all the lines containing the move instructions from the\n",
    "`lines` list, by checking if the word `move` occurs in the line.\n",
    "\n",
    "Then, for each move line, extract all three numbers from the line\n",
    "using list slicing to pull every second word from the line.\n",
    "\n",
    "Change these string numbers to actual integers, save them to a list,\n",
    "`move_ints`, and save that list to a larger list, `moves`."
   ]
  },
  {
   "cell_type": "code",
   "execution_count": 8,
   "id": "31fd1632",
   "metadata": {},
   "outputs": [],
   "source": [
    "move_lines = [line for line in lines if 'move' in line]\n",
    "\n",
    "# len(move_lines)\n",
    "# move_lines"
   ]
  },
  {
   "cell_type": "markdown",
   "id": "c005265a",
   "metadata": {},
   "source": [
    "The lists of integers from the move lines."
   ]
  },
  {
   "cell_type": "code",
   "execution_count": 9,
   "id": "2b793303",
   "metadata": {},
   "outputs": [],
   "source": [
    "moves = [[int(item) for item in\n",
    "          move_line.split()[1::2]]\n",
    "         for move_line in move_lines]\n",
    "\n",
    "# len(moves)\n",
    "# moves"
   ]
  },
  {
   "cell_type": "markdown",
   "id": "4c4f150e",
   "metadata": {},
   "source": [
    "---\n",
    "\n",
    "### Move the Crates"
   ]
  },
  {
   "cell_type": "code",
   "execution_count": 10,
   "id": "ec387bb9",
   "metadata": {},
   "outputs": [],
   "source": [
    "def move_crates(move):\n",
    "\n",
    "      # Step 1: parse move into 3 parts:\n",
    "    number_of_crates = move[0]\n",
    "    start_column_index = move[1] - 1\n",
    "    end_column_index = move[2] - 1\n",
    "    \n",
    "      # Step 2: fetch the crate column lists from the columns matrix:\n",
    "    start_column_before = crate_columns[start_column_index]\n",
    "    end_column_before = crate_columns[end_column_index]\n",
    "    \n",
    "      # Step 3: reverse the start_column list to pull crates from\n",
    "      # the column\n",
    "    start_column_reversed = start_column_before\n",
    "    start_column_reversed.reverse()\n",
    "    \n",
    "      # Step 4: extract crates from start_column_reversed\n",
    "    crates_to_move = start_column_reversed[0:number_of_crates]\n",
    "    \n",
    "      # Step 5: append crates on to end_column_before\n",
    "    end_column_after = end_column_before + crates_to_move\n",
    "  \n",
    "      # Step 6: actually remove crates from start_column_before and\n",
    "      # reverse start_column_after so that the crates will be in their\n",
    "      # original order \n",
    "    start_column_after = start_column_reversed[number_of_crates:]\n",
    "    start_column_after.reverse()\n",
    "\n",
    "      # Step 7: update the crate_columns matrix with the updated\n",
    "      # columns\n",
    "    crate_columns[start_column_index] = start_column_after\n",
    "    crate_columns[end_column_index] = end_column_after\n",
    "    \n",
    "    return crate_columns "
   ]
  },
  {
   "cell_type": "code",
   "execution_count": 11,
   "id": "28428a53",
   "metadata": {},
   "outputs": [],
   "source": [
    "# check_total_crates(crate_columns)"
   ]
  },
  {
   "cell_type": "markdown",
   "id": "e8d71c95",
   "metadata": {},
   "source": [
    "---\n",
    "\n",
    "### Execute the Moves"
   ]
  },
  {
   "cell_type": "code",
   "execution_count": 12,
   "id": "788bc203",
   "metadata": {},
   "outputs": [],
   "source": [
    "for move in moves:\n",
    "    move_crates(move)"
   ]
  },
  {
   "cell_type": "code",
   "execution_count": 13,
   "id": "8a6d8c78",
   "metadata": {},
   "outputs": [
    {
     "data": {
      "text/plain": [
       "[['C', 'G', 'D', 'J', 'S', 'T', 'W', 'H', 'S', 'F', 'B', 'P', 'P', 'J'],\n",
       " ['D', 'C'],\n",
       " ['L', 'Q', 'J', 'W', 'S', 'M'],\n",
       " ['C',\n",
       "  'F',\n",
       "  'T',\n",
       "  'R',\n",
       "  'W',\n",
       "  'M',\n",
       "  'N',\n",
       "  'C',\n",
       "  'J',\n",
       "  'D',\n",
       "  'W',\n",
       "  'F',\n",
       "  'L',\n",
       "  'H',\n",
       "  'B',\n",
       "  'H'],\n",
       " ['S', 'N', 'L'],\n",
       " ['S', 'M', 'T', 'Z', 'F', 'V'],\n",
       " ['H', 'W', 'P', 'R', 'G', 'R', 'G'],\n",
       " ['M'],\n",
       " ['G']]"
      ]
     },
     "execution_count": 13,
     "metadata": {},
     "output_type": "execute_result"
    }
   ],
   "source": [
    "crate_columns"
   ]
  },
  {
   "cell_type": "code",
   "execution_count": 14,
   "id": "4ca11511",
   "metadata": {},
   "outputs": [
    {
     "data": {
      "text/plain": [
       "'JCMHLVGMG'"
      ]
     },
     "execution_count": 14,
     "metadata": {},
     "output_type": "execute_result"
    }
   ],
   "source": [
    "top_crates = ''\n",
    "\n",
    "for crate_column in crate_columns:\n",
    "    top_crate = crate_column[-1]\n",
    "    top_crates += top_crate\n",
    "    \n",
    "top_crates"
   ]
  },
  {
   "cell_type": "markdown",
   "id": "81a639e1",
   "metadata": {},
   "source": [
    "### Answer"
   ]
  },
  {
   "cell_type": "code",
   "execution_count": 15,
   "id": "13112977",
   "metadata": {},
   "outputs": [
    {
     "name": "stdout",
     "output_type": "stream",
     "text": [
      "JCMHLVGMG\n"
     ]
    }
   ],
   "source": [
    "# Answer is JCMHLVGMG (must clear all cell outputs and restart\n",
    "# kernel to get correct answer if re-running the notebook)\n",
    "\n",
    "print(top_crates)"
   ]
  },
  {
   "cell_type": "markdown",
   "id": "fbee717a",
   "metadata": {},
   "source": [
    "---\n",
    "    \n",
    "## Part II\n"
   ]
  },
  {
   "cell_type": "code",
   "execution_count": null,
   "id": "5ea2300f",
   "metadata": {},
   "outputs": [],
   "source": []
  },
  {
   "cell_type": "markdown",
   "id": "4cf83a6d",
   "metadata": {},
   "source": [
    "### Answer"
   ]
  },
  {
   "cell_type": "code",
   "execution_count": null,
   "id": "bd9e143d",
   "metadata": {},
   "outputs": [],
   "source": []
  }
 ],
 "metadata": {
  "kernelspec": {
   "display_name": "Python 3",
   "language": "python",
   "name": "python3"
  },
  "language_info": {
   "codemirror_mode": {
    "name": "ipython",
    "version": 3
   },
   "file_extension": ".py",
   "mimetype": "text/x-python",
   "name": "python",
   "nbconvert_exporter": "python",
   "pygments_lexer": "ipython3",
   "version": "3.10.12"
  }
 },
 "nbformat": 4,
 "nbformat_minor": 5
}
