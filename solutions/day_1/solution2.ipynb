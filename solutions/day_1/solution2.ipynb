{
 "cells": [
  {
   "cell_type": "markdown",
   "metadata": {},
   "source": [
    "# Day 1: Calorie Counting Solution\n",
    "\n",
    "*Advent of Code 2022*"
   ]
  },
  {
   "cell_type": "markdown",
   "metadata": {},
   "source": [
    "---\n",
    "\n",
    "## Part I"
   ]
  },
  {
   "cell_type": "code",
   "execution_count": 1,
   "metadata": {},
   "outputs": [],
   "source": [
    "#imports\n",
    ".\n",
    "from typing import List"
   ]
  },
  {
   "cell_type": "code",
   "execution_count": 2,
   "metadata": {},
   "outputs": [],
   "source": [
    "# Save file name to variable\n",
    "INPUT_FILE = 'input.txt'"
   ]
  },
  {
   "cell_type": "code",
   "execution_count": 3,
   "metadata": {},
   "outputs": [],
   "source": [
    "# Read in the data from the input.txt file to the program.\n",
    "with open(INPUT_FILE, 'r') as f:\n",
    "    # Save the data to a list, where each line of the data is its own list element,\n",
    "    # including the empty lines, which are saved as empty strings ('').\n",
    "    \n",
    "    # Use strip() to remove the newline characters ('\\n') from each item.\n",
    "    # This still preserves the blank line items (''), though.\n",
    "    lines = [line.strip() for line in f.readlines()]"
   ]
  },
  {
   "cell_type": "code",
   "execution_count": 4,
   "metadata": {},
   "outputs": [],
   "source": [
    "# Create a function to separate the list of strings.\n",
    "\n",
    "def find_calorie_totals(lines: List[str], sep: str) -> List[int]:\n",
    "    \"\"\"\n",
    "    Separate data into individual lists, delimited by the empty strings\n",
    "    within the main list object.\n",
    "    \n",
    "    Args:\n",
    "        lines (list) : a list element where every element is a string\n",
    "            of values that are chained with a delimiter string.\n",
    "        sep : a delimiter string which separates each set of values.\n",
    "    \"\"\"\n",
    " \n",
    "    # Holds all lists of elf food lists.\n",
    "    calorie_totals = []\n",
    "    # Used to construct each individual elf's calorie list.\n",
    "    current_food_list = []\n",
    "    \n",
    "    # Iterate over each line to split the values into proper lists.\n",
    "    for line in lines:\n",
    "        # Add the list elements to current_food_list until we reach an\n",
    "        # empty string (blank line).\n",
    "        if line != sep:\n",
    "            # Change the value from a string to an integer.\n",
    "            current_food_list.append(int(line))\n",
    "        # When an empty string is reached, the current list is\n",
    "        # complete.\n",
    "        else:\n",
    "            # Add the values of the list items to find the total\n",
    "            # calories.\n",
    "            calorie_total = sum(current_food_list)\n",
    "            # Append the total calorie value to a list to compare all\n",
    "            # total calorie values.\n",
    "            calorie_totals.append(calorie_total)\n",
    "            # Reset the current food list to empty so the next sublist\n",
    "            # can be built.\n",
    "            current_food_list = []\n",
    "    \n",
    "    # Return a list of integers representing the calorie totals.\n",
    "    return calorie_totals"
   ]
  },
  {
   "cell_type": "code",
   "execution_count": 5,
   "metadata": {},
   "outputs": [],
   "source": [
    "# Run function to find max calories for each elf.\n",
    "calorie_totals = find_calorie_totals(lines, '')"
   ]
  },
  {
   "cell_type": "code",
   "execution_count": 6,
   "metadata": {},
   "outputs": [
    {
     "ename": "ValueError",
     "evalue": "max() arg is an empty sequence",
     "output_type": "error",
     "traceback": [
      "\u001b[0;31m---------------------------------------------------------------------------\u001b[0m",
      "\u001b[0;31mValueError\u001b[0m                                Traceback (most recent call last)",
      "\u001b[1;32m/home/lilyroses/code/Advent-of-Code-2022/solutions/day_1/solution2.ipynb Cell 8\u001b[0m line \u001b[0;36m2\n\u001b[1;32m      <a href='vscode-notebook-cell://wsl%2Bubuntu/home/lilyroses/code/Advent-of-Code-2022/solutions/day_1/solution2.ipynb#X10sdnNjb2RlLXJlbW90ZQ%3D%3D?line=0'>1</a>\u001b[0m \u001b[39m# Use max function to find highest value.\u001b[39;00m\n\u001b[0;32m----> <a href='vscode-notebook-cell://wsl%2Bubuntu/home/lilyroses/code/Advent-of-Code-2022/solutions/day_1/solution2.ipynb#X10sdnNjb2RlLXJlbW90ZQ%3D%3D?line=1'>2</a>\u001b[0m max_calories \u001b[39m=\u001b[39m \u001b[39mmax\u001b[39;49m(calorie_totals)\n",
      "\u001b[0;31mValueError\u001b[0m: max() arg is an empty sequence"
     ]
    }
   ],
   "source": [
    "# Use max function to find highest value.\n",
    "max_calories = max(calorie_totals)"
   ]
  },
  {
   "cell_type": "markdown",
   "metadata": {},
   "source": [
    "### Answer"
   ]
  },
  {
   "cell_type": "code",
   "execution_count": null,
   "metadata": {},
   "outputs": [
    {
     "name": "stdout",
     "output_type": "stream",
     "text": [
      "Max calories: 70374\n"
     ]
    }
   ],
   "source": [
    "print(f'Max calories: {max_calories}')"
   ]
  },
  {
   "cell_type": "markdown",
   "metadata": {},
   "source": [
    "--- \n",
    "\n",
    "## Part II\n",
    "\n",
    "Find total amount of elves carrying top 3 amounts of calories."
   ]
  },
  {
   "cell_type": "code",
   "execution_count": null,
   "metadata": {},
   "outputs": [],
   "source": [
    "# Sort calorie totals by highest to lowest.\n",
    "sorted_calorie_totals = sorted(calorie_totals, reverse=True)\n",
    "\n",
    "# Find the top 3 by picking the first 3 values.\n",
    "top_three_calorie_totals = sorted_calorie_totals[0:3]\n",
    "total = sum(top_three_calorie_totals)"
   ]
  },
  {
   "cell_type": "code",
   "execution_count": null,
   "metadata": {},
   "outputs": [
    {
     "name": "stdout",
     "output_type": "stream",
     "text": [
      "Top 3 calorie values:\n",
      "      \n",
      "      1. 70374\n",
      "      2. 68996\n",
      "      3. 65240\n"
     ]
    }
   ],
   "source": [
    "# Top 3 highest calorie amounts\n",
    "first, second, third = top_three_calorie_totals\n",
    "\n",
    "print(f\"\"\"Top 3 calorie values:\n",
    "      \n",
    "      1. {first}\n",
    "      2. {second}\n",
    "      3. {third}\"\"\")"
   ]
  },
  {
   "cell_type": "markdown",
   "metadata": {},
   "source": [
    "### Answer"
   ]
  },
  {
   "cell_type": "code",
   "execution_count": null,
   "metadata": {},
   "outputs": [
    {
     "name": "stdout",
     "output_type": "stream",
     "text": [
      "\n",
      "Total: 204610\n"
     ]
    }
   ],
   "source": [
    "print(f\"\\nTotal: {total}\")"
   ]
  }
 ],
 "metadata": {
  "kernelspec": {
   "display_name": "Python 3",
   "language": "python",
   "name": "python3"
  },
  "language_info": {
   "codemirror_mode": {
    "name": "ipython",
    "version": 3
   },
   "file_extension": ".py",
   "mimetype": "text/x-python",
   "name": "python",
   "nbconvert_exporter": "python",
   "pygments_lexer": "ipython3",
   "version": "3.10.12"
  },
  "orig_nbformat": 4
 },
 "nbformat": 4,
 "nbformat_minor": 2
}
