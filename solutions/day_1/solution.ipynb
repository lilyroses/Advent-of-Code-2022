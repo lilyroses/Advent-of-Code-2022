{
 "cells": [
  {
   "cell_type": "markdown",
   "id": "b98b51fa",
   "metadata": {},
   "source": [
    "# Solution for Day 1: Counting Calories\n",
    "\n",
    "*Advent of Code 2022*"
   ]
  },
  {
   "cell_type": "markdown",
   "id": "db747adf",
   "metadata": {},
   "source": [
    "- [Homepage](https://adventofcode.com/2022/)\n",
    "\n",
    "- [Day 1 Challenge](https://adventofcode.com/2022/day/1)\n",
    "\n",
    "- [Input Data](https://adventofcode.com/2022/day/1/input)\n",
    "\n",
    "---"
   ]
  },
  {
   "cell_type": "markdown",
   "id": "ace3220c",
   "metadata": {},
   "source": [
    "## Part 0 - Setup\n",
    "\n",
    "For each challenge, the default behavior is to read in the input data as a list object, `lines`, where each line of data is an element in the list.\n",
    "\n",
    "After the `lines` object is created, it is examined to determine the number of lines, the data type of each line, and the elements composing the line.\n",
    "\n",
    "Based on the specific challenge's instructions, the essential components of each line are identified, and the best way to parse and handle the input data is determined.\n",
    "\n",
    "---"
   ]
  },
  {
   "cell_type": "markdown",
   "id": "9b9a2cae",
   "metadata": {},
   "source": [
    "### Read in Input Data"
   ]
  },
  {
   "cell_type": "code",
   "execution_count": 90,
   "id": "cbf3e75d",
   "metadata": {},
   "outputs": [],
   "source": [
    "# Each day's challenge folder has a text file named `input.txt`,\n",
    "# containing that day's challenge data.\n",
    "\n",
    "INPUT_FILE = 'input.txt'"
   ]
  },
  {
   "cell_type": "markdown",
   "id": "2e45787b",
   "metadata": {},
   "source": [
    "---\n",
    "\n",
    "### Creating the `lines` Object"
   ]
  },
  {
   "cell_type": "code",
   "execution_count": 91,
   "id": "6054d321",
   "metadata": {},
   "outputs": [],
   "source": [
    "# By default for each challenge, read in the data from the input.txt file as a\n",
    "# list object, where each line of input is an element in the list.\n",
    "\n",
    "with open(INPUT_FILE, 'r', encoding='utf-8') as f:\n",
    "    lines = [line.strip() for line in f.readlines()]\n",
    "\n",
    "# print(lines)"
   ]
  },
  {
   "cell_type": "markdown",
   "id": "4a1d5171",
   "metadata": {},
   "source": [
    "---\n",
    "\n",
    "### Examining the Input Data"
   ]
  },
  {
   "cell_type": "code",
   "execution_count": 92,
   "id": "54c7d75a",
   "metadata": {},
   "outputs": [
    {
     "name": "stdout",
     "output_type": "stream",
     "text": [
      "2234\n"
     ]
    }
   ],
   "source": [
    "# Number of lines\n",
    "print(len(lines))"
   ]
  },
  {
   "cell_type": "code",
   "execution_count": 93,
   "id": "10199cc5",
   "metadata": {},
   "outputs": [],
   "source": [
    "# Examine the contents of the lines object\n",
    "# for line in lines:\n",
    "    # print(line)"
   ]
  },
  {
   "cell_type": "code",
   "execution_count": 94,
   "id": "dc1537a7",
   "metadata": {},
   "outputs": [
    {
     "name": "stdout",
     "output_type": "stream",
     "text": [
      "{<class 'str'>}\n"
     ]
    }
   ],
   "source": [
    "# Determine data type of each line\n",
    "line_types = []\n",
    "\n",
    "for line in lines:\n",
    "    line_types.append(type(line))\n",
    "\n",
    "print(set(line_types))"
   ]
  },
  {
   "cell_type": "code",
   "execution_count": 95,
   "id": "78cc71cd",
   "metadata": {},
   "outputs": [],
   "source": [
    "# Determine individual line components\n",
    "# for line in lines:\n",
    "#     print(line.split())"
   ]
  },
  {
   "cell_type": "markdown",
   "id": "44cb0586",
   "metadata": {},
   "source": [
    "---\n",
    "\n",
    "## Part I\n",
    "\n",
    "Parse the `lines` object to best handle the data according to the challenge instructions.\n",
    "\n",
    "Create functions to handle each step of the challenge.\n",
    "\n",
    "---"
   ]
  },
  {
   "cell_type": "markdown",
   "id": "36d669a8",
   "metadata": {},
   "source": [
    "### Step 1: Convert Data to Proper Type\n",
    "\n",
    "Convert each non-blank line in `lines` from an integer type to a string type."
   ]
  },
  {
   "cell_type": "code",
   "execution_count": 96,
   "id": "a75842fd",
   "metadata": {},
   "outputs": [],
   "source": [
    "def convert_lines(lines: list[str]):\n",
    "    # Converts each line into a proper data type. In this case, converts\n",
    "    # each non-blank line into an integer type.\n",
    "    converted_lines = []\n",
    "\n",
    "    for line in lines:\n",
    "        if line != '':\n",
    "            converted_line = int(line)\n",
    "            converted_lines.append(converted_line)\n",
    "        else:\n",
    "            converted_lines.append(line)\n",
    "\n",
    "    return converted_lines"
   ]
  },
  {
   "cell_type": "code",
   "execution_count": 97,
   "id": "64b555f0",
   "metadata": {},
   "outputs": [],
   "source": [
    "converted_lines = convert_lines(lines)\n",
    "# assert len(converted_lines) == len(lines), 'E'"
   ]
  },
  {
   "cell_type": "markdown",
   "id": "b8848e3f",
   "metadata": {},
   "source": [
    "---\n",
    "\n",
    "### Step 2: Create Calorie Lists\n",
    "\n",
    "Create calorie lists from `lines`. Each line in the `lines` list holds a calorie value. Calorie values are grouped separated by blank lines. When a blank line is reached, the end of the current calorie list is reached.\n",
    "\n",
    " \n",
    "\n",
    "- `current_calorie_list` : (`list` of `int`s)\n",
    "    - A list of integers, built from `converted_lines`. When a blank line is reached, the list is appended to `all_calorie_lists`. The list is then reset, and the next calorie list is built.\n",
    "\n",
    "- `all_calorie_lists` : (`list` of `list`s of `int`s)\n",
    "    - A master list to hold all `current_calorie_list` lists."
   ]
  },
  {
   "cell_type": "code",
   "execution_count": 98,
   "id": "bc374de6",
   "metadata": {},
   "outputs": [],
   "source": [
    "def create_calorie_lists(converted_lines: list[int]):\n",
    "    # Create separate calorie lists from the converted lines.\n",
    "    # Append each of these calorie lists to a parent list, all_calorie_lists.\n",
    "\n",
    "    # Holds the current list of integer calorie values, using the converted_lines list.\n",
    "    # The calorie values are appended to current_calorie_list until a blank line in converted_lines\n",
    "    # is reached.\n",
    "    current_calorie_list = []\n",
    "    # Once a blank line in converted_lines is reached, the current calorie list ends, and is appended\n",
    "    # to all_calorie_lists. current_calorie_list is then emptied, and the next list built.\n",
    "    all_calorie_lists = []\n",
    "\n",
    "    # converted_lines contains the proper data types (ints) for the calorie value lines.\n",
    "    for line in converted_lines:\n",
    "        # If the line is a not blank line, we are still building the current calorie list.\n",
    "        if line != '':\n",
    "            # Add the current calorie value to the current list of calorie values.\n",
    "            current_calorie_list.append(line)\n",
    "        # If we reach a blank line, the current calorie list has ended.\n",
    "        else:\n",
    "            # Append the current calorie list to a list that contains all the calorie lists.\n",
    "            all_calorie_lists.append(current_calorie_list)\n",
    "            # Reset the current calorie list, so that we can build the next calorie list.\n",
    "            current_calorie_list = []\n",
    "\n",
    "    # Returns the list of lists of integer values.\n",
    "    return all_calorie_lists"
   ]
  },
  {
   "cell_type": "code",
   "execution_count": 99,
   "id": "eae0aef6",
   "metadata": {},
   "outputs": [
    {
     "name": "stdout",
     "output_type": "stream",
     "text": [
      "[6750, 6538, 5292, 4635, 6855, 4137, 3840, 4691, 1633, 6008, 2447, 1448, 4061]\n",
      "[4261, 6778, 1531, 2914, 2102, 4098, 2451, 1219, 6488, 3941, 2158]\n",
      "[9058, 3441, 9318, 1976, 6115, 9451, 10090, 5850]\n",
      "[4921, 3202, 3193, 4170, 1079, 1757, 5828, 1757, 2849, 1586, 5661, 2607, 2047, 5385]\n",
      "[7272, 20573, 13163]\n",
      "[10682, 5428, 3751, 9040, 1556, 1778, 8657, 9901]\n",
      "[4889, 6751, 5090]\n",
      "[12074, 19421, 3745, 10856]\n",
      "[15209, 13798, 15398, 15838, 4569]\n",
      "[2572, 4413, 3683, 12331, 6840]\n",
      "[8924, 7301, 1912, 7526, 4090, 6867, 3223, 1083, 2215]\n",
      "[1728, 12054, 13145, 4353, 12434, 3579]\n",
      "[24525, 23626]\n",
      "[4395, 11502, 14008, 10243, 1463]\n",
      "[4565, 5888, 3039, 5295, 1034, 3440, 2668, 7161, 5646]\n",
      "[6367, 8398, 5485, 8919, 6618, 2850, 6855, 5865]\n",
      "[6788, 7063, 6797, 3168, 7176, 1193, 1846, 1873, 5291, 1712, 2802]\n",
      "[3991, 4976, 2611, 3576, 3919, 3522, 3877, 2822, 3726, 5944, 4658, 6066, 4618]\n",
      "[6675, 12989, 2094, 2264, 13116, 11464]\n",
      "[6322, 2429, 4887]\n",
      "[6282, 11135, 3600, 3977, 6564, 1687, 3041]\n",
      "[48760]\n",
      "[3670, 16233, 6513, 15868, 12383]\n",
      "[10008, 9791, 3299, 4085, 5778, 10435, 7349]\n",
      "[5393, 1162, 4273, 3179, 3259, 1892, 8713, 7147, 8921]\n",
      "[7793, 5170, 3658, 6938, 5040, 6680, 1682, 1411, 4675, 2435]\n",
      "[19306, 33764]\n",
      "[5046, 5534, 5683, 4581, 5515, 4866, 1520, 1469, 3747, 3969, 4070, 3201, 4376, 3453, 5877]\n",
      "[13009, 23239, 20343]\n",
      "[11867, 14880]\n",
      "[2716, 1627, 2914, 2171, 3475, 4131, 2816, 2237, 1538, 3209, 4589, 4920, 2222, 3873, 5492]\n",
      "[4059, 3824, 2008, 1651, 5992, 5777, 6401, 5129, 1919, 2921, 1897, 5831, 5123]\n",
      "[5504, 6492, 3528, 5206, 5682, 5635, 6720, 3617, 1625, 5082, 1140]\n",
      "[3202, 4433, 8085, 6145, 1788, 5332, 5737, 2561, 1502, 5880]\n",
      "[19360, 15037, 9234, 1425]\n",
      "[6289, 2249, 6150, 5228, 4380, 4528, 4320, 1979, 3716, 2908, 4012, 7181]\n",
      "[2027, 5508, 3895, 8700]\n",
      "[6981, 5136, 2006, 2955, 7964, 8445, 1394, 4874, 5100, 6794]\n",
      "[5929, 7003, 3703, 7981, 7682, 4386, 8325, 7086]\n",
      "[6000, 8868, 12326, 3747, 2003, 6186]\n",
      "[5770, 5634, 1784, 9951, 8578, 13924]\n",
      "[2935, 24789, 21603]\n",
      "[8239, 10654, 12558, 5657, 14398]\n",
      "[1306, 7030, 4126, 3092, 7155, 3949, 5040, 5951, 6263, 5587, 1561, 6046]\n",
      "[34556]\n",
      "[5474, 3194, 1962, 7296, 8065, 2107, 7355, 4748, 4752, 7983, 7051]\n",
      "[19407]\n",
      "[7778, 1987, 7642, 1268, 5019, 3694, 2161, 6285, 1600, 5145]\n",
      "[8850, 14656, 2486, 10361, 2067]\n",
      "[6012, 4885, 4612, 1807, 7657, 6930, 1790, 6035, 5725]\n",
      "[6047, 2033, 6994, 2344, 5801, 1207, 5190, 3118, 3153, 1869, 6065, 3754]\n",
      "[4721, 1639, 2235, 3834, 4052, 4763, 1649, 2470, 4294, 2716, 5381, 6453]\n",
      "[2751, 7038, 1463, 2756, 2256, 3708, 1921, 4682]\n",
      "[7439, 1232, 3630, 7889, 2564, 7272, 5764, 5655, 7827, 6832]\n",
      "[7254, 6038, 3702, 6855, 4473, 1957, 1597, 7394, 2850, 3529, 6832, 6855]\n",
      "[3486, 3877, 6424, 5280, 5080, 4055, 1830, 1737, 4379, 1980, 5148, 5972]\n",
      "[10069, 4487, 14451, 7309, 8744]\n",
      "[8751, 4856, 4594, 3986, 4709, 4361, 4205, 1401, 5873, 5059]\n",
      "[2548, 6623, 3418, 6848, 2165, 6466, 4259, 2792, 1663, 5537, 1343]\n",
      "[15745, 5468, 8877, 18074]\n",
      "[6055, 14504, 12291, 8253, 5828]\n",
      "[25661]\n",
      "[7301, 9470, 9040, 1483, 2974, 7741, 8556, 7457]\n",
      "[1465, 4805, 2485, 2431, 6956, 2712, 7434, 1079, 2500, 1670]\n",
      "[2537, 5815, 5604, 2453, 3919, 2488, 2866, 5500, 4009, 1219, 6109, 3118, 4932, 4514, 1732]\n",
      "[2589, 6885, 7099, 8389, 4576, 4904, 3223, 4645, 1076, 1453]\n",
      "[6236, 9825, 7747, 4682]\n",
      "[2958, 4351, 3057, 2951, 6734, 1766, 4026, 2957, 8567, 7559]\n",
      "[5472, 5402, 4469, 4762, 3408, 5000, 3805, 3535, 4942, 3180, 3477, 1599, 5597, 1030]\n",
      "[2651, 4374, 6259, 3969, 6953, 5116, 3336, 4486, 5499, 3027, 1109, 6419, 4552]\n",
      "[2876, 6394, 5562, 5153, 2408, 6503, 1909, 3958, 2908, 1817, 5627]\n",
      "[1662, 7210, 5719, 4019, 3414, 9539, 7163, 5050, 7793]\n",
      "[1003, 4450, 5580, 2140, 3531, 4093, 4189, 2347, 4990, 2177, 5204, 3731, 1673, 2567, 2206]\n",
      "[5589, 3205, 6409, 7776, 4005, 1250, 7219, 6491]\n",
      "[22563, 24898, 3671]\n",
      "[1628, 4812, 6709, 1969, 1128, 2526, 5606, 3184, 3590, 5067, 7267]\n",
      "[6073, 4594, 2346, 1819, 2383, 5765, 1530, 3850, 2453, 2015, 4712, 5945, 3990]\n",
      "[5700, 2022, 4971, 2569, 2226, 5599, 2661, 3097, 4126, 6015, 1328, 4067, 6088, 4550, 3083]\n",
      "[5833, 2291, 1397, 6032, 2359, 4478, 2480, 2217, 3012, 2212, 2551, 3894, 1144, 2494, 5242]\n",
      "[10165, 5568, 5967, 10286, 5835, 6187, 6443]\n",
      "[2460, 2361, 5067, 2008, 6812, 6381, 4005, 6778, 5942, 4981, 3141, 5420, 1137]\n",
      "[8977, 11981, 4701, 4392, 7377]\n",
      "[6702, 1053, 5682, 2280, 4750, 5451, 5425, 5739, 3052, 1884, 5115, 3447, 1355]\n",
      "[15207]\n",
      "[23476, 24176]\n",
      "[4357, 6421, 4897, 6452, 5591, 3745, 4225, 3902, 4382, 6200, 3521, 1158, 6742]\n",
      "[7327, 4654, 4242, 4063, 2551, 2845, 5636, 1645, 6300, 3800, 3324, 5186]\n",
      "[2671, 4674, 5368, 10396, 7250, 8983, 10080]\n",
      "[5132, 9545, 4031, 2698, 2741, 3072, 1542, 1419, 3958]\n",
      "[1736, 6254, 7696, 5803, 4724, 2811, 7429, 3568, 8717, 1015]\n",
      "[3616, 3437, 1285, 2201, 3597, 2818, 1859, 4828, 2644, 4907, 5468, 3424, 6160, 4025]\n",
      "[7153, 1979, 3198, 2506, 1838, 5274, 2904, 5671, 1300, 3064, 2447, 2756]\n",
      "[8583, 8107, 14984, 10437, 9655]\n",
      "[4628, 1643, 2052, 4833, 3918, 6200, 6348, 1551, 7568, 7647, 5621]\n",
      "[4470, 4926, 1971, 6085, 2990, 4674, 1927, 2155, 6489, 6878, 3445, 6810, 1998]\n",
      "[3804, 5867, 3159, 3385, 3765, 3175, 1265, 3572, 3718, 4562, 5117, 3938, 1977, 3606, 2281]\n",
      "[3352, 15576, 7744, 3992, 1217]\n",
      "[4426, 12388, 12828, 5208, 2784, 12502]\n",
      "[1762, 4751, 3595, 4360, 1064, 4224, 3268, 5411, 3390, 2589, 1513, 3075, 5845, 1738, 4082]\n",
      "[13785, 6062, 7074, 3574, 11195, 8335]\n",
      "[8519, 22618, 10403]\n",
      "[12822, 12248, 9591, 13299, 10619]\n",
      "[7025, 6943, 5930, 3343, 3430, 7089, 6784, 7879, 9007]\n",
      "[3920, 7809, 7363, 6740, 1326, 2578, 2518, 7446, 7417]\n",
      "[3603, 10150, 8180, 5872, 7075]\n",
      "[3118, 10518, 8824, 2675, 8445, 9206, 3724, 4329]\n",
      "[9885, 10933, 1372, 3905, 12731, 6330]\n",
      "[3884, 3392, 3455, 3560, 3093, 2778, 4630, 4742, 4959, 2883, 4820]\n",
      "[5796, 1645, 14987, 6986, 15074]\n",
      "[3281, 1335, 3725, 5414, 6439, 1619, 4557, 4583, 1522, 1009, 1835, 2371, 5955, 2289]\n",
      "[43920]\n",
      "[2477, 1999, 4809, 5084, 3606, 4850, 5977, 3763, 1108, 4160, 2322, 6356, 5461]\n",
      "[5000, 3267, 5171, 7136, 9932, 1281, 11676]\n",
      "[3689, 3319, 3508, 7243, 7766, 1685, 3809, 4093, 2539, 7137, 3167]\n",
      "[8322, 11802, 6949, 15451]\n",
      "[2806, 6035, 4881, 1152, 5328, 4693, 5930, 1610, 5849, 4853, 2049, 1263, 5736, 5234, 1525]\n",
      "[1616, 2945, 23855]\n",
      "[2062, 8376, 10728, 9744, 2777, 4101, 5612, 5133]\n",
      "[13599, 14149, 8082, 12680]\n",
      "[5143, 6807, 6474, 7390, 2308, 3201, 7265, 4492, 6646, 1664, 6422, 7428]\n",
      "[15425, 4319, 15222, 7365]\n",
      "[5186, 4698, 4556, 6355, 1879, 5436, 3440, 4223, 6103, 1027]\n",
      "[6897, 5842, 1932, 3726, 3608, 3011, 6812, 2384, 2285, 1388, 3211, 6414]\n",
      "[37328, 20417]\n",
      "[1127, 2001, 6357, 1978, 5528, 4675, 7215, 1097]\n",
      "[4258, 3189, 4748, 3973, 3492, 4496, 1123, 6485, 4969, 3947, 4079, 2657, 4920, 1940]\n",
      "[5593, 3590, 7069, 6526, 3404, 8501, 5189, 9022, 3399]\n",
      "[4146, 4305, 3820, 2260, 3144, 1288, 3812, 2815, 1553, 2301, 5655, 1298, 2531, 4350]\n",
      "[1200, 2871, 7637, 2279, 7747, 5740, 2103, 2373, 2471, 3658]\n",
      "[3108, 4947, 2258, 1073, 9635, 7326, 7712, 9458, 1008]\n",
      "[6679, 16292, 11474, 10212, 11418]\n",
      "[4018, 6049, 1942, 5851, 3480, 1108, 1769, 4176, 1911, 2497, 2904, 5108, 4018, 4839]\n",
      "[9257, 5081, 3816, 1487, 8582, 5317, 8506, 2749, 7187]\n",
      "[10033, 12757, 9353, 6820, 2459, 12843]\n",
      "[17725, 16704, 1919, 14770]\n",
      "[11941, 8538, 2984, 6435, 1242, 2782, 11283]\n",
      "[4787, 1630, 2456, 4425, 5434, 1684, 2066, 4657, 3419, 6536, 1132, 4288, 4319]\n",
      "[7364, 6179, 5832, 4077, 4003, 8781, 6022, 5672, 5784]\n",
      "[4582, 8233, 9135, 8448, 7295, 3450, 5941, 5678, 8945]\n",
      "[3673, 11877, 8079, 5830, 13123, 8819]\n",
      "[2464, 4267, 1275, 4036, 3019, 7571, 6808, 2291, 4975, 4857, 7037]\n",
      "[4663, 5328, 2021, 1593, 5605, 2423, 6565, 1077, 3076, 2521]\n",
      "[2712, 10855, 10943, 6416, 2654, 11960, 9471]\n",
      "[5053, 2896, 2868, 2508, 3712, 2086, 1028, 5985, 1312, 2486, 3561, 3789, 1747, 4241]\n",
      "[1244, 3146, 3768, 5090, 4881, 1565, 4007, 5283, 8189, 2266]\n",
      "[11599, 6170, 7253]\n",
      "[1596, 2215, 6018, 5848, 3357, 5971, 1395, 5412, 4413, 2907, 3398, 6191, 1502]\n",
      "[5562, 1955, 3203, 4835, 5426, 5409, 4020, 3987, 4922, 1332, 1355, 2244, 4977, 1559, 5507]\n",
      "[8879, 3197, 11212, 4477, 8238, 1800, 3684]\n",
      "[15121, 7384, 14501, 12667, 9620]\n",
      "[1767, 4997, 6039, 1889, 3620, 2880, 4305, 1292, 6176, 3125, 5876, 6515]\n",
      "[3829, 5030, 2670, 6937, 7747, 1587, 3837, 3222, 3607, 3325, 5323]\n",
      "[27071, 32218]\n",
      "[5593, 3592, 2311]\n",
      "[2628, 2562, 1322, 5307, 4337, 4761, 4451, 2981, 4279, 4828, 2008, 3109, 3016, 1927, 5636]\n",
      "[1218, 1205, 2913, 1892, 4268, 5360, 5622, 4694, 1721, 3315, 1886, 1798, 2418, 2954, 2479]\n",
      "[2125, 7128, 2112, 5163, 6536, 7023, 7026, 2662, 7967, 3376, 4663]\n",
      "[11505, 9288]\n",
      "[4193, 5100, 1922, 3258, 1133, 3906, 6049, 1211, 3743, 3952, 1546, 2818, 1795, 3697]\n",
      "[13660, 13843]\n",
      "[10925, 4229, 10107, 10541, 3950, 6892, 7594]\n",
      "[3726, 4753, 3245, 2459, 5362, 4514, 1635, 1875, 2196, 3379, 4391, 3278, 3942, 5488]\n",
      "[6838, 7367, 5133, 4229, 8382, 5748, 4408, 1149, 2712]\n",
      "[5790, 7280, 1537, 6596, 4167, 7905, 4829, 1875, 5374, 3432]\n",
      "[18774, 12470, 2680]\n",
      "[1481, 4005, 8336, 9616, 9360, 9601, 8805, 1857, 7736]\n",
      "[2372, 16287, 11904, 4931]\n",
      "[6023, 3192, 2630, 2712, 5403, 7077, 3310, 2386, 3072, 6322, 6850]\n",
      "[20799, 2284, 9823]\n",
      "[4705, 5625, 1830, 1374, 1770, 1125, 2395, 5050, 1311, 4818, 3497, 2829, 6509, 2301]\n",
      "[3318, 10761, 10053, 11006, 4726]\n",
      "[3055, 8238, 8388, 10499, 16116]\n",
      "[4145, 1135, 6326, 3248, 3734, 2661, 4180, 1240, 6488, 5394, 4859, 6312, 2128, 2689]\n",
      "[31894, 27468]\n",
      "[7845, 2959, 2719, 2650, 3442, 2128, 2702, 3306, 2590, 2887, 2655]\n",
      "[4595, 6230, 11249, 2158, 3494, 7055, 5763]\n",
      "[4473, 6469, 6779, 3344, 5325, 7869, 1481, 6709, 5553, 8648]\n",
      "[5459, 12649, 10227, 19725]\n",
      "[4389, 4566, 2761, 5106, 4064, 4118, 1923, 3564, 2935, 1084, 5351, 6416, 6170, 1642]\n",
      "[63220]\n",
      "[3978, 7803, 9714, 6796, 5812, 7324]\n",
      "[6757, 3868, 18800, 1352]\n",
      "[2034, 1060, 4800, 5866, 2625, 3222, 2281, 2911, 3698, 2632, 2504, 2993, 5809, 1805, 4196]\n",
      "[5613, 2702, 1140, 2398, 2584, 3877, 2934, 1496, 4237, 4305, 2103, 5801, 2201, 1100, 4737]\n",
      "[4454, 24314, 4677]\n",
      "[6100, 1297, 4199, 6261, 5518, 1942, 1875, 3137, 5217, 2370, 4628, 4854, 6484]\n",
      "[2790, 5473, 6457, 4180, 1133, 6134, 3019, 3479, 5472, 3336, 5414, 4040, 6459, 5327]\n",
      "[24399, 21223, 12711]\n",
      "[7774, 10176, 10388, 2864, 2575, 8018, 3420, 6435]\n",
      "[9838, 14038, 11004, 7468, 1242]\n",
      "[6915, 5378, 5586, 7725, 5101, 1569, 3073, 4346, 1253]\n",
      "[2633, 4195, 6287, 4192, 8015, 9520, 6870, 9894]\n",
      "[7014, 2252, 3296, 2288, 5613, 2615, 1903, 7348, 5555, 1460, 2770, 4373]\n",
      "[8013, 8256, 3029, 8246, 2830, 6447, 8885, 9633, 9081]\n",
      "[6296, 6768, 4904, 3649, 2623, 1577, 7764, 1959, 6686, 7329, 3986]\n",
      "[13311, 5670, 6954, 7407, 12264]\n",
      "[1832, 6503, 7209, 7871, 5590, 1952, 4496, 4698, 3591, 5818, 1756]\n",
      "[3584, 6327, 6639, 7100, 3409, 1023, 4365, 5607, 6419, 7887, 5419]\n",
      "[23730, 7283, 7943]\n",
      "[5497, 4917, 1514, 1399, 6628, 3835, 5718, 2071, 6030, 2238, 2187, 4433, 6289]\n",
      "[6897, 2972, 3174, 2134, 6927, 3165, 2072, 6086, 5119, 4199, 3256, 3257, 6808]\n",
      "[23297, 8152, 1449]\n",
      "[4807, 4900, 7997, 13646, 10133]\n",
      "[60078]\n",
      "[1764, 4796, 7749, 1069, 5594, 2802, 3850, 1878, 3212]\n",
      "[8476, 1982, 3141, 2647, 10087, 1170, 5975, 3683]\n",
      "[4310, 5495, 1374, 1462, 1852, 5149, 5976, 3397, 1280, 3545, 3021, 2969, 5261, 3474, 4938]\n",
      "[14240, 36288]\n",
      "[3977, 6268, 1396, 2707, 6344, 5279, 3026, 1237, 4671, 1545, 3049, 1235, 3322, 1226]\n",
      "[7877, 10542, 10800, 11760, 7013, 11468, 10914]\n",
      "[1883, 6346, 8428, 2097, 12309, 1747]\n",
      "[6919, 4606, 4133, 6376, 6127, 3131, 5530, 1041, 6161, 4321, 6201, 7080]\n",
      "[9683, 19478, 7509, 7186]\n",
      "[15598, 23816, 9973]\n",
      "[1740, 5245, 7924, 2086, 3354, 5989, 1788, 7710, 5233, 4330, 6087]\n",
      "[5063, 3096, 7629, 6728, 5995, 6789, 5294, 8760, 5424, 6981]\n",
      "[3548, 2507, 2274, 1434, 4003, 3988, 2009, 5501, 3583, 4751, 3335, 1793, 3450, 4458, 5667]\n",
      "[9998, 12172, 10851, 13296, 12712, 5534]\n",
      "[3552, 2877, 3870, 4505, 5234, 4130, 5405, 5460, 5840, 4405, 1839, 3764, 2418, 4602]\n",
      "[11031, 11643, 9905, 8111, 10798, 12365]\n",
      "[38360]\n",
      "[3952, 19297, 16495, 16016]\n",
      "[9608, 2121, 5670, 3593, 8530, 2474, 9402, 1305]\n",
      "[2152, 6691, 5395, 7779, 5215, 6785, 1282, 7910, 3591, 1320]\n",
      "[6767, 5293, 5630, 5654, 9330, 2438, 5614, 8125, 5418]\n",
      "[8336, 6170, 1224, 3646, 4163, 8049, 9345, 6148]\n",
      "[2815, 2907, 4811, 1271, 2410, 3790, 4602, 3684, 2711, 2756, 3535, 1877, 3902]\n",
      "[3492, 4651, 2158, 6059, 2071, 8046, 3863, 4920, 2427, 5702]\n",
      "[4846, 14976, 16005, 17415]\n",
      "[4171, 3820, 1051, 3655, 1972, 1510, 6213, 2666, 5479, 3776, 2680, 4844, 3361]\n",
      "[68996]\n",
      "[1046, 3913, 6469, 3566, 5521, 2615, 5167, 1535, 1842, 4028, 2505, 6146, 5646]\n",
      "[30144, 31365]\n",
      "[2582, 5925, 1480, 3378, 7508, 6960, 5834, 4230, 4839, 5744, 5675]\n",
      "[32883]\n",
      "[13628, 14364, 15147]\n",
      "[3863, 1397, 8149, 3836, 6434, 1847, 6078, 5762, 4318, 2934]\n",
      "[4426, 1851, 4825, 5352, 5998, 4412, 2592, 5786, 3582, 3180, 2682, 3928, 2112]\n"
     ]
    }
   ],
   "source": [
    "all_calorie_lists = create_calorie_lists(converted_lines)\n",
    "\n",
    "for calorie_list in all_calorie_lists:\n",
    "    print(calorie_list)"
   ]
  },
  {
   "cell_type": "markdown",
   "id": "1f293d5b",
   "metadata": {},
   "source": [
    "---\n",
    "\n",
    "### Step 3: Find Total of Each Calorie List\n",
    "\n",
    "To solve the challenge, the list with the most calories must be identified. Now that we have the lists of calories separated, we can find the total of each list, append it to a list of total values, to be used in determining the final total maximum value.\n",
    "\n",
    "- `calorie_totals` : (`list` of `int`s)\n",
    "    - Holds the total calorie totals for each calorie list within `all_calorie_lists`.\n",
    "\n",
    "- `calorie_total` : (`int`)\n",
    "    - The sum of the calories for an individual `calorie_list` in `all_calorie_lists`."
   ]
  },
  {
   "cell_type": "code",
   "execution_count": 100,
   "id": "c83a96a2",
   "metadata": {},
   "outputs": [],
   "source": [
    "def find_calorie_list_totals(all_calorie_lists: list[int]):\n",
    "\n",
    "    # Find the sum total of the calories for each calorie_list within all_calorie_lists.\n",
    "    # Append each integer total calorie_totals.\n",
    "\n",
    "    calorie_totals = []\n",
    "\n",
    "    # all_calorie_lists is a list of calorie lists.\n",
    "    for calorie_list in all_calorie_lists:\n",
    "        # Find the total calories of the list.\n",
    "        calorie_total = sum(calorie_list)\n",
    "        # Add the total to a list of totals.\n",
    "        calorie_totals.append(calorie_total)\n",
    "    \n",
    "    # Return a list of integers representing the calorie totals.\n",
    "    # This list will be used to calculate the maximum calorie value.\n",
    "    return calorie_totals"
   ]
  },
  {
   "cell_type": "code",
   "execution_count": 101,
   "id": "9f9fe397",
   "metadata": {},
   "outputs": [
    {
     "name": "stdout",
     "output_type": "stream",
     "text": [
      "58335\n",
      "37941\n",
      "55299\n",
      "46042\n",
      "41008\n",
      "50793\n",
      "16730\n",
      "46096\n",
      "64812\n",
      "29839\n",
      "43141\n",
      "47293\n",
      "48151\n",
      "41611\n",
      "38736\n",
      "51357\n",
      "45709\n",
      "54306\n",
      "48602\n",
      "13638\n",
      "36286\n",
      "48760\n",
      "54667\n",
      "50745\n",
      "43939\n",
      "45482\n",
      "53070\n",
      "62907\n",
      "56591\n",
      "26747\n",
      "47930\n",
      "52532\n",
      "50231\n",
      "44665\n",
      "45056\n",
      "52940\n",
      "20130\n",
      "51649\n",
      "52095\n",
      "39130\n",
      "45641\n",
      "49327\n",
      "51506\n",
      "57106\n",
      "34556\n",
      "59987\n",
      "19407\n",
      "42579\n",
      "38420\n",
      "45453\n",
      "47575\n",
      "44207\n",
      "26575\n",
      "56104\n",
      "59336\n",
      "49248\n",
      "45060\n",
      "47795\n",
      "43662\n",
      "48164\n",
      "46931\n",
      "25661\n",
      "54022\n",
      "33537\n",
      "56815\n",
      "44839\n",
      "28490\n",
      "44926\n",
      "55678\n",
      "57750\n",
      "45115\n",
      "51569\n",
      "49881\n",
      "41944\n",
      "51132\n",
      "43486\n",
      "47475\n",
      "58102\n",
      "47636\n",
      "50451\n",
      "56493\n",
      "37428\n",
      "51935\n",
      "15207\n",
      "47652\n",
      "61593\n",
      "51573\n",
      "49422\n",
      "34138\n",
      "49753\n",
      "50269\n",
      "40090\n",
      "51766\n",
      "52009\n",
      "54818\n",
      "53191\n",
      "31881\n",
      "50136\n",
      "50667\n",
      "50025\n",
      "41540\n",
      "58579\n",
      "57430\n",
      "47117\n",
      "34880\n",
      "50839\n",
      "45156\n",
      "42196\n",
      "44488\n",
      "45934\n",
      "43920\n",
      "51972\n",
      "43463\n",
      "47955\n",
      "42524\n",
      "58944\n",
      "28416\n",
      "48533\n",
      "48510\n",
      "65240\n",
      "42331\n",
      "42903\n",
      "47510\n",
      "57745\n",
      "29978\n",
      "54276\n",
      "52293\n",
      "43278\n",
      "38079\n",
      "46525\n",
      "56075\n",
      "49670\n",
      "51982\n",
      "54265\n",
      "51118\n",
      "45205\n",
      "46833\n",
      "53714\n",
      "61707\n",
      "51401\n",
      "48600\n",
      "34872\n",
      "55011\n",
      "43272\n",
      "39439\n",
      "25022\n",
      "50223\n",
      "56293\n",
      "41487\n",
      "59293\n",
      "48481\n",
      "47114\n",
      "59289\n",
      "11496\n",
      "53152\n",
      "43743\n",
      "55781\n",
      "20793\n",
      "44323\n",
      "27503\n",
      "54238\n",
      "50243\n",
      "45966\n",
      "48785\n",
      "33924\n",
      "60797\n",
      "35494\n",
      "48977\n",
      "32906\n",
      "45139\n",
      "39864\n",
      "46296\n",
      "54539\n",
      "59362\n",
      "35883\n",
      "40544\n",
      "56650\n",
      "48060\n",
      "54089\n",
      "63220\n",
      "41427\n",
      "30777\n",
      "48436\n",
      "47228\n",
      "33445\n",
      "53882\n",
      "62713\n",
      "58333\n",
      "51650\n",
      "43590\n",
      "40946\n",
      "51606\n",
      "46487\n",
      "64420\n",
      "53541\n",
      "45606\n",
      "51316\n",
      "57779\n",
      "38956\n",
      "52756\n",
      "56066\n",
      "32898\n",
      "41483\n",
      "60078\n",
      "32714\n",
      "37161\n",
      "53503\n",
      "50528\n",
      "45282\n",
      "70374\n",
      "32810\n",
      "61626\n",
      "43856\n",
      "49387\n",
      "51486\n",
      "61759\n",
      "52301\n",
      "64563\n",
      "57901\n",
      "63853\n",
      "38360\n",
      "55760\n",
      "42703\n",
      "48120\n",
      "54269\n",
      "47081\n",
      "41071\n",
      "43389\n",
      "53242\n",
      "45198\n",
      "68996\n",
      "49999\n",
      "61509\n",
      "54155\n",
      "32883\n",
      "43139\n",
      "44618\n",
      "50726\n"
     ]
    }
   ],
   "source": [
    "calorie_totals = find_calorie_list_totals(all_calorie_lists)\n",
    "\n",
    "for calorie_total in calorie_totals:\n",
    "    print(calorie_total)"
   ]
  },
  {
   "cell_type": "markdown",
   "id": "af6aa6ee",
   "metadata": {},
   "source": [
    "---\n",
    "\n",
    "### Step 4: Find Maximum Calorie Value\n",
    "\n",
    "Using the `calorie_totals` list, simply find the highest value within the list to solve the challenge.\n",
    "\n",
    "There are 2 methods which can be used.\n",
    "\n",
    "The first method is the \"intuitive\" method, which may be used by those who are not aware of the `sum` function.\n",
    "\n",
    "The second method is the more efficient way to solve the challenge, using the `sum` function.\n",
    "\n",
    "I will cover both methods below, starting with the \"intuitive\" method.\n",
    "\n",
    "---"
   ]
  },
  {
   "cell_type": "markdown",
   "id": "94d16bff",
   "metadata": {},
   "source": [
    "#### Method 1: The \"Intuitive\" Method\n",
    "\n",
    "To find the maximum value in a list of integer values, we first set a variable, 'max_val', to 0.\n",
    "\n",
    "We then iterate through each value in the 'calorie_totals` list, and compare it to the `max_val` value. If the current calorie total value is higher than `max_val`, we set the value of `max_val` to that calorie value.\n",
    "\n",
    "We repeat this process until the entire list of calorie totals has been gone through. `max_val` will then be set to the highest calorie total."
   ]
  },
  {
   "cell_type": "code",
   "execution_count": 102,
   "id": "4b1dddb5",
   "metadata": {},
   "outputs": [],
   "source": [
    "def find_max_calorie_method_1(calorie_totals: list[int]):\n",
    "    # The intuitive method for finding the highest calorie value.\n",
    "    \n",
    "    # The highest calorie total found so far. The end value of this variable\n",
    "    # will be the highest value in the calorie_totals list.\n",
    "    max_val = 0\n",
    "\n",
    "    # Check each value in calorie_totals against the current max_val.\n",
    "    for calorie_total in calorie_totals:\n",
    "        if calorie_total > max_val:\n",
    "            # If the calorie total is higher than the current value of max_val,\n",
    "            # set the value of max_val to that integer.\n",
    "            max_val = calorie_total\n",
    "\n",
    "    # The end value of max_val is the highest calorie total.\n",
    "    return max_val"
   ]
  },
  {
   "cell_type": "code",
   "execution_count": 103,
   "id": "df8ca38a",
   "metadata": {},
   "outputs": [
    {
     "name": "stdout",
     "output_type": "stream",
     "text": [
      "70374\n"
     ]
    }
   ],
   "source": [
    "max_calorie = find_max_calorie_method_1(calorie_totals)\n",
    "\n",
    "print(max_calorie)"
   ]
  },
  {
   "cell_type": "markdown",
   "id": "f4977072",
   "metadata": {},
   "source": [
    "---\n",
    "\n",
    "#### Method 2: Using the `max()` Function\n",
    "\n",
    "Python's built-in `max()` function finds the highest value within a list of integers. \n",
    "\n",
    "This turns our 5-line code solution for Method 1 into a one-liner, much more efficient and much less error-prone."
   ]
  },
  {
   "cell_type": "code",
   "execution_count": 104,
   "id": "f99fc226",
   "metadata": {},
   "outputs": [],
   "source": [
    "def find_max_calorie(calorie_totals: list[int]):\n",
    "    # A one-liner function that finds the highest integer value \n",
    "    # in a list of integers.\n",
    "    return max(calorie_totals)"
   ]
  },
  {
   "cell_type": "code",
   "execution_count": 105,
   "id": "e7aee1a2",
   "metadata": {},
   "outputs": [
    {
     "name": "stdout",
     "output_type": "stream",
     "text": [
      "70374\n"
     ]
    }
   ],
   "source": [
    "max_calorie = find_max_calorie(calorie_totals)\n",
    "\n",
    "print(max_calorie)"
   ]
  },
  {
   "cell_type": "markdown",
   "id": "d8e4f3eb",
   "metadata": {},
   "source": [
    "---\n",
    "\n",
    "### Testcases\n",
    "\n",
    "These are the test cases given on the Advent of Code page for the Day 1 Challenge (2022).\n",
    "\n",
    "First, we solve the testcases with our functions, before submitting our own answer.\n",
    "\n",
    "---"
   ]
  },
  {
   "cell_type": "markdown",
   "id": "352b046b",
   "metadata": {},
   "source": [
    "#### Testcase 1"
   ]
  },
  {
   "cell_type": "code",
   "execution_count": 106,
   "id": "32189855",
   "metadata": {},
   "outputs": [],
   "source": [
    "testcase_1_lines = ['1000', '', '2000', '3000', '', '4000', '', '5000',\n",
    "                       '6000', '', '7000', '8000', '9000', '', '10000']"
   ]
  },
  {
   "cell_type": "code",
   "execution_count": 107,
   "id": "9b68a8ad",
   "metadata": {},
   "outputs": [],
   "source": [
    "testcase_1_answer = 24000"
   ]
  },
  {
   "cell_type": "markdown",
   "id": "d50e9253",
   "metadata": {},
   "source": [
    "---\n",
    "\n",
    "##### Step 1: Convert Data to Proper Type"
   ]
  },
  {
   "cell_type": "code",
   "execution_count": 108,
   "id": "e7df9a6e",
   "metadata": {},
   "outputs": [],
   "source": [
    "testcase_1_converted_lines = convert_lines(testcase_1_lines)"
   ]
  },
  {
   "cell_type": "code",
   "execution_count": 109,
   "id": "5394dd4a",
   "metadata": {},
   "outputs": [
    {
     "name": "stdout",
     "output_type": "stream",
     "text": [
      "[1000, '', 2000, 3000, '', 4000, '', 5000, 6000, '', 7000, 8000, 9000, '', 10000]\n"
     ]
    }
   ],
   "source": [
    "print(testcase_1_converted_lines)"
   ]
  },
  {
   "cell_type": "markdown",
   "id": "be57f9e9",
   "metadata": {},
   "source": [
    "---\n",
    "\n",
    "##### Step 2: Create Calorie Lists"
   ]
  },
  {
   "cell_type": "code",
   "execution_count": 110,
   "id": "4028dcf6",
   "metadata": {},
   "outputs": [],
   "source": [
    "testcase_1_all_calorie_lists = create_calorie_lists(testcase_1_converted_lines)"
   ]
  },
  {
   "cell_type": "code",
   "execution_count": 111,
   "id": "dfb872fa",
   "metadata": {},
   "outputs": [
    {
     "data": {
      "text/plain": [
       "[[1000], [2000, 3000], [4000], [5000, 6000], [7000, 8000, 9000]]"
      ]
     },
     "execution_count": 111,
     "metadata": {},
     "output_type": "execute_result"
    }
   ],
   "source": [
    "testcase_1_all_calorie_lists"
   ]
  },
  {
   "cell_type": "markdown",
   "id": "61c170ea",
   "metadata": {},
   "source": [
    "---\n",
    "\n",
    "##### Step 3: Find Total of Each Calorie List"
   ]
  },
  {
   "cell_type": "code",
   "execution_count": 112,
   "id": "0bb0f659",
   "metadata": {},
   "outputs": [],
   "source": [
    "testcase_1_calorie_totals = find_calorie_list_totals(testcase_1_all_calorie_lists)"
   ]
  },
  {
   "cell_type": "code",
   "execution_count": 113,
   "id": "707065fc",
   "metadata": {},
   "outputs": [
    {
     "data": {
      "text/plain": [
       "[1000, 5000, 4000, 11000, 24000]"
      ]
     },
     "execution_count": 113,
     "metadata": {},
     "output_type": "execute_result"
    }
   ],
   "source": [
    "testcase_1_calorie_totals"
   ]
  },
  {
   "cell_type": "markdown",
   "id": "269980a8",
   "metadata": {},
   "source": [
    "---\n",
    "\n",
    "##### Step 4: Find Maximum Calorie Value"
   ]
  },
  {
   "cell_type": "code",
   "execution_count": 114,
   "id": "0a949c8b",
   "metadata": {},
   "outputs": [],
   "source": [
    "testcase_1_max_calorie = find_max_calorie(testcase_1_calorie_totals)"
   ]
  },
  {
   "cell_type": "code",
   "execution_count": 115,
   "id": "79091cca",
   "metadata": {},
   "outputs": [
    {
     "data": {
      "text/plain": [
       "24000"
      ]
     },
     "execution_count": 115,
     "metadata": {},
     "output_type": "execute_result"
    }
   ],
   "source": [
    "testcase_1_max_calorie"
   ]
  },
  {
   "cell_type": "markdown",
   "id": "c6b7c432",
   "metadata": {},
   "source": [
    "---\n",
    "\n",
    "##### Check Answer"
   ]
  },
  {
   "cell_type": "code",
   "execution_count": 116,
   "id": "08469e5c",
   "metadata": {},
   "outputs": [],
   "source": [
    "assert testcase_1_answer == testcase_1_max_calorie, 'E'"
   ]
  },
  {
   "cell_type": "markdown",
   "id": "d42c85b9",
   "metadata": {},
   "source": [
    "---\n",
    "\n",
    "#### Testcase 2"
   ]
  },
  {
   "cell_type": "code",
   "execution_count": 117,
   "id": "5d85c0c4",
   "metadata": {},
   "outputs": [],
   "source": [
    "testcase_2_lines = ['11000', '121323', '123123', '', '12312', '37726', '34882193',\n",
    "                    '', '323', '1295', '999203', '', '3423', '1294793', '',\n",
    "                    '9848494']"
   ]
  },
  {
   "cell_type": "code",
   "execution_count": 118,
   "id": "b1a4ea08",
   "metadata": {},
   "outputs": [],
   "source": [
    "testcase_2_answer = 34932231"
   ]
  },
  {
   "cell_type": "markdown",
   "id": "1fda2365",
   "metadata": {},
   "source": [
    "---\n",
    "\n",
    "##### Step 1: Convert Data to Proper Type"
   ]
  },
  {
   "cell_type": "code",
   "execution_count": 119,
   "id": "0f64b858",
   "metadata": {},
   "outputs": [],
   "source": [
    "testcase_2_converted_lines = convert_lines(testcase_2_lines)"
   ]
  },
  {
   "cell_type": "code",
   "execution_count": 120,
   "id": "c93d38aa",
   "metadata": {},
   "outputs": [
    {
     "data": {
      "text/plain": [
       "[11000,\n",
       " 121323,\n",
       " 123123,\n",
       " '',\n",
       " 12312,\n",
       " 37726,\n",
       " 34882193,\n",
       " '',\n",
       " 323,\n",
       " 1295,\n",
       " 999203,\n",
       " '',\n",
       " 3423,\n",
       " 1294793,\n",
       " '',\n",
       " 9848494]"
      ]
     },
     "execution_count": 120,
     "metadata": {},
     "output_type": "execute_result"
    }
   ],
   "source": [
    "testcase_2_converted_lines"
   ]
  },
  {
   "cell_type": "markdown",
   "id": "f2af3eca",
   "metadata": {},
   "source": [
    "---\n",
    "\n",
    "##### Step 2: Create Calorie Lists"
   ]
  },
  {
   "cell_type": "code",
   "execution_count": 121,
   "id": "c574b0db",
   "metadata": {},
   "outputs": [],
   "source": [
    "testcase_2_all_calorie_lists = create_calorie_lists(testcase_2_converted_lines)"
   ]
  },
  {
   "cell_type": "code",
   "execution_count": 122,
   "id": "9fb54a3d",
   "metadata": {},
   "outputs": [
    {
     "data": {
      "text/plain": [
       "[[11000, 121323, 123123],\n",
       " [12312, 37726, 34882193],\n",
       " [323, 1295, 999203],\n",
       " [3423, 1294793]]"
      ]
     },
     "execution_count": 122,
     "metadata": {},
     "output_type": "execute_result"
    }
   ],
   "source": [
    "testcase_2_all_calorie_lists"
   ]
  },
  {
   "cell_type": "markdown",
   "id": "5685043d",
   "metadata": {},
   "source": [
    "---\n",
    "\n",
    "##### Step 3: Find Total of Each Calorie List"
   ]
  },
  {
   "cell_type": "code",
   "execution_count": 123,
   "id": "d482eca9",
   "metadata": {},
   "outputs": [],
   "source": [
    "testcase_2_calorie_totals = find_calorie_list_totals(testcase_2_all_calorie_lists)"
   ]
  },
  {
   "cell_type": "code",
   "execution_count": 124,
   "id": "e45ade74",
   "metadata": {},
   "outputs": [
    {
     "data": {
      "text/plain": [
       "[255446, 34932231, 1000821, 1298216]"
      ]
     },
     "execution_count": 124,
     "metadata": {},
     "output_type": "execute_result"
    }
   ],
   "source": [
    "testcase_2_calorie_totals"
   ]
  },
  {
   "cell_type": "markdown",
   "id": "4fcf5145",
   "metadata": {},
   "source": [
    "---\n",
    "\n",
    "##### Step 4: Find Maximum Calorie Value"
   ]
  },
  {
   "cell_type": "code",
   "execution_count": 125,
   "id": "d400e498",
   "metadata": {},
   "outputs": [],
   "source": [
    "testcase_2_max_calorie = find_max_calorie(testcase_2_calorie_totals)"
   ]
  },
  {
   "cell_type": "code",
   "execution_count": 126,
   "id": "e7810f86",
   "metadata": {},
   "outputs": [
    {
     "data": {
      "text/plain": [
       "34932231"
      ]
     },
     "execution_count": 126,
     "metadata": {},
     "output_type": "execute_result"
    }
   ],
   "source": [
    "testcase_2_max_calorie"
   ]
  },
  {
   "cell_type": "markdown",
   "id": "a7858fe2",
   "metadata": {},
   "source": [
    "---\n",
    "\n",
    "##### Check Answer"
   ]
  },
  {
   "cell_type": "code",
   "execution_count": 127,
   "id": "76b27e13",
   "metadata": {},
   "outputs": [],
   "source": [
    "assert testcase_2_answer == testcase_2_max_calorie, 'E'"
   ]
  },
  {
   "cell_type": "markdown",
   "id": "d2a23dc4",
   "metadata": {},
   "source": [
    "---\n",
    "\n",
    "### Answer"
   ]
  },
  {
   "cell_type": "code",
   "execution_count": 128,
   "id": "bb810f81",
   "metadata": {},
   "outputs": [
    {
     "name": "stdout",
     "output_type": "stream",
     "text": [
      "Answer: 70374\n"
     ]
    }
   ],
   "source": [
    "print(f'Answer: {max_calorie}')"
   ]
  },
  {
   "cell_type": "code",
   "execution_count": 129,
   "id": "2cbb8178",
   "metadata": {},
   "outputs": [],
   "source": [
    "answer = 70374"
   ]
  },
  {
   "cell_type": "markdown",
   "id": "8e981962",
   "metadata": {},
   "source": [
    "---\n",
    "\n",
    "## Part II\n",
    "\n",
    "The second half of the Day 1 Challenge for Advent of Code 2022."
   ]
  },
  {
   "cell_type": "markdown",
   "id": "b17b1e1b",
   "metadata": {},
   "source": [
    "---\n",
    "\n",
    "### Step 1: Sort Calorie Totals from Highest to Lowest\n",
    "\n",
    "First, we need to sort the calorie totals from highest to lowest.\n",
    "\n",
    "Since we have already added the calorie lists up to find each list's total calories, we need only to take this list (`calorie_totals`) and sort it from lowest to highest (`sorted_calorie_totals`)."
   ]
  },
  {
   "cell_type": "code",
   "execution_count": 130,
   "id": "94b07e74",
   "metadata": {},
   "outputs": [],
   "source": [
    "# Sort calorie totals by highest to lowest.\n",
    "sorted_calorie_totals = sorted(calorie_totals, reverse=True)"
   ]
  },
  {
   "cell_type": "code",
   "execution_count": 131,
   "id": "b4df8b82",
   "metadata": {},
   "outputs": [
    {
     "data": {
      "text/plain": [
       "[70374,\n",
       " 68996,\n",
       " 65240,\n",
       " 64812,\n",
       " 64563,\n",
       " 64420,\n",
       " 63853,\n",
       " 63220,\n",
       " 62907,\n",
       " 62713,\n",
       " 61759,\n",
       " 61707,\n",
       " 61626,\n",
       " 61593,\n",
       " 61509,\n",
       " 60797,\n",
       " 60078,\n",
       " 59987,\n",
       " 59362,\n",
       " 59336,\n",
       " 59293,\n",
       " 59289,\n",
       " 58944,\n",
       " 58579,\n",
       " 58335,\n",
       " 58333,\n",
       " 58102,\n",
       " 57901,\n",
       " 57779,\n",
       " 57750,\n",
       " 57745,\n",
       " 57430,\n",
       " 57106,\n",
       " 56815,\n",
       " 56650,\n",
       " 56591,\n",
       " 56493,\n",
       " 56293,\n",
       " 56104,\n",
       " 56075,\n",
       " 56066,\n",
       " 55781,\n",
       " 55760,\n",
       " 55678,\n",
       " 55299,\n",
       " 55011,\n",
       " 54818,\n",
       " 54667,\n",
       " 54539,\n",
       " 54306,\n",
       " 54276,\n",
       " 54269,\n",
       " 54265,\n",
       " 54238,\n",
       " 54155,\n",
       " 54089,\n",
       " 54022,\n",
       " 53882,\n",
       " 53714,\n",
       " 53541,\n",
       " 53503,\n",
       " 53242,\n",
       " 53191,\n",
       " 53152,\n",
       " 53070,\n",
       " 52940,\n",
       " 52756,\n",
       " 52532,\n",
       " 52301,\n",
       " 52293,\n",
       " 52095,\n",
       " 52009,\n",
       " 51982,\n",
       " 51972,\n",
       " 51935,\n",
       " 51766,\n",
       " 51650,\n",
       " 51649,\n",
       " 51606,\n",
       " 51573,\n",
       " 51569,\n",
       " 51506,\n",
       " 51486,\n",
       " 51401,\n",
       " 51357,\n",
       " 51316,\n",
       " 51132,\n",
       " 51118,\n",
       " 50839,\n",
       " 50793,\n",
       " 50745,\n",
       " 50726,\n",
       " 50667,\n",
       " 50528,\n",
       " 50451,\n",
       " 50269,\n",
       " 50243,\n",
       " 50231,\n",
       " 50223,\n",
       " 50136,\n",
       " 50025,\n",
       " 49999,\n",
       " 49881,\n",
       " 49753,\n",
       " 49670,\n",
       " 49422,\n",
       " 49387,\n",
       " 49327,\n",
       " 49248,\n",
       " 48977,\n",
       " 48785,\n",
       " 48760,\n",
       " 48602,\n",
       " 48600,\n",
       " 48533,\n",
       " 48510,\n",
       " 48481,\n",
       " 48436,\n",
       " 48164,\n",
       " 48151,\n",
       " 48120,\n",
       " 48060,\n",
       " 47955,\n",
       " 47930,\n",
       " 47795,\n",
       " 47652,\n",
       " 47636,\n",
       " 47575,\n",
       " 47510,\n",
       " 47475,\n",
       " 47293,\n",
       " 47228,\n",
       " 47117,\n",
       " 47114,\n",
       " 47081,\n",
       " 46931,\n",
       " 46833,\n",
       " 46525,\n",
       " 46487,\n",
       " 46296,\n",
       " 46096,\n",
       " 46042,\n",
       " 45966,\n",
       " 45934,\n",
       " 45709,\n",
       " 45641,\n",
       " 45606,\n",
       " 45482,\n",
       " 45453,\n",
       " 45282,\n",
       " 45205,\n",
       " 45198,\n",
       " 45156,\n",
       " 45139,\n",
       " 45115,\n",
       " 45060,\n",
       " 45056,\n",
       " 44926,\n",
       " 44839,\n",
       " 44665,\n",
       " 44618,\n",
       " 44488,\n",
       " 44323,\n",
       " 44207,\n",
       " 43939,\n",
       " 43920,\n",
       " 43856,\n",
       " 43743,\n",
       " 43662,\n",
       " 43590,\n",
       " 43486,\n",
       " 43463,\n",
       " 43389,\n",
       " 43278,\n",
       " 43272,\n",
       " 43141,\n",
       " 43139,\n",
       " 42903,\n",
       " 42703,\n",
       " 42579,\n",
       " 42524,\n",
       " 42331,\n",
       " 42196,\n",
       " 41944,\n",
       " 41611,\n",
       " 41540,\n",
       " 41487,\n",
       " 41483,\n",
       " 41427,\n",
       " 41071,\n",
       " 41008,\n",
       " 40946,\n",
       " 40544,\n",
       " 40090,\n",
       " 39864,\n",
       " 39439,\n",
       " 39130,\n",
       " 38956,\n",
       " 38736,\n",
       " 38420,\n",
       " 38360,\n",
       " 38079,\n",
       " 37941,\n",
       " 37428,\n",
       " 37161,\n",
       " 36286,\n",
       " 35883,\n",
       " 35494,\n",
       " 34880,\n",
       " 34872,\n",
       " 34556,\n",
       " 34138,\n",
       " 33924,\n",
       " 33537,\n",
       " 33445,\n",
       " 32906,\n",
       " 32898,\n",
       " 32883,\n",
       " 32810,\n",
       " 32714,\n",
       " 31881,\n",
       " 30777,\n",
       " 29978,\n",
       " 29839,\n",
       " 28490,\n",
       " 28416,\n",
       " 27503,\n",
       " 26747,\n",
       " 26575,\n",
       " 25661,\n",
       " 25022,\n",
       " 20793,\n",
       " 20130,\n",
       " 19407,\n",
       " 16730,\n",
       " 15207,\n",
       " 13638,\n",
       " 11496]"
      ]
     },
     "execution_count": 131,
     "metadata": {},
     "output_type": "execute_result"
    }
   ],
   "source": [
    "sorted_calorie_totals"
   ]
  },
  {
   "cell_type": "markdown",
   "id": "49955c7f",
   "metadata": {},
   "source": [
    "---\n",
    "\n",
    "### Step 2: Find the Top 3 Highest Calorie Totals\n",
    "\n",
    "Using the newly created `sorted_calorie_totals` list, slice the first 3 values from this list to find the top 3 highest calorie totals.\n",
    "\n",
    "Save these values to a list, `top_three_calorie_totals`."
   ]
  },
  {
   "cell_type": "code",
   "execution_count": 132,
   "id": "a3dba41d",
   "metadata": {},
   "outputs": [],
   "source": [
    "# Find the top 3 by slicing the first 3 values in the list and creating\n",
    "# a new list from those values.\n",
    "top_three_calorie_totals = sorted_calorie_totals[0:3]"
   ]
  },
  {
   "cell_type": "code",
   "execution_count": 133,
   "id": "7e304b60",
   "metadata": {},
   "outputs": [
    {
     "data": {
      "text/plain": [
       "[70374, 68996, 65240]"
      ]
     },
     "execution_count": 133,
     "metadata": {},
     "output_type": "execute_result"
    }
   ],
   "source": [
    "top_three_calorie_totals"
   ]
  },
  {
   "cell_type": "markdown",
   "id": "a4c72d38",
   "metadata": {},
   "source": [
    "---\n",
    "\n",
    "### Step 3: Sum the Top 3 Calorie Totals\n",
    "\n",
    "Sum the top 3 calorie totals to find the answer for Part II."
   ]
  },
  {
   "cell_type": "code",
   "execution_count": 134,
   "id": "a103f933",
   "metadata": {},
   "outputs": [],
   "source": [
    "# Sum the top 3 calorie totals\n",
    "total = sum(top_three_calorie_totals)"
   ]
  },
  {
   "cell_type": "code",
   "execution_count": 135,
   "id": "2464f4d6",
   "metadata": {},
   "outputs": [
    {
     "data": {
      "text/plain": [
       "204610"
      ]
     },
     "execution_count": 135,
     "metadata": {},
     "output_type": "execute_result"
    }
   ],
   "source": [
    "total"
   ]
  },
  {
   "cell_type": "markdown",
   "id": "824e1ad8",
   "metadata": {},
   "source": [
    "---\n",
    "\n",
    "### Testcases\n",
    "\n",
    "Testcases for the second half of the day's challenge.\n",
    "\n",
    "The testcases use the same testcase data as from Part I, simply using the new methods to solve."
   ]
  },
  {
   "cell_type": "markdown",
   "id": "3423e6fb",
   "metadata": {},
   "source": [
    "---\n",
    "\n",
    "#### Testcase 1"
   ]
  },
  {
   "cell_type": "code",
   "execution_count": 136,
   "id": "ddaf2c26",
   "metadata": {},
   "outputs": [],
   "source": [
    "testcase_1_answer = 45000"
   ]
  },
  {
   "cell_type": "markdown",
   "id": "d91f8e7a",
   "metadata": {},
   "source": [
    "---\n",
    "\n",
    "##### Step 1: Sort Calorie Totals from Highest to Lowest"
   ]
  },
  {
   "cell_type": "code",
   "execution_count": 138,
   "id": "75db895c",
   "metadata": {},
   "outputs": [],
   "source": [
    "testcase_1_sorted_calorie_totals = sorted(testcase_1_calorie_totals, reverse=True)"
   ]
  },
  {
   "cell_type": "code",
   "execution_count": 139,
   "id": "01f316ca",
   "metadata": {},
   "outputs": [
    {
     "data": {
      "text/plain": [
       "[24000, 11000, 5000, 4000, 1000]"
      ]
     },
     "execution_count": 139,
     "metadata": {},
     "output_type": "execute_result"
    }
   ],
   "source": [
    "testcase_1_sorted_calorie_totals"
   ]
  },
  {
   "cell_type": "markdown",
   "id": "2d23b447",
   "metadata": {},
   "source": [
    "---\n",
    "\n",
    "##### Step 2: Find the Top 3 Highest Calorie Totals"
   ]
  },
  {
   "cell_type": "code",
   "execution_count": 140,
   "id": "77a8aaef",
   "metadata": {},
   "outputs": [],
   "source": [
    "testcase_1_top_three_calorie_totals = sorted_calorie_totals[0:3]"
   ]
  },
  {
   "cell_type": "code",
   "execution_count": 141,
   "id": "daeb2c62",
   "metadata": {},
   "outputs": [
    {
     "data": {
      "text/plain": [
       "[70374, 68996, 65240]"
      ]
     },
     "execution_count": 141,
     "metadata": {},
     "output_type": "execute_result"
    }
   ],
   "source": [
    "testcase_1_top_three_calorie_totals"
   ]
  },
  {
   "cell_type": "markdown",
   "id": "8b4ae0c1",
   "metadata": {},
   "source": [
    "---\n",
    "\n",
    "##### Step 3: Sum the Top 3 Calorie Totals"
   ]
  },
  {
   "cell_type": "code",
   "execution_count": 142,
   "id": "88080ec0",
   "metadata": {},
   "outputs": [],
   "source": [
    "testcase_1_total = sum(testcase_1_top_three_calorie_totals)"
   ]
  },
  {
   "cell_type": "code",
   "execution_count": 143,
   "id": "ca7de5e1",
   "metadata": {},
   "outputs": [
    {
     "data": {
      "text/plain": [
       "204610"
      ]
     },
     "execution_count": 143,
     "metadata": {},
     "output_type": "execute_result"
    }
   ],
   "source": [
    "testcase_1_total"
   ]
  },
  {
   "cell_type": "markdown",
   "id": "3c400090",
   "metadata": {},
   "source": [
    "---\n",
    "\n",
    "##### Answer"
   ]
  },
  {
   "cell_type": "code",
   "execution_count": 144,
   "id": "554ba2ff",
   "metadata": {},
   "outputs": [
    {
     "ename": "AssertionError",
     "evalue": "E",
     "output_type": "error",
     "traceback": [
      "\u001b[0;31m---------------------------------------------------------------------------\u001b[0m",
      "\u001b[0;31mAssertionError\u001b[0m                            Traceback (most recent call last)",
      "Cell \u001b[0;32mIn[144], line 1\u001b[0m\n\u001b[0;32m----> 1\u001b[0m \u001b[38;5;28;01massert\u001b[39;00m testcase_1_answer \u001b[38;5;241m==\u001b[39m testcase_1_total, \u001b[38;5;124m'\u001b[39m\u001b[38;5;124mE\u001b[39m\u001b[38;5;124m'\u001b[39m\n",
      "\u001b[0;31mAssertionError\u001b[0m: E"
     ]
    }
   ],
   "source": [
    "assert testcase_1_answer == testcase_1_total, 'E'"
   ]
  },
  {
   "cell_type": "markdown",
   "id": "8d40b6f1",
   "metadata": {},
   "source": [
    "---\n",
    "\n",
    "### Answer"
   ]
  },
  {
   "cell_type": "code",
   "execution_count": null,
   "id": "3a059373",
   "metadata": {},
   "outputs": [
    {
     "name": "stdout",
     "output_type": "stream",
     "text": [
      "Answer: 204610\n"
     ]
    }
   ],
   "source": [
    "print(f'Answer: {total}')"
   ]
  },
  {
   "cell_type": "code",
   "execution_count": null,
   "id": "74d6c11b",
   "metadata": {},
   "outputs": [],
   "source": [
    "answer_2 = 204610"
   ]
  }
 ],
 "metadata": {
  "kernelspec": {
   "display_name": "Python 3",
   "language": "python",
   "name": "python3"
  },
  "language_info": {
   "codemirror_mode": {
    "name": "ipython",
    "version": 3
   },
   "file_extension": ".py",
   "mimetype": "text/x-python",
   "name": "python",
   "nbconvert_exporter": "python",
   "pygments_lexer": "ipython3",
   "version": "3.10.12"
  }
 },
 "nbformat": 4,
 "nbformat_minor": 5
}
