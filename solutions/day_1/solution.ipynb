{
 "cells": [
  {
   "cell_type": "markdown",
   "id": "b98b51fa",
   "metadata": {},
   "source": [
    "# Solution for Day 1: Counting Calories\n",
    "\n",
    "*Advent of Code 2022*"
   ]
  },
  {
   "cell_type": "markdown",
   "id": "db747adf",
   "metadata": {},
   "source": [
    "- [Homepage](https://adventofcode.com/2022)\n",
    "\n",
    "- [Day 1 Challenge](https://adventofcode.com/2022/day/1)\n",
    "\n",
    "- [Input Data](https://adventofcode.com/2022/day/1/input)\n",
    "\n",
    "---"
   ]
  },
  {
   "cell_type": "code",
   "execution_count": 33,
   "id": "047984a3",
   "metadata": {},
   "outputs": [],
   "source": [
    "# imports\n",
    "from typing import List"
   ]
  },
  {
   "cell_type": "code",
   "execution_count": 34,
   "id": "cbf3e75d",
   "metadata": {},
   "outputs": [],
   "source": [
    "INPUT_FILE = 'input.txt'"
   ]
  },
  {
   "cell_type": "markdown",
   "id": "44cb0586",
   "metadata": {},
   "source": [
    "---\n",
    "\n",
    "## Part I"
   ]
  },
  {
   "cell_type": "code",
   "execution_count": 59,
   "id": "529e588d",
   "metadata": {},
   "outputs": [],
   "source": [
    "# Read in the data from the input.txt file to the program.\n",
    "with open(INPUT_FILE, 'r') as f:\n",
    "    # Save the data to a list, where each line of the data is its own list element,\n",
    "    # including the empty lines, which are saved as empty strings ('').\n",
    "    \n",
    "    # Use strip() to remove the newline characters ('\\n') from each item.\n",
    "    # This still preserves the blank line items (''), though.\n",
    "    lines = [line.strip() for line in f.readlines()]"
   ]
  },
  {
   "cell_type": "code",
   "execution_count": 36,
   "id": "326d7224",
   "metadata": {},
   "outputs": [],
   "source": [
    "# Create a function to separate the list of strings.\n",
    "\n",
    "def find_calorie_totals(lines: List[str], sep: str = '') -> List[int]:\n",
    "    \"\"\"\n",
    "    Separate data into individual lists, delimited by the empty strings\n",
    "    within the main list object.\n",
    "    \n",
    "    Args:\n",
    "        lines (list) : a list element where every element is a string\n",
    "            of values that are chained with a delimiter string.\n",
    "        sep : a delimiter string which separates each set of values.\n",
    "    \"\"\"\n",
    " \n",
    "    # Holds all lists of elf food lists.\n",
    "    calorie_totals = []\n",
    "    # Used to construct each individual elf's calorie list.\n",
    "    current_food_list = []\n",
    "    \n",
    "    # Iterate over each line to split the values into proper lists.\n",
    "    for line in lines:\n",
    "        # Add the list elements to current_food_list until we reach an\n",
    "        # empty string (blank line).\n",
    "        if line != sep:\n",
    "            # Change the value from a string to an integer.\n",
    "            current_food_list.append(int(line))\n",
    "        # When an empty string is reached, the current list is\n",
    "        # complete.\n",
    "        else:\n",
    "            # Add the values of the list items to find the total\n",
    "            # calories.\n",
    "            calorie_total = sum(current_food_list)\n",
    "            # Append the total calorie value to a list to compare all\n",
    "            # total calorie values.\n",
    "            calorie_totals.append(calorie_total)\n",
    "            # Reset the current food list to empty so the next sublist\n",
    "            # can be built.\n",
    "            current_food_list = []\n",
    "    \n",
    "    # Return a list of integers representing the calorie totals.\n",
    "    return calorie_totals"
   ]
  },
  {
   "cell_type": "code",
   "execution_count": 37,
   "id": "cec21b6b",
   "metadata": {},
   "outputs": [],
   "source": [
    "# Run function to find max calories for each elf.\n",
    "calorie_totals = find_calorie_totals(lines, '')"
   ]
  },
  {
   "cell_type": "code",
   "execution_count": 38,
   "id": "6132c1c3",
   "metadata": {},
   "outputs": [],
   "source": [
    "# Use max function to find highest value.\n",
    "max_calories = max(calorie_totals)"
   ]
  },
  {
   "cell_type": "markdown",
   "id": "d8e4f3eb",
   "metadata": {},
   "source": [
    "### Testcases"
   ]
  },
  {
   "cell_type": "code",
   "execution_count": 85,
   "id": "5d85c0c4",
   "metadata": {},
   "outputs": [],
   "source": [
    "example_calories = \"\"\"1000\n",
    "2000\n",
    "3000\n",
    "\n",
    "4000\n",
    "\n",
    "5000\n",
    "6000\n",
    "\n",
    "7000\n",
    "8000\n",
    "9000\n",
    "\n",
    "10000\n",
    "\"\"\"\n",
    "\n",
    "example_calories_list = [line for line in example_calories.split('\\n')]\n",
    "example_calories_totals = find_calorie_totals(example_calories_list)\n",
    "example_answer = max(example_calories_totals)\n",
    "\n",
    "answer = 24000"
   ]
  },
  {
   "cell_type": "code",
   "execution_count": 86,
   "id": "670c7537",
   "metadata": {},
   "outputs": [
    {
     "data": {
      "text/plain": [
       "[6000, 4000, 11000, 24000, 10000]"
      ]
     },
     "execution_count": 86,
     "metadata": {},
     "output_type": "execute_result"
    }
   ],
   "source": [
    "example_calories_totals"
   ]
  },
  {
   "cell_type": "code",
   "execution_count": 87,
   "id": "210aebc8",
   "metadata": {},
   "outputs": [],
   "source": [
    "assert answer == example_answer"
   ]
  },
  {
   "cell_type": "markdown",
   "id": "d2a23dc4",
   "metadata": {},
   "source": [
    "### Answer"
   ]
  },
  {
   "cell_type": "code",
   "execution_count": 43,
   "id": "bb810f81",
   "metadata": {},
   "outputs": [
    {
     "data": {
      "text/plain": [
       "70374"
      ]
     },
     "execution_count": 43,
     "metadata": {},
     "output_type": "execute_result"
    }
   ],
   "source": [
    "max_calories"
   ]
  },
  {
   "cell_type": "markdown",
   "id": "8e981962",
   "metadata": {},
   "source": [
    "---\n",
    "\n",
    "## Part II"
   ]
  },
  {
   "cell_type": "code",
   "execution_count": 44,
   "id": "94b07e74",
   "metadata": {},
   "outputs": [],
   "source": [
    "# Sort calorie totals by highest to lowest.\n",
    "sorted_calorie_totals = sorted(calorie_totals, reverse=True)"
   ]
  },
  {
   "cell_type": "code",
   "execution_count": 45,
   "id": "a3dba41d",
   "metadata": {},
   "outputs": [],
   "source": [
    "# Find the top 3 by slicing the first 3 values in the list and creating\n",
    "# a new list from those values.\n",
    "top_three_calorie_totals = sorted_calorie_totals[0:3]"
   ]
  },
  {
   "cell_type": "code",
   "execution_count": 46,
   "id": "a103f933",
   "metadata": {},
   "outputs": [],
   "source": [
    "# Sum the top 3 calorie totals\n",
    "total = sum(top_three_calorie_totals)"
   ]
  },
  {
   "cell_type": "code",
   "execution_count": 47,
   "id": "9bea2cb3",
   "metadata": {},
   "outputs": [
    {
     "name": "stdout",
     "output_type": "stream",
     "text": [
      "Top 3 calorie values:\n",
      "      \n",
      "      1. 70374\n",
      "      2. 68996\n",
      "      3. 65240\n",
      "\n",
      "Total calories: 204610\n"
     ]
    }
   ],
   "source": [
    "# Formatted answer for the top 3 highest calorie amounts.\n",
    "first, second, third = top_three_calorie_totals\n",
    "\n",
    "print(f\"\"\"Top 3 calorie values:\n",
    "      \n",
    "      1. {first}\n",
    "      2. {second}\n",
    "      3. {third}\"\"\")\n",
    "\n",
    "print(f\"\\nTotal calories: {total}\")"
   ]
  },
  {
   "cell_type": "markdown",
   "id": "824e1ad8",
   "metadata": {},
   "source": [
    "### Testcases"
   ]
  },
  {
   "cell_type": "code",
   "execution_count": 91,
   "id": "37a70354",
   "metadata": {},
   "outputs": [],
   "source": [
    "sorted_example_calories_totals = sorted(example_calories_totals, reverse=True)\n",
    "\n",
    "example_top_three = sorted_example_calories_totals[0:3]\n",
    "example_answer_2 = sum(example_top_three)\n",
    "\n",
    "answer_2 = 45000"
   ]
  },
  {
   "cell_type": "code",
   "execution_count": 92,
   "id": "91afa649",
   "metadata": {},
   "outputs": [],
   "source": [
    "assert example_answer_2 == answer_2"
   ]
  },
  {
   "cell_type": "markdown",
   "id": "8d40b6f1",
   "metadata": {},
   "source": [
    "### Answer"
   ]
  },
  {
   "cell_type": "code",
   "execution_count": 48,
   "id": "74d6c11b",
   "metadata": {},
   "outputs": [
    {
     "data": {
      "text/plain": [
       "204610"
      ]
     },
     "execution_count": 48,
     "metadata": {},
     "output_type": "execute_result"
    }
   ],
   "source": [
    "total"
   ]
  }
 ],
 "metadata": {
  "kernelspec": {
   "display_name": "Python 3",
   "language": "python",
   "name": "python3"
  },
  "language_info": {
   "codemirror_mode": {
    "name": "ipython",
    "version": 3
   },
   "file_extension": ".py",
   "mimetype": "text/x-python",
   "name": "python",
   "nbconvert_exporter": "python",
   "pygments_lexer": "ipython3",
   "version": "3.10.12"
  }
 },
 "nbformat": 4,
 "nbformat_minor": 5
}
