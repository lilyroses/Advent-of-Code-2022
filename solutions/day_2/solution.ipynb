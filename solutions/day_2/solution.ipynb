{
 "cells": [
  {
   "cell_type": "markdown",
   "metadata": {},
   "source": [
    "# Solution for Day 2: Rock Paper Scissors\n",
    "\n",
    "*Advent of Code 2022*"
   ]
  },
  {
   "cell_type": "markdown",
   "metadata": {},
   "source": [
    "- [Day 2 Challenge](https://adventofcode.com/2022/day/2)\n",
    "\n",
    "- [Instructions](instructions.md)\n",
    "\n",
    "- [Input Data](input.txt)\n",
    "\n",
    "---"
   ]
  },
  {
   "cell_type": "markdown",
   "metadata": {},
   "source": [
    "## Part I"
   ]
  },
  {
   "cell_type": "code",
   "execution_count": 31,
   "metadata": {},
   "outputs": [],
   "source": [
    "INPUT_FILE = 'input.txt'"
   ]
  },
  {
   "cell_type": "code",
   "execution_count": 32,
   "metadata": {},
   "outputs": [],
   "source": [
    "with open(INPUT_FILE) as f:\n",
    "    lines = [line.strip() for line in f.readlines()]"
   ]
  },
  {
   "cell_type": "code",
   "execution_count": 33,
   "metadata": {},
   "outputs": [],
   "source": [
    "LOSE = 0\n",
    "TIE = 3\n",
    "WIN = 6"
   ]
  },
  {
   "cell_type": "code",
   "execution_count": 34,
   "metadata": {},
   "outputs": [],
   "source": [
    "MOVE_CODES = {\n",
    "    'A': 'rock',\n",
    "    'X': 'rock',\n",
    "    'B': 'paper',\n",
    "    'Y': 'paper',\n",
    "    'C': 'scissors',\n",
    "    'Z': 'scissors'\n",
    "}"
   ]
  },
  {
   "cell_type": "code",
   "execution_count": 35,
   "metadata": {},
   "outputs": [],
   "source": [
    "MOVE_POINTS = {\n",
    "    'rock': 1,\n",
    "    'paper': 2,\n",
    "    'scissors': 3\n",
    "}"
   ]
  },
  {
   "cell_type": "code",
   "execution_count": 36,
   "metadata": {},
   "outputs": [],
   "source": [
    "def parse_codes(codes):\n",
    "    \"\"\"Parse input data and return move codes.\"\"\"\n",
    "    game_info = []\n",
    "    for code in codes:\n",
    "        info = (code[0], code[2])\n",
    "        game_info.append(info)\n",
    "    return game_info"
   ]
  },
  {
   "cell_type": "code",
   "execution_count": 37,
   "metadata": {},
   "outputs": [],
   "source": [
    "game_rounds = parse_codes(codes=lines)"
   ]
  },
  {
   "cell_type": "code",
   "execution_count": 38,
   "metadata": {},
   "outputs": [],
   "source": [
    "answer_part_1 = 0"
   ]
  },
  {
   "cell_type": "code",
   "execution_count": 39,
   "metadata": {},
   "outputs": [
    {
     "name": "stdout",
     "output_type": "stream",
     "text": [
      "10624\n"
     ]
    }
   ],
   "source": [
    "for game_round in game_rounds:\n",
    "    round_score = 0\n",
    "\n",
    "    opponent_move = MOVE_CODES[game_round[0]]\n",
    "    my_move = MOVE_CODES[game_round[1]]\n",
    "\n",
    "    round_score += MOVE_POINTS[my_move]\n",
    "\n",
    "    # If the outcome is a tie\n",
    "    if opponent_move == my_move:\n",
    "        round_score += TIE\n",
    "\n",
    "    # If the outcome is not a tie:\n",
    "    else:\n",
    "\n",
    "        # If my move is rock\n",
    "        if my_move == 'rock':\n",
    "            # If the opponent's move is paper, I lose\n",
    "            if opponent_move == 'paper':\n",
    "                round_score += LOSE\n",
    "            # If the opponent's move is scissors, I win\n",
    "            elif opponent_move == 'scissors':\n",
    "                round_score += WIN\n",
    "\n",
    "        # If my move is paper\n",
    "        elif my_move == 'paper':\n",
    "            # If the opponent's move is scissors, I lose\n",
    "            if opponent_move == 'scisscors': \n",
    "                round_score += LOSE\n",
    "            # If the opponent's move is rock, I win\n",
    "            elif opponent_move == 'rock':\n",
    "                round_score += WIN\n",
    "\n",
    "        # If my move is scissors\n",
    "        elif my_move == 'scissors':\n",
    "            # If the opponent's move is rock, I lose\n",
    "            if opponent_move == 'rock':\n",
    "                round_score += LOSE\n",
    "            # If the opponent's move is paper, I win\n",
    "            elif opponent_move == 'paper':\n",
    "                round_score += WIN\n",
    "\n",
    "    answer_part_1 += round_score\n",
    "print(answer_part_1)"
   ]
  },
  {
   "cell_type": "markdown",
   "metadata": {},
   "source": [
    "### Answer"
   ]
  },
  {
   "cell_type": "code",
   "execution_count": 47,
   "metadata": {},
   "outputs": [
    {
     "name": "stdout",
     "output_type": "stream",
     "text": [
      "Answer (Part I): 10624\n"
     ]
    }
   ],
   "source": [
    "print(f'Answer (Part I): {answer_part_1}')"
   ]
  },
  {
   "cell_type": "markdown",
   "metadata": {},
   "source": [
    "---\n",
    "\n",
    "## Part II"
   ]
  },
  {
   "cell_type": "code",
   "execution_count": 41,
   "metadata": {},
   "outputs": [],
   "source": [
    "OUTCOME_CODES = {\n",
    "    'X': 'lose',\n",
    "    'Y': 'tie',\n",
    "    'Z': 'win'\n",
    "}"
   ]
  },
  {
   "cell_type": "code",
   "execution_count": 42,
   "metadata": {},
   "outputs": [],
   "source": [
    "answer_part_2 = 0"
   ]
  },
  {
   "cell_type": "code",
   "execution_count": 43,
   "metadata": {},
   "outputs": [],
   "source": [
    "for game_round in game_rounds:\n",
    "    round_score = 0\n",
    "    \n",
    "    opponent_code = game_round[0]\n",
    "    my_code = game_round[1]\n",
    "\n",
    "    opponent_move = MOVE_CODES[opponent_code]\n",
    "    outcome_code = OUTCOME_CODES[my_code]\n",
    "    \n",
    "    # print(f'Opponent move: {opponent_move}')\n",
    "    # print(f'Outcome code: {outcome_code}')\n",
    "    if outcome_code == 'tie':\n",
    "        round_score += TIE\n",
    "        round_score += MOVE_POINTS[opponent_move]\n",
    "        \n",
    "    elif outcome_code == 'lose':\n",
    "        round_score += LOSE\n",
    "        if opponent_move == 'rock':\n",
    "            round_score += MOVE_POINTS['scissors']\n",
    "        elif opponent_move == 'paper':\n",
    "            round_score += MOVE_POINTS['rock']\n",
    "        elif opponent_move == 'scissors':\n",
    "            round_score += MOVE_POINTS['paper']\n",
    "            \n",
    "    elif outcome_code == 'win':\n",
    "        round_score += WIN\n",
    "        if opponent_move == 'rock':\n",
    "            round_score += MOVE_POINTS['paper']\n",
    "        elif opponent_move == 'paper':\n",
    "            round_score += MOVE_POINTS['scissors']\n",
    "        elif opponent_move == 'scissors':\n",
    "            round_score += MOVE_POINTS['rock'] \n",
    "            \n",
    "    # print(round_score)                              \n",
    "    answer_part_2 += round_score"
   ]
  },
  {
   "cell_type": "code",
   "execution_count": 44,
   "metadata": {},
   "outputs": [],
   "source": [
    "assert answer_part_2 == 14060, 'Error'"
   ]
  },
  {
   "cell_type": "markdown",
   "metadata": {},
   "source": [
    "### Answer"
   ]
  },
  {
   "cell_type": "code",
   "execution_count": 46,
   "metadata": {},
   "outputs": [
    {
     "name": "stdout",
     "output_type": "stream",
     "text": [
      "Answer (Part II): 14060\n"
     ]
    }
   ],
   "source": [
    "print(f'Answer (Part II): {answer_part_2}')\n",
    "# print(f'New total score: 14060')"
   ]
  }
 ],
 "metadata": {
  "kernelspec": {
   "display_name": "Python 3",
   "language": "python",
   "name": "python3"
  },
  "language_info": {
   "codemirror_mode": {
    "name": "ipython",
    "version": 3
   },
   "file_extension": ".py",
   "mimetype": "text/x-python",
   "name": "python",
   "nbconvert_exporter": "python",
   "pygments_lexer": "ipython3",
   "version": "3.10.12"
  },
  "orig_nbformat": 4
 },
 "nbformat": 4,
 "nbformat_minor": 2
}
