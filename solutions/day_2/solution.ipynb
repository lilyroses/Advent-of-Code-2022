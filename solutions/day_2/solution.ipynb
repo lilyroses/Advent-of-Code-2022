{
 "cells": [
  {
   "cell_type": "markdown",
   "metadata": {},
   "source": [
    "# Day 2: Rock Paper Scissors Solution\n",
    "\n",
    "- [Homepage](https://adventofcode.com/2022)\n",
    "- [Day 2 Challenge](https://adventofcode.com/2022/day/2)\n",
    "- [Input Data](https://adventofcode.com/2022/day/2/input)\n",
    "\n",
    "---"
   ]
  },
  {
   "cell_type": "markdown",
   "metadata": {},
   "source": [
    "## Part I"
   ]
  },
  {
   "cell_type": "code",
   "execution_count": 3,
   "metadata": {},
   "outputs": [],
   "source": [
    "input_file = 'input.txt'"
   ]
  },
  {
   "cell_type": "code",
   "execution_count": 4,
   "metadata": {},
   "outputs": [],
   "source": [
    "rounds = []\n",
    "\n",
    "with open(input_file, 'r') as f:\n",
    "    codes = [line.strip() for line in f.readlines()]\n",
    "    for code in codes:\n",
    "        round = (code[0], code[2])\n",
    "        rounds.append(round)\n",
    "# rounds   "
   ]
  },
  {
   "cell_type": "code",
   "execution_count": 5,
   "metadata": {},
   "outputs": [],
   "source": [
    "move_codes = {\n",
    "    'A': 'rock',\n",
    "    'X': 'rock',\n",
    "    'B': 'paper',\n",
    "    'Y': 'paper',\n",
    "    'C': 'scissors',\n",
    "    'Z': 'scissors',\n",
    "}"
   ]
  },
  {
   "cell_type": "code",
   "execution_count": 6,
   "metadata": {},
   "outputs": [],
   "source": [
    "move_points = {\n",
    "    'rock': 1,\n",
    "    'paper': 2,\n",
    "    'scissors': 3\n",
    "}"
   ]
  },
  {
   "cell_type": "code",
   "execution_count": 7,
   "metadata": {},
   "outputs": [],
   "source": [
    "lose = 0\n",
    "tie = 3\n",
    "win = 6"
   ]
  },
  {
   "cell_type": "code",
   "execution_count": 8,
   "metadata": {},
   "outputs": [],
   "source": [
    "total_score = 0\n",
    "\n",
    "for round in rounds:\n",
    "    round_score = 0\n",
    "    \n",
    "    opponent_code = round[0]\n",
    "    my_code = round[1]\n",
    "    \n",
    "    opponent_move = move_codes[opponent_code]\n",
    "    my_move = move_codes[my_code]\n",
    "    \n",
    "    # Add the score for my choice of move to the round score\n",
    "    round_score += move_points[my_move]\n",
    "    \n",
    "    # If the outcome is a tie\n",
    "    if opponent_move == my_move:\n",
    "        round_score += tie\n",
    "    \n",
    "    # If the outcome is not a tie:\n",
    "    else:\n",
    "        \n",
    "        # If my move is rock\n",
    "        if my_move == 'rock':\n",
    "            # If the opponent's move is paper, I lose\n",
    "            if opponent_move == 'paper':\n",
    "                round_score += lose\n",
    "            # If the opponent's move is scissors, I win\n",
    "            elif opponent_move == 'scissors':\n",
    "                round_score += win\n",
    "        \n",
    "        # If my move is paper\n",
    "        elif my_move == 'paper':\n",
    "            # If the opponent's move is scissors, I lose\n",
    "            if opponent_move == 'scisscors': \n",
    "                round_score += lose\n",
    "            # If the opponent's move is rock, I win\n",
    "            elif opponent_move == 'rock':\n",
    "                round_score += win\n",
    " \n",
    "        # If my move is scissors\n",
    "        elif my_move == 'scissors':\n",
    "            # If the opponent's move is rock, I lose\n",
    "            if opponent_move == 'rock':\n",
    "                round_score += lose\n",
    "            # If the opponent's move is paper, I win\n",
    "            elif opponent_move == 'paper':\n",
    "                round_score += win\n",
    "                \n",
    "    total_score += round_score"
   ]
  },
  {
   "cell_type": "markdown",
   "metadata": {},
   "source": [
    "### Answer"
   ]
  },
  {
   "cell_type": "code",
   "execution_count": 9,
   "metadata": {},
   "outputs": [
    {
     "name": "stdout",
     "output_type": "stream",
     "text": [
      "Total score: 10624\n"
     ]
    }
   ],
   "source": [
    "print(f'Total score: {total_score}')"
   ]
  },
  {
   "cell_type": "markdown",
   "metadata": {},
   "source": [
    "---\n",
    "\n",
    "## Part II"
   ]
  },
  {
   "cell_type": "code",
   "execution_count": 10,
   "metadata": {},
   "outputs": [],
   "source": [
    "outcome_codes = {\n",
    "    'X': 'lose',\n",
    "    'Y': 'tie',\n",
    "    'Z': 'win'\n",
    "}"
   ]
  },
  {
   "cell_type": "code",
   "execution_count": 11,
   "metadata": {},
   "outputs": [],
   "source": [
    "new_total_score = 0"
   ]
  },
  {
   "cell_type": "code",
   "execution_count": 12,
   "metadata": {},
   "outputs": [],
   "source": [
    "for round in rounds:\n",
    "    round_score = 0\n",
    "    \n",
    "    opponent_code = round[0]\n",
    "    my_code = round[1]\n",
    "    \n",
    "    opponent_move = move_codes[opponent_code]\n",
    "    outcome_code = outcome_codes[my_code]\n",
    "    \n",
    "    # print(f'Opponent move: {opponent_move}')\n",
    "    # print(f'Outcome code: {outcome_code}')\n",
    "    if outcome_code == 'tie':\n",
    "        round_score += tie\n",
    "        round_score += move_points[opponent_move]\n",
    "        \n",
    "    elif outcome_code == 'lose':\n",
    "        round_score += lose\n",
    "        if opponent_move == 'rock':\n",
    "            round_score += move_points['scissors']\n",
    "        elif opponent_move == 'paper':\n",
    "            round_score += move_points['rock']\n",
    "        elif opponent_move == 'scissors':\n",
    "            round_score += move_points['paper']\n",
    "            \n",
    "    elif outcome_code == 'win':\n",
    "        round_score += win\n",
    "        if opponent_move == 'rock':\n",
    "            round_score += move_points['paper']\n",
    "        elif opponent_move == 'paper':\n",
    "            round_score += move_points['scissors']\n",
    "        elif opponent_move == 'scissors':\n",
    "            round_score += move_points['rock'] \n",
    "            \n",
    "    # print(round_score)                              \n",
    "    new_total_score += round_score"
   ]
  },
  {
   "cell_type": "markdown",
   "metadata": {},
   "source": [
    "### Answer"
   ]
  },
  {
   "cell_type": "code",
   "execution_count": 14,
   "metadata": {},
   "outputs": [
    {
     "name": "stdout",
     "output_type": "stream",
     "text": [
      "New total score: 14060\n"
     ]
    }
   ],
   "source": [
    "print(f'New total score: {new_total_score}')"
   ]
  }
 ],
 "metadata": {
  "kernelspec": {
   "display_name": "Python 3",
   "language": "python",
   "name": "python3"
  },
  "language_info": {
   "codemirror_mode": {
    "name": "ipython",
    "version": 3
   },
   "file_extension": ".py",
   "mimetype": "text/x-python",
   "name": "python",
   "nbconvert_exporter": "python",
   "pygments_lexer": "ipython3",
   "version": "3.10.12"
  },
  "orig_nbformat": 4
 },
 "nbformat": 4,
 "nbformat_minor": 2
}
