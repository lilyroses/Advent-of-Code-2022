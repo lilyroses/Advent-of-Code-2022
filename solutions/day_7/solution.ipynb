{
 "cells": [
  {
   "cell_type": "markdown",
   "id": "3a518ca9",
   "metadata": {},
   "source": [
    "# Solution for Day 7: No Space Left On Device\n",
    "\n",
    "*Advent of Code 2022*"
   ]
  },
  {
   "cell_type": "markdown",
   "id": "3f5d9ea0",
   "metadata": {},
   "source": [
    "- [Homepage](https://adventofcode.com/2022)\n",
    "\n",
    "- [Day 7 Challenge](https://adventofcode.com/2022/day/7)\n",
    "\n",
    "- [Input Data](https://adventofcode.com/2022/day/7/input)\n",
    "\n",
    "---"
   ]
  },
  {
   "cell_type": "code",
   "execution_count": 1,
   "id": "552c94fe",
   "metadata": {},
   "outputs": [],
   "source": [
    "INPUT_FILE = 'input.txt'"
   ]
  },
  {
   "cell_type": "markdown",
   "id": "faa44d7a",
   "metadata": {},
   "source": [
    "---\n",
    "\n",
    "## Part I    "
   ]
  },
  {
   "cell_type": "code",
   "execution_count": null,
   "id": "68b5dbc7",
   "metadata": {},
   "outputs": [],
   "source": []
  },
  {
   "cell_type": "markdown",
   "id": "37f6ecc7",
   "metadata": {},
   "source": [
    "### Answer"
   ]
  },
  {
   "cell_type": "code",
   "execution_count": null,
   "id": "0730b872",
   "metadata": {},
   "outputs": [],
   "source": []
  },
  {
   "cell_type": "markdown",
   "id": "93f4a7b8",
   "metadata": {},
   "source": [
    "---\n",
    "\n",
    "## Part II    "
   ]
  },
  {
   "cell_type": "code",
   "execution_count": null,
   "id": "04baad4a",
   "metadata": {},
   "outputs": [],
   "source": []
  },
  {
   "cell_type": "markdown",
   "id": "3d2237bf",
   "metadata": {},
   "source": [
    "### Answer"
   ]
  },
  {
   "cell_type": "code",
   "execution_count": null,
   "id": "524cc04f",
   "metadata": {},
   "outputs": [],
   "source": []
  }
 ],
 "metadata": {
  "kernelspec": {
   "display_name": "Python 3",
   "language": "python",
   "name": "python3"
  },
  "language_info": {
   "codemirror_mode": {
    "name": "ipython",
    "version": 3
   },
   "file_extension": ".py",
   "mimetype": "text/x-python",
   "name": "python",
   "nbconvert_exporter": "python",
   "pygments_lexer": "ipython3",
   "version": "3.11.5"
  }
 },
 "nbformat": 4,
 "nbformat_minor": 5
}
