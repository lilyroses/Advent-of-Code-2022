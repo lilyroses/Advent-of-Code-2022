{
 "cells": [
  {
   "cell_type": "markdown",
   "metadata": {},
   "source": [
    "# Copied Solution for Advent of Code, 2022 Day 8\n",
    "\n",
    "Credit: William Feng (https://github.com/womogenes/AoC-2022-Solutions/blob/main/day_08/day_08_p1.py#L2)"
   ]
  },
  {
   "cell_type": "markdown",
   "metadata": {},
   "source": [
    "## Part I"
   ]
  },
  {
   "cell_type": "code",
   "execution_count": 1,
   "metadata": {},
   "outputs": [],
   "source": [
    "import numpy as np"
   ]
  },
  {
   "cell_type": "code",
   "execution_count": 2,
   "metadata": {},
   "outputs": [],
   "source": [
    "INPUT_FILE = 'input.txt'"
   ]
  },
  {
   "cell_type": "code",
   "execution_count": 3,
   "metadata": {},
   "outputs": [],
   "source": [
    "with open(INPUT_FILE, 'r') as f:\n",
    "    lines = [line.strip('\\n') for line in f.readlines()]\n",
    "\n",
    "grid = np.array([list(map(int, list(line)))\n",
    "                      for line in lines])"
   ]
  },
  {
   "cell_type": "code",
   "execution_count": 4,
   "metadata": {},
   "outputs": [],
   "source": [
    "rows, columns = grid.shape"
   ]
  },
  {
   "cell_type": "code",
   "execution_count": 5,
   "metadata": {},
   "outputs": [
    {
     "name": "stdout",
     "output_type": "stream",
     "text": [
      "1820\n"
     ]
    }
   ],
   "source": [
    "total_visible_trees = 0\n",
    "\n",
    "for i in range(rows):\n",
    "    for j in range(columns):\n",
    "        \n",
    "        current_tree = grid[i, j]\n",
    "        \n",
    "        # Check for the first tree in the row \n",
    "        if j == 0 or np.amax(grid[i, :j]) < current_tree:\n",
    "            total_visible_trees += 1\n",
    "            \n",
    "        elif j == columns - 1 or np.amax(grid[i, (j+1):]) < current_tree:\n",
    "            total_visible_trees += 1\n",
    "        \n",
    "        elif i == 0 or np.amax(grid[:i, j]) < current_tree:\n",
    "            total_visible_trees += 1\n",
    "            \n",
    "        elif i == rows - 1 or np.amax(grid[(i+1):, j]) < current_tree:\n",
    "            total_visible_trees += 1\n",
    "            \n",
    "print(total_visible_trees)"
   ]
  },
  {
   "cell_type": "code",
   "execution_count": 6,
   "metadata": {},
   "outputs": [
    {
     "name": "stdout",
     "output_type": "stream",
     "text": [
      "Answer: 1820\n"
     ]
    }
   ],
   "source": [
    "answer = total_visible_trees\n",
    "\n",
    "print(f'Answer: {answer}')"
   ]
  },
  {
   "cell_type": "markdown",
   "metadata": {},
   "source": [
    "## Part II"
   ]
  },
  {
   "cell_type": "code",
   "execution_count": 7,
   "metadata": {},
   "outputs": [],
   "source": [
    "dd = [[0, 1], [0, -1], [1, 0], [-1, 0]]"
   ]
  },
  {
   "cell_type": "code",
   "execution_count": 8,
   "metadata": {},
   "outputs": [],
   "source": [
    "total_visible_trees = 0"
   ]
  },
  {
   "cell_type": "code",
   "execution_count": 9,
   "metadata": {},
   "outputs": [
    {
     "name": "stdout",
     "output_type": "stream",
     "text": [
      "385112\n"
     ]
    }
   ],
   "source": [
    "for i in range(rows):\n",
    "    for j in range(columns):\n",
    "        current_tree = grid[i, j]\n",
    "        \n",
    "        score = 1\n",
    "        \n",
    "        # Scan in 4 dire3ctions\n",
    "        for di, dj in dd:\n",
    "            ii, jj = i + di, j + dj\n",
    "            dist = 0\n",
    "            \n",
    "            while (0 <= ii < rows and 0 <= jj < columns) and grid[ii, jj] < current_tree:\n",
    "                dist += 1\n",
    "                ii += di\n",
    "                jj += dj\n",
    "                \n",
    "                if (0 <= ii < rows and 0 <= jj < columns) and grid[ii, jj]>= current_tree:\n",
    "                    dist += 1\n",
    "                    \n",
    "            score *= dist \n",
    "            \n",
    "        total_visible_trees = max(total_visible_trees, score)\n",
    "        \n",
    "print(total_visible_trees)"
   ]
  }
 ],
 "metadata": {
  "kernelspec": {
   "display_name": "Python 3",
   "language": "python",
   "name": "python3"
  },
  "language_info": {
   "codemirror_mode": {
    "name": "ipython",
    "version": 3
   },
   "file_extension": ".py",
   "mimetype": "text/x-python",
   "name": "python",
   "nbconvert_exporter": "python",
   "pygments_lexer": "ipython3",
   "version": "3.10.12"
  }
 },
 "nbformat": 4,
 "nbformat_minor": 2
}
