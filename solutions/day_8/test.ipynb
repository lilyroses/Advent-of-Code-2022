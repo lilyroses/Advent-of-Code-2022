{
 "cells": [
  {
   "cell_type": "markdown",
   "metadata": {},
   "source": [
    "# WORKING"
   ]
  },
  {
   "cell_type": "code",
   "execution_count": 1,
   "metadata": {},
   "outputs": [],
   "source": [
    "import numpy as np\n",
    "import pandas as pd"
   ]
  },
  {
   "cell_type": "code",
   "execution_count": 2,
   "metadata": {},
   "outputs": [],
   "source": [
    "INPUT_FILE = 'input.txt'"
   ]
  },
  {
   "cell_type": "code",
   "execution_count": 3,
   "metadata": {},
   "outputs": [],
   "source": [
    "with open(INPUT_FILE, 'r') as f:\n",
    "    lines = [line.strip('\\n') for line in f.readlines()]\n",
    "    \n",
    "# lines"
   ]
  },
  {
   "cell_type": "code",
   "execution_count": 4,
   "metadata": {},
   "outputs": [],
   "source": [
    "# Example input, same format as \"lines\"\n",
    "\n",
    "example_tree_grid = [\n",
    "    '30373',\n",
    "    '25512',\n",
    "    '65332',\n",
    "    '33549',\n",
    "    '35390'\n",
    "]"
   ]
  },
  {
   "cell_type": "markdown",
   "metadata": {},
   "source": [
    "---\n",
    "\n",
    "## Create Tree Grid"
   ]
  },
  {
   "cell_type": "code",
   "execution_count": 20,
   "metadata": {},
   "outputs": [],
   "source": [
    "def create_tree_grid(lines):\n",
    "    \"\"\"Create an array from a list of numeric strings.\"\"\"\n",
    "    rows = [[int(num) for num in list(line)] for line in lines]\n",
    "    rows = np.array(rows)\n",
    "    return rows"
   ]
  },
  {
   "cell_type": "code",
   "execution_count": 21,
   "metadata": {},
   "outputs": [
    {
     "data": {
      "text/plain": [
       "array([[3, 0, 3, 7, 3],\n",
       "       [2, 5, 5, 1, 2],\n",
       "       [6, 5, 3, 3, 2],\n",
       "       [3, 3, 5, 4, 9],\n",
       "       [3, 5, 3, 9, 0]])"
      ]
     },
     "execution_count": 21,
     "metadata": {},
     "output_type": "execute_result"
    }
   ],
   "source": [
    "tree_grid = create_tree_grid(example_tree_grid)\n",
    "\n",
    "# tree_grid = create_tree_grid(lines)\n",
    "tree_grid"
   ]
  },
  {
   "cell_type": "markdown",
   "metadata": {},
   "source": [
    "---\n",
    "\n",
    "## Create Empty Grid to Hold Checked Trees"
   ]
  },
  {
   "cell_type": "code",
   "execution_count": 22,
   "metadata": {},
   "outputs": [],
   "source": [
    "def create_checked_grid(tree_grid):\n",
    "    num_of_rows = tree_grid.shape[0]\n",
    "    num_of_columns = tree_grid.shape[1]\n",
    "    \n",
    "    checked_grid = np.zeros((num_of_rows, num_of_columns), dtype=np.int16)   \n",
    "\n",
    "    return checked_grid"
   ]
  },
  {
   "cell_type": "code",
   "execution_count": 23,
   "metadata": {},
   "outputs": [
    {
     "data": {
      "text/plain": [
       "array([[0, 0, 0, 0, 0],\n",
       "       [0, 0, 0, 0, 0],\n",
       "       [0, 0, 0, 0, 0],\n",
       "       [0, 0, 0, 0, 0],\n",
       "       [0, 0, 0, 0, 0]], dtype=int16)"
      ]
     },
     "execution_count": 23,
     "metadata": {},
     "output_type": "execute_result"
    }
   ],
   "source": [
    "checked_grid = create_checked_grid(tree_grid)\n",
    "checked_grid"
   ]
  },
  {
   "cell_type": "code",
   "execution_count": 26,
   "metadata": {},
   "outputs": [
    {
     "data": {
      "text/plain": [
       "array([[1, 1, 1, 1, 1],\n",
       "       [1, 0, 0, 0, 1],\n",
       "       [1, 0, 0, 0, 1],\n",
       "       [1, 0, 0, 0, 1],\n",
       "       [1, 1, 1, 1, 1]], dtype=int16)"
      ]
     },
     "execution_count": 26,
     "metadata": {},
     "output_type": "execute_result"
    }
   ],
   "source": [
    "def add_edge_trees_to_checked_grid(tree_grid):\n",
    "\n",
    "    last_row_index = len(tree_grid) - 1\n",
    "\n",
    "    # Check every row in the tree grid, and keep track of the index of the current row\n",
    "    for row_number, row in enumerate(tree_grid):\n",
    "        # Check every tree in each row, and keep track of the index of the current tree    \n",
    "        for tree_number, tree in enumerate(row):\n",
    "            # Add a 1 to the tree's location in the checked grid if the tree is on the edge\n",
    "            # of the grid\n",
    "            if (\n",
    "                (row_number == 0) or (row_number == last_row_index) or \n",
    "                (tree_number == 0) or (tree_number == len(row) - 1)\n",
    "            ):\n",
    "                checked_grid[row_number][tree_number] = 1\n",
    "\n",
    "            # Otherwise, keep track of each inner tree's neighbors.\n",
    "\n",
    "    return checked_grid\n",
    "    \n",
    "checked_grid = add_edge_trees_to_checked_grid(tree_grid)\n",
    "checked_grid\n",
    "        "
   ]
  },
  {
   "cell_type": "markdown",
   "metadata": {},
   "source": [
    "---\n",
    "\n",
    "# IN PROGRESS"
   ]
  },
  {
   "cell_type": "code",
   "execution_count": 34,
   "metadata": {},
   "outputs": [],
   "source": [
    "def look_down_row(tree_grid):\n",
    "    \n",
    "    # Save row, column point for each visible tree to this list\n",
    "    all_visible = []\n",
    "\n",
    "    # Enumerate through each row in the tree grid\n",
    "    for i, row in enumerate(tree_grid):\n",
    "        # Find the tallest tree for that row\n",
    "        tallest_tree_height = max(row)\n",
    "        \n",
    "        # Enumerate through the trees in each row\n",
    "        for j, tree in enumerate(row):\n",
    "            # If the tree is the first tree in the row\n",
    "            if j == 0:\n",
    "                # We don't need to explicitly add it to all_visible\n",
    "                # because all the edge trees were added with the add_edge_trees\n",
    "                # function\n",
    "                # We do need to set the first tree for comparison to the rest\n",
    "                # of the trees\n",
    "                current_tree = row[j]\n",
    "                # But if the current tree is the first tallest tree, then stop there.\n",
    "                if current_tree == tallest_tree_height:\n",
    "                    break\n",
    "                # Otherwise, continue checking the trees in the row.\n",
    "                else:\n",
    "                    continue\n",
    "            \n",
    "            # If the tree is not the first in the row and the tree equals the \n",
    "            # tallest tree height \n",
    "            elif tree == tallest_tree_height:\n",
    "                # Add that tree's point to the list of visible trees\n",
    "                all_visible.append([i, j])\n",
    "                # And then stop\n",
    "                break\n",
    "            # Otherwise, if the tree is not the first tree in the row and it does not\n",
    "            # equal the tallest tree\n",
    "            elif tree != tallest_tree_height:\n",
    "                # If the tree's height is taller than the current tree's height\n",
    "                if tree > current_tree:\n",
    "                    # Add that tree's points to the list of visible trees\n",
    "                    all_visible.append([i, j])\n",
    "                    # Then, set the current tree to that tree, so that any tree after\n",
    "                    # it must be higher than it to be visible\n",
    "                    current_tree = tree\n",
    "                # If the tree's height is equal to or smaller than the current tree's\n",
    "                # height, it will not be visible, so we can continue our search\n",
    "                # to find visible trees in the row\n",
    "                elif tree <= current_tree:\n",
    "                    continue\n",
    "                    \n",
    "\n",
    "        \n",
    "    # Returns a list of lists, where each sublist has two integers: one to represent\n",
    "    # the row, and one to represent the column of each visible tree in the tree_grid\n",
    "    # matrix.                    \n",
    "    return all_visible"
   ]
  },
  {
   "cell_type": "code",
   "execution_count": 94,
   "metadata": {},
   "outputs": [
    {
     "name": "stdout",
     "output_type": "stream",
     "text": [
      "[0, 3]\n",
      "[1, 2]\n",
      "[2, 3]\n",
      "[2, 1]\n",
      "[2, 0]\n",
      "[4, 3]\n"
     ]
    }
   ],
   "source": [
    "\n",
    "tree_grid_copy = tree_grid\n",
    "reversed_tree_grid = []\n",
    "\n",
    "for row in tree_grid_copy:\n",
    "    reversed_row = row[::-1]\n",
    "    reversed_tree_grid.append(reversed_row)\n",
    "    \n",
    "reversed_tree_grid = np.array(reversed_tree_grid)\n",
    "reversed_tree_grid\n",
    "\n",
    "\n",
    "reversed_visible_points = look_down_row(reversed_tree_grid)\n",
    "reversed_visible_points\n",
    "\n",
    "\n",
    "for point in reversed_visible_points:\n",
    "    new_point = []\n",
    "    row, column = point\n",
    "    last_index = len(tree_grid[0]) - 1\n",
    "    print([row, last_index - column])"
   ]
  },
  {
   "cell_type": "code",
   "execution_count": 37,
   "metadata": {},
   "outputs": [
    {
     "data": {
      "text/plain": [
       "[[0, 3], [1, 1], [3, 2], [3, 4], [4, 1], [4, 3]]"
      ]
     },
     "execution_count": 37,
     "metadata": {},
     "output_type": "execute_result"
    }
   ],
   "source": [
    "visible_points = look_down_row(tree_grid)\n",
    "visible_points\n",
    "\n",
    "for point in visible_points:\n",
    "    row, column = point"
   ]
  },
  {
   "cell_type": "code",
   "execution_count": 50,
   "metadata": {},
   "outputs": [
    {
     "data": {
      "text/plain": [
       "array([[1, 1, 1, 1, 1],\n",
       "       [1, 1, 0, 0, 1],\n",
       "       [1, 0, 0, 0, 1],\n",
       "       [1, 0, 1, 0, 1],\n",
       "       [1, 1, 1, 1, 1]], dtype=int16)"
      ]
     },
     "execution_count": 50,
     "metadata": {},
     "output_type": "execute_result"
    }
   ],
   "source": [
    "def update_checked_grid(visible_points):\n",
    "\n",
    "    for point in visible_points:\n",
    "        row, column = point\n",
    "        checked_grid[row][column] = 1\n",
    "        \n",
    "    return checked_grid\n",
    "\n",
    "update_checked_grid(visible_points)"
   ]
  }
 ],
 "metadata": {
  "kernelspec": {
   "display_name": "Python 3",
   "language": "python",
   "name": "python3"
  },
  "language_info": {
   "codemirror_mode": {
    "name": "ipython",
    "version": 3
   },
   "file_extension": ".py",
   "mimetype": "text/x-python",
   "name": "python",
   "nbconvert_exporter": "python",
   "pygments_lexer": "ipython3",
   "version": "3.10.12"
  }
 },
 "nbformat": 4,
 "nbformat_minor": 2
}
