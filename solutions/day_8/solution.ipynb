{
 "cells": [
  {
   "cell_type": "markdown",
   "metadata": {},
   "source": [
    "# Day 8 Solution\n",
    "\n",
    "---"
   ]
  },
  {
   "cell_type": "markdown",
   "metadata": {},
   "source": [
    "## Setup"
   ]
  },
  {
   "cell_type": "code",
   "execution_count": 1,
   "metadata": {},
   "outputs": [],
   "source": [
    "import numpy as np"
   ]
  },
  {
   "cell_type": "code",
   "execution_count": 2,
   "metadata": {},
   "outputs": [],
   "source": [
    "INPUT_FILE = 'input.txt'"
   ]
  },
  {
   "cell_type": "code",
   "execution_count": 4,
   "metadata": {},
   "outputs": [],
   "source": [
    "with open(INPUT_FILE, 'r') as f:\n",
    "    lines = [line.strip('\\n') for line in f.readlines()]\n",
    "    \n",
    "# lines"
   ]
  },
  {
   "cell_type": "markdown",
   "metadata": {},
   "source": [
    "---\n",
    "\n",
    "## Create Tree Grid from Lines"
   ]
  },
  {
   "cell_type": "code",
   "execution_count": 5,
   "metadata": {},
   "outputs": [],
   "source": [
    "def create_tree_grid(lines: list[str]) -> list[list[int]]:\n",
    "    \"\"\"Create an array of integers from a list of numeric strings.\"\"\"\n",
    "    rows = [[int(num) for num\n",
    "             in list(line)]\n",
    "            for line in lines]\n",
    "    # Convert to numpy array so object can be transposed later\n",
    "    rows = np.array(rows)\n",
    "    \n",
    "    return rows"
   ]
  },
  {
   "cell_type": "markdown",
   "metadata": {},
   "source": [
    "---\n",
    "\n",
    "## Create Checked Grid (Empty Grid of Zeros)"
   ]
  },
  {
   "cell_type": "code",
   "execution_count": 7,
   "metadata": {},
   "outputs": [],
   "source": [
    "def create_empty_checked_grid():\n",
    "    \"\"\"Create an array with the same shape as tree_grid, filled with 0s\"\"\"\n",
    "    rows, columns = tree_grid.shape\n",
    "    \n",
    "    empty_checked_grid = np.zeros((rows, columns),\n",
    "                                  dtype=np.int16)\n",
    "    \n",
    "    return empty_checked_grid"
   ]
  },
  {
   "cell_type": "markdown",
   "metadata": {},
   "source": [
    "---\n",
    "\n",
    "### Example Tree Grid"
   ]
  },
  {
   "cell_type": "code",
   "execution_count": 9,
   "metadata": {},
   "outputs": [],
   "source": [
    "# Example input, same format as \"lines\"\n",
    "\n",
    "example_lines = [\n",
    "    '30373',\n",
    "    '25512',\n",
    "    '65332',\n",
    "    '33549',\n",
    "    '35390'\n",
    "]"
   ]
  },
  {
   "cell_type": "markdown",
   "metadata": {},
   "source": [
    "Empty Grid"
   ]
  },
  {
   "cell_type": "code",
   "execution_count": 45,
   "metadata": {},
   "outputs": [
    {
     "data": {
      "text/plain": [
       "array([[0, 0, 0, 0, 0],\n",
       "       [0, 0, 0, 0, 0],\n",
       "       [0, 0, 0, 0, 0],\n",
       "       [0, 0, 0, 0, 0],\n",
       "       [0, 0, 0, 0, 0]], dtype=int16)"
      ]
     },
     "execution_count": 45,
     "metadata": {},
     "output_type": "execute_result"
    }
   ],
   "source": [
    "empty_checked_grid = create_empty_checked_grid()\n",
    "empty_checked_grid"
   ]
  },
  {
   "cell_type": "markdown",
   "metadata": {},
   "source": [
    "---\n",
    "\n",
    "Row View - Left to Right (Original)"
   ]
  },
  {
   "cell_type": "code",
   "execution_count": 62,
   "metadata": {},
   "outputs": [
    {
     "data": {
      "text/plain": [
       "array([[3, 0, 3, 7, 3],\n",
       "       [2, 5, 5, 1, 2],\n",
       "       [6, 5, 3, 3, 2],\n",
       "       [3, 3, 5, 4, 9],\n",
       "       [3, 5, 3, 9, 0]])"
      ]
     },
     "execution_count": 62,
     "metadata": {},
     "output_type": "execute_result"
    }
   ],
   "source": [
    "tree_grid_original = create_tree_grid(example_lines)\n",
    "# Or \n",
    "tree_grid_left_to_right = tree_grid_original\n",
    "tree_grid_left_to_right"
   ]
  },
  {
   "cell_type": "markdown",
   "metadata": {},
   "source": [
    "---\n",
    "\n",
    "## EXAMPLES (ERASE)"
   ]
  },
  {
   "cell_type": "code",
   "execution_count": 109,
   "metadata": {},
   "outputs": [
    {
     "data": {
      "text/plain": [
       "array([[1, 2, 3],\n",
       "       [4, 5, 6],\n",
       "       [7, 8, 9]])"
      ]
     },
     "execution_count": 109,
     "metadata": {},
     "output_type": "execute_result"
    }
   ],
   "source": [
    "tree_grid_example_left_to_right = np.array([\n",
    "    [1, 2, 3],\n",
    "    [4, 5, 6],\n",
    "    [7, 8, 9]\n",
    "])\n",
    "\n",
    "tree_grid_example_left_to_right"
   ]
  },
  {
   "cell_type": "code",
   "execution_count": 110,
   "metadata": {},
   "outputs": [
    {
     "data": {
      "text/plain": [
       "array([[3, 2, 1],\n",
       "       [6, 5, 4],\n",
       "       [9, 8, 7]])"
      ]
     },
     "execution_count": 110,
     "metadata": {},
     "output_type": "execute_result"
    }
   ],
   "source": [
    "tree_grid_example_right_to_left = np.fliplr(tree_grid_example_left_to_right)\n",
    "tree_grid_example_right_to_left"
   ]
  },
  {
   "cell_type": "code",
   "execution_count": 111,
   "metadata": {},
   "outputs": [
    {
     "data": {
      "text/plain": [
       "array([[1, 4, 7],\n",
       "       [2, 5, 8],\n",
       "       [3, 6, 9]])"
      ]
     },
     "execution_count": 111,
     "metadata": {},
     "output_type": "execute_result"
    }
   ],
   "source": [
    "tree_grid_example_up_to_down = np.rot90(tree_grid_example_left_to_right, 3)\n",
    "tree_grid_example_up_to_down = np.fliplr(tree_grid_example_up_to_down)\n",
    "tree_grid_example_up_to_down"
   ]
  },
  {
   "cell_type": "code",
   "execution_count": 112,
   "metadata": {},
   "outputs": [
    {
     "data": {
      "text/plain": [
       "array([[7, 4, 1],\n",
       "       [8, 5, 2],\n",
       "       [9, 6, 3]])"
      ]
     },
     "execution_count": 112,
     "metadata": {},
     "output_type": "execute_result"
    }
   ],
   "source": [
    "tree_grid_example_down_to_up = np.rot90(tree_grid_example_left_to_right, 3)\n",
    "tree_grid_example_down_to_up"
   ]
  },
  {
   "cell_type": "markdown",
   "metadata": {},
   "source": [
    "---\n",
    "\n",
    "Row View - Right to Left (Reversed)"
   ]
  },
  {
   "cell_type": "code",
   "execution_count": 96,
   "metadata": {},
   "outputs": [
    {
     "data": {
      "text/plain": [
       "array([[3, 7, 3, 0, 3],\n",
       "       [2, 1, 5, 5, 2],\n",
       "       [2, 3, 3, 5, 6],\n",
       "       [9, 4, 5, 3, 3],\n",
       "       [0, 9, 3, 5, 3]])"
      ]
     },
     "execution_count": 96,
     "metadata": {},
     "output_type": "execute_result"
    }
   ],
   "source": [
    "reversed_tree_grid = np.fliplr(tree_grid)\n",
    "# Or\n",
    "tree_grid_right_to_left = reversed_tree_grid\n",
    "tree_grid_right_to_left"
   ]
  },
  {
   "cell_type": "markdown",
   "metadata": {},
   "source": [
    "---\n",
    "\n",
    "Column View - Up to Down"
   ]
  },
  {
   "cell_type": "code",
   "execution_count": 116,
   "metadata": {},
   "outputs": [
    {
     "data": {
      "text/plain": [
       "array([[3, 2, 6, 3, 3],\n",
       "       [0, 5, 5, 3, 5],\n",
       "       [3, 5, 3, 5, 3],\n",
       "       [7, 1, 3, 4, 9],\n",
       "       [3, 2, 2, 9, 0]])"
      ]
     },
     "execution_count": 116,
     "metadata": {},
     "output_type": "execute_result"
    }
   ],
   "source": [
    "tree_grid_up_to_down = np.rot90(tree_grid_original, 3)\n",
    "tree_grid_up_to_down = np.fliplr(tree_grid_up_to_down)\n",
    "tree_grid_up_to_down\n",
    "\n",
    "# To flip back to normal:\n",
    "\n",
    "# tree_grid_back_to_normal = np.fliplr(tree_grid_up_to_down)\n",
    "# tree_grid_back_to_normal = np.rot90(tree_grid_back_to_normal, 1)\n",
    "# tree_grid_back_to_normal"
   ]
  },
  {
   "cell_type": "markdown",
   "metadata": {},
   "source": [
    "---\n",
    "\n",
    "Column View - Down to Up"
   ]
  },
  {
   "cell_type": "code",
   "execution_count": 114,
   "metadata": {},
   "outputs": [
    {
     "data": {
      "text/plain": [
       "array([[3, 0, 3, 7, 3],\n",
       "       [2, 5, 5, 1, 2],\n",
       "       [6, 5, 3, 3, 2],\n",
       "       [3, 3, 5, 4, 9],\n",
       "       [3, 5, 3, 9, 0]])"
      ]
     },
     "execution_count": 114,
     "metadata": {},
     "output_type": "execute_result"
    }
   ],
   "source": [
    "tree_grid_down_to_up = np.rot90(tree_grid_original, 3)\n",
    "# tree_grid_down_to_up = np.fliplr(tree_grid_down_to_up)\n",
    "# tree_grid_down_to_up\n",
    "\n",
    "tree_grid_back_to_normal = np.rot90(tree_grid_down_to_up, 1)\n",
    "tree_grid_back_to_normal"
   ]
  },
  {
   "cell_type": "markdown",
   "metadata": {},
   "source": [
    "---\n",
    "\n",
    "## Directional Checks "
   ]
  },
  {
   "cell_type": "markdown",
   "metadata": {},
   "source": [
    "### Edge Checks"
   ]
  },
  {
   "cell_type": "code",
   "execution_count": 17,
   "metadata": {},
   "outputs": [],
   "source": [
    "def add_edge_trees_to_checked_grid(tree_grid):\n",
    "    row_last_index = tree_grid.shape[0] - 1\n",
    "    \n",
    "    checked_grid_edges = create_empty_checked_grid()\n",
    "    \n",
    "    for i, row in enumerate(tree_grid):\n",
    "        for j, tree in enumerate(row):\n",
    "            if  (\n",
    "                    # Tree is in first row or tree is in first column\n",
    "                    (i == 0) or (j == 0) or\n",
    "                    # Tree is in last row\n",
    "                    (i == row_last_index) or\n",
    "                    # Tree is in last column\n",
    "                    (j == row_last_index)\n",
    "            ):\n",
    "                # Add a 1 to the edge tree's position\n",
    "                checked_grid_edges[i][j] = 1\n",
    "    \n",
    "    return checked_grid_edges"
   ]
  },
  {
   "cell_type": "markdown",
   "metadata": {},
   "source": [
    "---\n",
    "\n",
    "### Row Checks"
   ]
  },
  {
   "cell_type": "markdown",
   "metadata": {},
   "source": [
    "#### Left-to-Right"
   ]
  },
  {
   "cell_type": "code",
   "execution_count": 33,
   "metadata": {},
   "outputs": [],
   "source": [
    "def check_row_left_to_right(tree_grid_left_to_right):\n",
    "    \"\"\"Create a grid of trees visible for each row when viewed from left to right.\"\"\"\n",
    "    \n",
    "    # Initialize empty grid to add visible trees (1s) to\n",
    "    checked_grid_left_to_right = create_empty_checked_grid()\n",
    "    \n",
    "    # For each row in the tree grid\n",
    "    for i, row in enumerate(tree_grid_left_to_right):\n",
    "        # Find the tallest tree for that row\n",
    "        tallest_tree_height = max(row)\n",
    "        \n",
    "        for j, tree in enumerate(row):\n",
    "            # For the first tree in the row, set it as the current tallest tree\n",
    "            if j == 0:\n",
    "                current_tree = row[j]\n",
    "                checked_grid_left_to_right[i][j] = 1\n",
    "                # If the first tree is the tallest tree, we don't need to check the rest of\n",
    "                # the trees in the row, we can skip to checking the next row\n",
    "                if current_tree == tallest_tree_height:\n",
    "                    break\n",
    "            \n",
    "            # If the tree is not the first tree in the row, and the tree is the same height\n",
    "            # as the tallest tree\n",
    "            elif tree == tallest_tree_height:\n",
    "                # Add a visible tree marker (1) to the checked_trees grid\n",
    "                checked_grid_left_to_right[i][j] = 1\n",
    "                # Then skip to the next row\n",
    "                break\n",
    "            \n",
    "            # If the tree is not the first in the row, and it is not the tallest tree\n",
    "            elif tree != tallest_tree_height:\n",
    "                # If the tree's height is taller than the current tallest tree\n",
    "                if tree > current_tree:\n",
    "                    # Add a visible tree marker (1) to the checked_trees grid\n",
    "                    checked_grid_left_to_right[i][j] = 1\n",
    "                    # Then, change the current_tree to that tree, so that each following tree\n",
    "                    # must be taller than it to be considered visible.\n",
    "                    current_tree = tree\n",
    "                    \n",
    "                # If the tree is not the first in the row, and the tree is not taller than the\n",
    "                # current tallest tree, it is not visible, so continue checking the trees in\n",
    "                # the current row until the tallest tree is found.\n",
    "                elif tree <= current_tree:\n",
    "                    continue\n",
    "                \n",
    "    return checked_grid_left_to_right"
   ]
  },
  {
   "cell_type": "markdown",
   "metadata": {},
   "source": [
    "---\n",
    "\n",
    "#### Right-to-Left"
   ]
  },
  {
   "cell_type": "code",
   "execution_count": 76,
   "metadata": {},
   "outputs": [],
   "source": [
    "def check_row_right_to_left(tree_grid_right_to_left):\n",
    "    \"\"\"Create a grid of trees visible for each row when viewed from right to left.\"\"\"\n",
    "    checked_grid_right_to_left = create_empty_checked_grid()\n",
    "    \n",
    "    # For each row viewed from right to left (reversed row)\n",
    "    for i, row in enumerate(tree_grid_right_to_left):\n",
    "        # Find the tallest tree for that row\n",
    "        tallest_tree_height = max(row)\n",
    "        \n",
    "        # Iterate through each tree in the row\n",
    "        for j, tree in enumerate(row):\n",
    "            # For the first (when row is reversed, last if row is viewed left to right)\n",
    "            # tree in the row, set it as the current tallest tree\n",
    "            if j == 0:\n",
    "                current_tree = row[j]\n",
    "                checked_grid_right_to_left[i][j] = 1\n",
    "                # If the first tree is the tallest tree, skip to checking the next row\n",
    "                if current_tree == tallest_tree_height:\n",
    "                    break\n",
    "                \n",
    "            # If the tree is not the first (last) tree in the row, and the tree is the same\n",
    "            # height as the tallest tree\n",
    "            elif tree == tallest_tree_height:\n",
    "                # Add a visible tree marker (1) to the checked_trees grid at the tree's\n",
    "                # coordinates\n",
    "                checked_grid_right_to_left[i][j] = 1\n",
    "                # Then skip to checking the next row\n",
    "                break\n",
    "            \n",
    "            # If the tree is not the first (last) in the row, and it is not the tallest tree\n",
    "            elif tree != tallest_tree_height:\n",
    "                # If the tree's height is taller than the current tallest tree\n",
    "                if tree > current_tree:\n",
    "                    # Add a visible tree marker (1) to the checked_trees grid\n",
    "                    checked_grid_right_to_left[i][j] = 1\n",
    "                    # Then, change the current_tree to that tree, so that each following tree\n",
    "                    # must be taller than it to be considered visible.\n",
    "                    current_tree = tree\n",
    "                    \n",
    "                # The tree is not visible if it is not taller than the current tallest tree,\n",
    "                # so continue checking the rest of the trees in the current row until the\n",
    "                # tallest tree is found.\n",
    "                elif tree <= current_tree:\n",
    "                    continue\n",
    "    \n",
    "    # Reverse the checked grid so that the checked tree markers are in the correct coordinates\n",
    "    # as viewed on the checked grid from left to right.\n",
    "    \n",
    "    checked_grid_right_to_left = np.fliplr(checked_grid_right_to_left)  \n",
    "                \n",
    "    return checked_grid_right_to_left"
   ]
  },
  {
   "cell_type": "markdown",
   "metadata": {},
   "source": [
    "---\n",
    "\n",
    "### Column Checks"
   ]
  },
  {
   "cell_type": "markdown",
   "metadata": {},
   "source": [
    "#### Up to Down"
   ]
  },
  {
   "cell_type": "code",
   "execution_count": 99,
   "metadata": {},
   "outputs": [],
   "source": [
    "def check_column_up_to_down(tree_grid_up_to_down):\n",
    "    \"\"\"Create a grid of trees visible for each column when viewed from up to down.\"\"\"\n",
    "    \n",
    "    # Initialize empty grid to add visible trees (1s) to\n",
    "    checked_grid_up_to_down = create_empty_checked_grid()\n",
    "    \n",
    "    # For each column in the tree grid\n",
    "    for i, column in enumerate(tree_grid_up_to_down):\n",
    "        # Find the tallest tree for that column\n",
    "        tallest_tree_height = max(column)\n",
    "        \n",
    "        for j, tree in enumerate(column):\n",
    "            # For the first tree in the column, set it as the current tallest tree\n",
    "            if j == 0:\n",
    "                current_tree = column[j]\n",
    "                checked_grid_up_to_down[i][j] = 1\n",
    "                # If the first tree is the tallest tree, we don't need to check the rest of\n",
    "                # the trees in the column, we can skip to checking the next column\n",
    "                if current_tree == tallest_tree_height:\n",
    "                    break\n",
    "            \n",
    "            # If the tree is not the first in the column, and the tree is the same height\n",
    "            # as the tallest tree\n",
    "            elif tree == tallest_tree_height:\n",
    "                # Add a visible tree marker (1) to the checked_trees grid\n",
    "                checked_grid_up_to_down[i][j] = 1\n",
    "                # Then skip to the next column\n",
    "                break\n",
    "            \n",
    "            # If the tree is not the first in the column, and it is not the tallest tree\n",
    "            elif tree != tallest_tree_height:\n",
    "                # If the tree's height is taller than the current tallest tree\n",
    "                if tree > current_tree:\n",
    "                    # Add a visible tree marker (1) to the checked_trees grid\n",
    "                    checked_grid_up_to_down[i][j] = 1\n",
    "                    # Then, change the current_tree to that tree, so that each following tree\n",
    "                    # must be taller than it to be considered visible.\n",
    "                    current_tree = tree\n",
    "                    \n",
    "                # If the tree is not the first in the column, and the tree is not taller than\n",
    "                # the current tallest tree, it is not visible, so continue checking the trees\n",
    "                # in the current column until the tallest tree is found.\n",
    "                elif tree <= current_tree:\n",
    "                    continue\n",
    "                \n",
    "    # Flip the checked grid to reflect the trees visible from the original grid point of view\n",
    "    checked_grid_up_to_down = np.fliplr(checked_grid_up_to_down)\n",
    "    checked_grid_up_to_down = np.rot90(checked_grid_up_to_down, 1)\n",
    "    \n",
    "    return checked_grid_up_to_down"
   ]
  },
  {
   "cell_type": "markdown",
   "metadata": {},
   "source": [
    "---\n",
    "\n",
    "#### Down to Up"
   ]
  },
  {
   "cell_type": "code",
   "execution_count": 117,
   "metadata": {},
   "outputs": [],
   "source": [
    "def check_column_down_to_up(tree_grid_down_to_up):\n",
    "    \"\"\"Create a grid of trees visible for each column when viewed from down to up.\"\"\"\n",
    "    \n",
    "    # Initialize empty grid to add visible trees (1s) to\n",
    "    checked_grid_down_to_up = create_empty_checked_grid()\n",
    "    \n",
    "    # For each column in the tree grid\n",
    "    for i, column in enumerate(tree_grid_down_to_up):\n",
    "        # Find the tallest tree for that column\n",
    "        tallest_tree_height = max(column)\n",
    "        \n",
    "        for j, tree in enumerate(column):\n",
    "            # For the first (last) tree in the column, set it as the current tallest tree\n",
    "            if j == 0:\n",
    "                current_tree = column[j]\n",
    "                checked_grid_down_to_up[i][j] = 1\n",
    "                # If the first tree is the tallest tree, we don't need to check the rest of\n",
    "                # the trees in the column, we can skip to checking the next column\n",
    "                if current_tree == tallest_tree_height:\n",
    "                    break\n",
    "            \n",
    "            # If the tree is not the first (last) in the column, and the tree is the same\n",
    "            # height as the tallest tree\n",
    "            elif tree == tallest_tree_height:\n",
    "                # Add a visible tree marker (1) to the checked_trees grid\n",
    "                checked_grid_down_to_up[i][j] = 1\n",
    "                # Then skip to the next column\n",
    "                break\n",
    "            \n",
    "            # If the tree is not the first (last) in the column, and it is not the tallest\n",
    "            # tree\n",
    "            elif tree != tallest_tree_height:\n",
    "                # If the tree's height is taller than the current tallest tree\n",
    "                if tree > current_tree:\n",
    "                    # Add a visible tree marker (1) to the checked_trees grid\n",
    "                    checked_grid_down_to_up[i][j] = 1\n",
    "                    # Then, change the current_tree to that tree, so that each following\n",
    "                    # (preceding) tree must be taller than it to be considered visible.\n",
    "                    current_tree = tree\n",
    "                    \n",
    "                # If the tree is not the first (last) in the column, and the tree is not\n",
    "                # taller than the current tallest tree, it is not visible, so continue\n",
    "                # checking the trees in the current column until the tallest tree is found.\n",
    "                elif tree <= current_tree:\n",
    "                    continue\n",
    "                \n",
    "    # Flip the checked grid to reflect the trees visible from the original grid point of view\n",
    "    checked_grid_down_to_up = np.rot90(checked_grid_down_to_up, 1)\n",
    "    \n",
    "    return checked_grid_down_to_up"
   ]
  },
  {
   "cell_type": "markdown",
   "metadata": {},
   "source": [
    "---\n",
    "\n",
    "## Checked Grids\n",
    "\n",
    "---"
   ]
  },
  {
   "cell_type": "markdown",
   "metadata": {},
   "source": [
    "### Edges Check Grid"
   ]
  },
  {
   "cell_type": "code",
   "execution_count": 71,
   "metadata": {},
   "outputs": [
    {
     "data": {
      "text/plain": [
       "array([[1, 1, 1, 1, 1],\n",
       "       [1, 0, 0, 0, 1],\n",
       "       [1, 0, 0, 0, 1],\n",
       "       [1, 0, 0, 0, 1],\n",
       "       [1, 1, 1, 1, 1]], dtype=int16)"
      ]
     },
     "execution_count": 71,
     "metadata": {},
     "output_type": "execute_result"
    }
   ],
   "source": [
    "checked_grid_edges = add_edge_trees_to_checked_grid(tree_grid_original)\n",
    "checked_grid_edges"
   ]
  },
  {
   "cell_type": "markdown",
   "metadata": {},
   "source": [
    "---\n",
    "\n",
    "### Row Check Left to Right Grid"
   ]
  },
  {
   "cell_type": "code",
   "execution_count": 72,
   "metadata": {},
   "outputs": [
    {
     "data": {
      "text/plain": [
       "array([[1, 0, 0, 1, 0],\n",
       "       [1, 1, 0, 0, 0],\n",
       "       [1, 0, 0, 0, 0],\n",
       "       [1, 0, 1, 0, 1],\n",
       "       [1, 1, 0, 1, 0]], dtype=int16)"
      ]
     },
     "execution_count": 72,
     "metadata": {},
     "output_type": "execute_result"
    }
   ],
   "source": [
    "checked_grid_left_to_right = check_row_left_to_right(tree_grid_left_to_right)\n",
    "checked_grid_left_to_right"
   ]
  },
  {
   "cell_type": "markdown",
   "metadata": {},
   "source": [
    "---\n",
    "\n",
    "### Row Check Right to Left Grid"
   ]
  },
  {
   "cell_type": "code",
   "execution_count": 77,
   "metadata": {},
   "outputs": [
    {
     "data": {
      "text/plain": [
       "array([[0, 0, 0, 1, 1],\n",
       "       [0, 0, 1, 0, 1],\n",
       "       [1, 1, 0, 1, 1],\n",
       "       [0, 0, 0, 0, 1],\n",
       "       [0, 0, 0, 1, 1]], dtype=int16)"
      ]
     },
     "execution_count": 77,
     "metadata": {},
     "output_type": "execute_result"
    }
   ],
   "source": [
    "checked_grid_right_to_left = check_row_right_to_left(tree_grid_right_to_left)\n",
    "checked_grid_right_to_left"
   ]
  },
  {
   "cell_type": "markdown",
   "metadata": {},
   "source": [
    "---\n",
    "\n",
    "### Column Check Up to Down Grid"
   ]
  },
  {
   "cell_type": "code",
   "execution_count": 100,
   "metadata": {},
   "outputs": [
    {
     "data": {
      "text/plain": [
       "array([[1, 1, 1, 1, 1],\n",
       "       [0, 1, 1, 0, 0],\n",
       "       [1, 0, 0, 0, 0],\n",
       "       [0, 0, 0, 0, 1],\n",
       "       [0, 0, 0, 1, 0]], dtype=int16)"
      ]
     },
     "execution_count": 100,
     "metadata": {},
     "output_type": "execute_result"
    }
   ],
   "source": [
    "checked_grid_up_to_down = check_column_up_to_down(tree_grid_up_to_down)\n",
    "checked_grid_up_to_down"
   ]
  },
  {
   "cell_type": "markdown",
   "metadata": {},
   "source": [
    "---\n",
    "\n",
    "### Column Check Down to Up Grid"
   ]
  },
  {
   "cell_type": "code",
   "execution_count": 118,
   "metadata": {},
   "outputs": [
    {
     "data": {
      "text/plain": [
       "array([[0, 0, 0, 0, 0],\n",
       "       [0, 0, 0, 0, 0],\n",
       "       [1, 0, 0, 0, 0],\n",
       "       [0, 0, 1, 0, 1],\n",
       "       [1, 1, 1, 1, 1]], dtype=int16)"
      ]
     },
     "execution_count": 118,
     "metadata": {},
     "output_type": "execute_result"
    }
   ],
   "source": [
    "checked_grid_down_to_up = check_column_down_to_up(tree_grid_down_to_up)\n",
    "checked_grid_down_to_up"
   ]
  },
  {
   "cell_type": "markdown",
   "metadata": {},
   "source": [
    "---\n",
    "\n",
    "## Merge All Checked Grids"
   ]
  },
  {
   "cell_type": "code",
   "execution_count": 128,
   "metadata": {},
   "outputs": [
    {
     "data": {
      "text/plain": [
       "array([[1, 1, 1, 1, 1],\n",
       "       [1, 1, 1, 0, 1],\n",
       "       [1, 1, 0, 1, 1],\n",
       "       [1, 0, 1, 0, 1],\n",
       "       [1, 1, 1, 1, 1]], dtype=int16)"
      ]
     },
     "execution_count": 128,
     "metadata": {},
     "output_type": "execute_result"
    }
   ],
   "source": [
    "merged_checked_grids = (checked_grid_edges|checked_grid_left_to_right \\\n",
    "                    |checked_grid_right_to_left|checked_grid_up_to_down \\\n",
    "                    |checked_grid_down_to_up)\n",
    "merged_checked_grids"
   ]
  },
  {
   "cell_type": "markdown",
   "metadata": {},
   "source": [
    "---\n",
    "\n",
    "## Count Visible Trees"
   ]
  },
  {
   "cell_type": "code",
   "execution_count": 129,
   "metadata": {},
   "outputs": [
    {
     "data": {
      "text/plain": [
       "21"
      ]
     },
     "execution_count": 129,
     "metadata": {},
     "output_type": "execute_result"
    }
   ],
   "source": [
    "np.count_nonzero(merged_checked_grids)"
   ]
  },
  {
   "cell_type": "code",
   "execution_count": 126,
   "metadata": {},
   "outputs": [],
   "source": [
    "def count_visible_trees(merged_checked_grids):\n",
    "    \n",
    "    number_visible = np.count_nonzero(merged_checked_grids)\n",
    "    "
   ]
  }
 ],
 "metadata": {
  "kernelspec": {
   "display_name": "Python 3",
   "language": "python",
   "name": "python3"
  },
  "language_info": {
   "codemirror_mode": {
    "name": "ipython",
    "version": 3
   },
   "file_extension": ".py",
   "mimetype": "text/x-python",
   "name": "python",
   "nbconvert_exporter": "python",
   "pygments_lexer": "ipython3",
   "version": "3.10.12"
  }
 },
 "nbformat": 4,
 "nbformat_minor": 2
}
