{
 "cells": [
  {
   "cell_type": "markdown",
   "id": "471d8e4c",
   "metadata": {},
   "source": [
    "# Solution for Day 8: Treetop Tree House\n",
    "\n",
    "*Advent of Code 2022*"
   ]
  },
  {
   "cell_type": "markdown",
   "id": "6b958793",
   "metadata": {},
   "source": [
    "- [Day 8 Challenge](https://adventofcode.com/2022/day/8)\n",
    "\n",
    "- [Instructions](instructions.md)\n",
    "\n",
    "- [Input Data](input.txt)\n",
    "\n",
    "---"
   ]
  },
  {
   "cell_type": "code",
   "execution_count": 1,
   "id": "9b183a53",
   "metadata": {},
   "outputs": [],
   "source": [
    "# imports\n",
    "import numpy as np"
   ]
  },
  {
   "cell_type": "code",
   "execution_count": 2,
   "id": "66e5dc00",
   "metadata": {},
   "outputs": [],
   "source": [
    "INPUT_FILE = 'input.txt'"
   ]
  },
  {
   "cell_type": "code",
   "execution_count": 3,
   "id": "273a6b2c",
   "metadata": {},
   "outputs": [],
   "source": [
    "with open(INPUT_FILE, 'r') as f:\n",
    "    lines = [line.strip('\\n') for line in f.readlines()]\n",
    "    \n",
    "# lines"
   ]
  },
  {
   "cell_type": "markdown",
   "id": "437e5b86",
   "metadata": {},
   "source": [
    "---\n",
    "\n",
    "## Part I"
   ]
  },
  {
   "cell_type": "markdown",
   "id": "48b10385",
   "metadata": {},
   "source": [
    "### Create Rows and Columns from Input Data"
   ]
  },
  {
   "cell_type": "code",
   "execution_count": 4,
   "id": "e6ecda18",
   "metadata": {},
   "outputs": [],
   "source": [
    "# Change lines to a list of lists where each list contains numbers\n",
    "\n",
    "def create_array(lines):\n",
    "    \"\"\"Create an array from a list of numeric strings.\"\"\"\n",
    "    rows = [[int(num) for num in list(line)] for line in lines]\n",
    "    rows = np.array(rows)\n",
    "    return rows"
   ]
  },
  {
   "cell_type": "code",
   "execution_count": 5,
   "id": "0aaf59d1",
   "metadata": {},
   "outputs": [],
   "source": [
    "# Create rows of numbers from the input data\n",
    "rows = create_array(lines)\n",
    "\n",
    "# Check that the number of rows and columns in the columns array are equal\n",
    "# rows.shape"
   ]
  },
  {
   "cell_type": "code",
   "execution_count": 6,
   "id": "38bd04ad",
   "metadata": {},
   "outputs": [],
   "source": [
    "# Now we can transpose the rows to \"look down\" columns as well\n",
    "columns = np.transpose(rows)\n",
    "\n",
    "# Check that the number of rows and columns in the columns array are equal\n",
    "# columns.shape"
   ]
  },
  {
   "cell_type": "markdown",
   "id": "20ae102c",
   "metadata": {},
   "source": [
    "### Count Trees on Outer Edges"
   ]
  },
  {
   "cell_type": "code",
   "execution_count": 7,
   "id": "4214d2ba",
   "metadata": {},
   "outputs": [],
   "source": [
    "def count_visible_edge_trees(rows, cols):\n",
    "    \"\"\"Counts the number of trees on the edges of the array.\"\"\"\n",
    "    \n",
    "    # Ensure that the number of items in rows is the same as in columns.\n",
    "    if len(rows[0]) == len(cols[0]):\n",
    "        # The number of trees on the edge \n",
    "        outer_visible = (len(rows[0]) - 1) * 4\n",
    "        \n",
    "        return outer_visible\n",
    "    \n",
    "    # If rows and columns are not a true array, return an error message\n",
    "    else:\n",
    "        return f'Error: Length of rows ({len(rows)}) does not match length of columns ({len(columns)})'\n"
   ]
  },
  {
   "cell_type": "code",
   "execution_count": 8,
   "id": "9230cdc4",
   "metadata": {},
   "outputs": [
    {
     "data": {
      "text/plain": [
       "392"
      ]
     },
     "execution_count": 8,
     "metadata": {},
     "output_type": "execute_result"
    }
   ],
   "source": [
    "count_visible_edge_trees(rows, columns)"
   ]
  },
  {
   "cell_type": "markdown",
   "id": "8bbf541a",
   "metadata": {},
   "source": [
    "---"
   ]
  },
  {
   "cell_type": "markdown",
   "id": "657d9493",
   "metadata": {},
   "source": [
    "## Directional Views"
   ]
  },
  {
   "cell_type": "markdown",
   "id": "43e822a2",
   "metadata": {},
   "source": [
    "### Views for Rows"
   ]
  },
  {
   "cell_type": "code",
   "execution_count": 248,
   "id": "5e567709",
   "metadata": {},
   "outputs": [],
   "source": [
    "def split_row(row_of_trees, left_to_right=True):\n",
    "    \"\"\"\n",
    "    Split a row of trees into two parts: the first part is all of the trees\n",
    "    up to the last occurence of the tallest tree, and the second part is the rest of the \n",
    "    trees.\n",
    "    \"\"\"\n",
    "    \n",
    "    # Find the height of the tallest tree in the row of trees.\n",
    "    tallest_tree = max(row_of_trees)\n",
    "\n",
    "    # Find the index of the LAST occurence of the tallest tree in the row (when looking\n",
    "    # down the row from left to right), because any trees beyond it will not be visible.\n",
    "    # To do so, make a list of indices where the tallest trees occur in the row, then\n",
    "    # find the max value.\n",
    "    last_tallest_tree_index = max([i for i, tree in enumerate(row_of_trees)\n",
    "                                   if tree == tallest_tree])\n",
    "\n",
    "    # This is the part of the row we will be working with for the left-to-right view.\n",
    "    row_of_trees_left_to_right = row_of_trees[:last_tallest_tree_index+1]\n",
    "    \n",
    "    # Keep the rest of the row handy for when we need to look right-to-left, as we don't\n",
    "    # want to accidentally count any trees twice.\n",
    "    row_of_trees_right_to_left = row_of_trees[last_tallest_tree_index+1:]\n",
    "    row_of_trees_right_to_left\n",
    "    \n",
    "    if left_to_right == True:\n",
    "        return row_of_trees_left_to_right\n",
    "    \n",
    "    elif left_to_right == False:\n",
    "        return row_of_trees_right_to_left"
   ]
  },
  {
   "cell_type": "code",
   "execution_count": 281,
   "id": "5b99cb45",
   "metadata": {},
   "outputs": [],
   "source": [
    "def look_left_to_right(row_of_trees):\n",
    "    \n",
    "    # We can now begin to iterate through our chunk of the row of trees. Each tree in our\n",
    "    # chunk needs to be shorter than the tree that comes after it to be visible.\n",
    "    # To start, set the first tree in the row as the \"current\" tallest tree.\n",
    "    visible = []\n",
    "    visible_trees = 0\n",
    "    \n",
    "    current_tallest = row_of_trees[0]\n",
    "    \n",
    "    # Add this tree to the visible trees list.\n",
    "    visible.append(current_tallest)\n",
    "\n",
    "    # Starting from the second tree in the new row, check the height of that tree against\n",
    "    # the current tallest tree.\n",
    "    for tree in row_of_trees[1:]:\n",
    "        # If the tree is taller than the current tallest tree, add that tree to the \n",
    "        # list of visible trees.\n",
    "        if tree > current_tallest:\n",
    "            visible.append(tree)\n",
    "            # Then, set the new current tallest tree value to that tree's height.\n",
    "            current_tallest = tree\n",
    "        # Otherwise, keep checking the rest of the trees until we have reached the last\n",
    "        # tree in the new row.\n",
    "        else:\n",
    "            continue\n",
    "        \n",
    "    visible_trees += len(visible)\n",
    "    # return visible_trees\n",
    "    return visible"
   ]
  },
  {
   "cell_type": "code",
   "execution_count": 278,
   "id": "2e11461e",
   "metadata": {},
   "outputs": [],
   "source": [
    "def look_right_to_left(row_of_trees):\n",
    "    visible = []\n",
    "    visible_trees = 0\n",
    "\n",
    "    # Since we are looking right-to-left, reverse the section of the row of trees we have\n",
    "    # been given.\n",
    "    reversed_row_of_trees = row_of_trees[:]\n",
    "    reversed_row_of_trees.reverse()\n",
    "    \n",
    "    # Find the height of the tallest tree in the row of trees.\n",
    "    tallest_tree = max(row_of_trees)\n",
    "\n",
    "    # Find the index of the LAST occurence of the tallest tree in the row (when looking\n",
    "    # down the row from left to right), because any trees beyond it will not be visible.\n",
    "    # To do so, make a list of indices where the tallest trees occur in the row, then\n",
    "    # find the max value.\n",
    "    last_tallest_tree_index = max([i for i, tree in enumerate(reversed_row_of_trees)\n",
    "                                   if tree == tallest_tree])\n",
    "\n",
    "    # Keep the rest of the row handy for when we need to look right-to-left, as we don't\n",
    "    # want to accidentally count any trees twice.\n",
    "    reversed_row_of_trees_up_to_tallest_tree = reversed_row_of_trees[:last_tallest_tree_index+1]\n",
    "    \n",
    "    print(reversed_row_of_trees_up_to_tallest_tree)\n",
    "    # We can now begin to iterate through our chunk of the row of trees. Each tree in our\n",
    "    # chunk needs to be shorter than the tree that comes after it to be visible.\n",
    "    # To start, set the first tree in the row as the \"current\" tallest tree.\n",
    "    current_tallest = reversed_row_of_trees_up_to_tallest_tree[0]\n",
    "    \n",
    "    # Add this tree to the visible trees list.\n",
    "    visible.append(current_tallest)\n",
    "\n",
    "    # Starting from the second tree in the new row, check the height of that tree against\n",
    "    # the current tallest tree.\n",
    "    for tree in reversed_row_of_trees_up_to_tallest_tree[1:]:\n",
    "        # If the tree is taller than the current tallest tree, add that tree to the \n",
    "        # list of visible trees.\n",
    "        if tree > current_tallest:\n",
    "            visible.append(tree)\n",
    "            # Then, set the new current tallest tree value to that tree's height.\n",
    "            current_tallest = tree\n",
    "        # Otherwise, keep checking the rest of the trees until we have reached the last\n",
    "        # tree in the new row.\n",
    "        else:\n",
    "            continue\n",
    "\n",
    "    visible_trees += len(visible)\n",
    "    \n",
    "    \n",
    "    # return visible_trees \n",
    "    return visible   "
   ]
  },
  {
   "cell_type": "markdown",
   "id": "3ec08d8f",
   "metadata": {},
   "source": [
    "---\n",
    "\n",
    "### Example"
   ]
  },
  {
   "cell_type": "code",
   "execution_count": 266,
   "id": "6fd1ed1c",
   "metadata": {},
   "outputs": [],
   "source": [
    "row_trees = [1, 2, 3, 2, 3, 4, 3, 5, 1, 6, 3, 5, 2, 1]"
   ]
  },
  {
   "cell_type": "code",
   "execution_count": 267,
   "id": "3115fef6",
   "metadata": {},
   "outputs": [
    {
     "data": {
      "text/plain": [
       "[1, 2, 3, 2, 3, 4, 3, 5, 1, 6]"
      ]
     },
     "execution_count": 267,
     "metadata": {},
     "output_type": "execute_result"
    }
   ],
   "source": [
    "row_of_trees_left_to_right = split_row(row_trees, left_to_right=True)\n",
    "row_of_trees_left_to_right"
   ]
  },
  {
   "cell_type": "code",
   "execution_count": 273,
   "id": "e48e2644",
   "metadata": {},
   "outputs": [
    {
     "data": {
      "text/plain": [
       "[3, 5, 2, 1]"
      ]
     },
     "execution_count": 273,
     "metadata": {},
     "output_type": "execute_result"
    }
   ],
   "source": [
    "row_of_trees_right_to_left = split_row(row_trees, left_to_right=False)\n",
    "row_of_trees_right_to_left"
   ]
  },
  {
   "cell_type": "code",
   "execution_count": 257,
   "id": "25ee159d",
   "metadata": {},
   "outputs": [],
   "source": [
    "assert row_of_trees_left_to_right + row_of_trees_right_to_left == row_trees"
   ]
  },
  {
   "cell_type": "code",
   "execution_count": 269,
   "id": "43233cec",
   "metadata": {},
   "outputs": [],
   "source": [
    "total_visible_trees = 0"
   ]
  },
  {
   "cell_type": "code",
   "execution_count": 282,
   "id": "608c796c",
   "metadata": {},
   "outputs": [
    {
     "data": {
      "text/plain": [
       "[1, 2, 3, 4, 5, 6]"
      ]
     },
     "execution_count": 282,
     "metadata": {},
     "output_type": "execute_result"
    }
   ],
   "source": [
    "look_left_to_right(row_of_trees_left_to_right)\n",
    "\n"
   ]
  },
  {
   "cell_type": "code",
   "execution_count": 284,
   "id": "ce13cd03",
   "metadata": {},
   "outputs": [
    {
     "name": "stdout",
     "output_type": "stream",
     "text": [
      "[1, 2, 5]\n"
     ]
    },
    {
     "ename": "TypeError",
     "evalue": "unsupported operand type(s) for +=: 'int' and 'list'",
     "output_type": "error",
     "traceback": [
      "\u001b[0;31m---------------------------------------------------------------------------\u001b[0m",
      "\u001b[0;31mTypeError\u001b[0m                                 Traceback (most recent call last)",
      "\u001b[1;32m/home/lilyroses/code/Advent-of-Code-2022/solutions/day_8/solution.ipynb Cell 27\u001b[0m line \u001b[0;36m1\n\u001b[0;32m----> <a href='vscode-notebook-cell://wsl%2Bubuntu/home/lilyroses/code/Advent-of-Code-2022/solutions/day_8/solution.ipynb#Y110sdnNjb2RlLXJlbW90ZQ%3D%3D?line=0'>1</a>\u001b[0m total_visible_trees \u001b[39m+\u001b[39m\u001b[39m=\u001b[39m look_right_to_left(row_of_trees_right_to_left)\n",
      "\u001b[0;31mTypeError\u001b[0m: unsupported operand type(s) for +=: 'int' and 'list'"
     ]
    }
   ],
   "source": [
    "total_visible_trees += look_right_to_left(row_of_trees_right_to_left)"
   ]
  },
  {
   "cell_type": "code",
   "execution_count": null,
   "id": "80ab1f76",
   "metadata": {},
   "outputs": [],
   "source": [
    "total_visible_trees += len(look_left_to_right)"
   ]
  },
  {
   "cell_type": "markdown",
   "id": "c0ecc885",
   "metadata": {},
   "source": [
    "### Views for Columns"
   ]
  },
  {
   "cell_type": "code",
   "execution_count": 12,
   "id": "65c2e0e6",
   "metadata": {},
   "outputs": [],
   "source": [
    "def look_down(column):\n",
    "    pass"
   ]
  },
  {
   "cell_type": "code",
   "execution_count": null,
   "id": "6efffc70",
   "metadata": {},
   "outputs": [],
   "source": [
    "def look_up(column):\n",
    "    pass"
   ]
  },
  {
   "cell_type": "markdown",
   "id": "24e2aaed",
   "metadata": {},
   "source": [
    "---"
   ]
  },
  {
   "cell_type": "markdown",
   "id": "7bc92892",
   "metadata": {},
   "source": [
    "### Testcases"
   ]
  },
  {
   "cell_type": "code",
   "execution_count": 9,
   "id": "08bee79c",
   "metadata": {},
   "outputs": [
    {
     "name": "stdout",
     "output_type": "stream",
     "text": [
      "16\n"
     ]
    }
   ],
   "source": [
    "example_input = \"\"\"30373\n",
    "25512\n",
    "65332\n",
    "33549\n",
    "35390\n",
    "\"\"\"\n",
    "\n",
    "example_lines = [line.strip('\\n') for line in example_input.split()]\n",
    "\n",
    "example_rows = create_array(example_lines)\n",
    "example_cols = np.transpose(example_rows)\n",
    "\n",
    "# outer = (len(example_rows[0]) - 1) * (len(example_cols[0] - 1))\n",
    "# outer\n",
    "\n",
    "def find_number_edge_trees(rows, cols):\n",
    "    outer_visible = (len(rows[0]) - 1) * (len(cols[0]) - 1)\n",
    "    return outer_visible\n",
    "\n",
    "print(find_number_edge_trees(example_rows, example_cols))"
   ]
  },
  {
   "cell_type": "code",
   "execution_count": 195,
   "id": "e65dadc5",
   "metadata": {},
   "outputs": [
    {
     "data": {
      "text/plain": [
       "5"
      ]
     },
     "execution_count": 195,
     "metadata": {},
     "output_type": "execute_result"
    }
   ],
   "source": [
    "# A single row of trees\n",
    "row_of_trees = [1, 2, 3, 2, 1, 4, 5, 4, 3, 2, 1, 1, 0]\n",
    "\n",
    "\n",
    "def look_right(row):\n",
    "    # Find the height of the tallest tree in the row\n",
    "    tallest_tree = max(row_of_trees)\n",
    "\n",
    "    # Find the *first* instance of the tallest tree (when looking down the row from\n",
    "    # left to right, this is the tree that will block any other trees past it.)\n",
    "    first_tallest_tree = row_of_trees.index(tallest_tree)\n",
    "\n",
    "    # Create a new row from the beginning of the row to the first tallest tree.\n",
    "    new_row = row_of_trees[0:first_tallest_tree+1]\n",
    "\n",
    "    # Empty list to store the visible trees.\n",
    "    visible = []\n",
    "\n",
    "    # Start with the first tree in the new row. As of now, it is currently the tallest\n",
    "    # tree in the new row by which all other trees will be measured, until a tree comes\n",
    "    # along that is higher than it.\n",
    "    current_tallest = new_row[0]\n",
    "    # Add this tree to the visible trees list.\n",
    "    visible.append(current_tallest)\n",
    "\n",
    "    # Starting from the second tree in the new row, check the height of that tree against\n",
    "    # the current tallest tree.\n",
    "    for tree in new_row[1:]:\n",
    "        if tree > current_tallest:\n",
    "            # If the tree is taller than the tallest tree, add that tree to the \n",
    "            # list of visible trees.\n",
    "            visible.append(tree)\n",
    "            # Then, set the new current tallest tree value to that tree's height.\n",
    "            current_tallest = tree\n",
    "        # Otherwise, keep checking the rest of the trees until we have reached the last\n",
    "        # tree in the new row.\n",
    "        else:\n",
    "            continue\n",
    "    return len(visible)"
   ]
  },
  {
   "cell_type": "markdown",
   "id": "e93cafac",
   "metadata": {},
   "source": [
    "### Answer"
   ]
  },
  {
   "cell_type": "code",
   "execution_count": null,
   "id": "7294aba7",
   "metadata": {},
   "outputs": [],
   "source": []
  },
  {
   "cell_type": "markdown",
   "id": "f35cbceb",
   "metadata": {},
   "source": [
    "---\n",
    "\n",
    "## Part II"
   ]
  },
  {
   "cell_type": "code",
   "execution_count": null,
   "id": "f47b6ca2",
   "metadata": {},
   "outputs": [],
   "source": []
  },
  {
   "cell_type": "markdown",
   "id": "c686808e",
   "metadata": {},
   "source": [
    "### Answer"
   ]
  },
  {
   "cell_type": "code",
   "execution_count": null,
   "id": "19537c23",
   "metadata": {},
   "outputs": [],
   "source": []
  }
 ],
 "metadata": {
  "kernelspec": {
   "display_name": "Python 3",
   "language": "python",
   "name": "python3"
  },
  "language_info": {
   "codemirror_mode": {
    "name": "ipython",
    "version": 3
   },
   "file_extension": ".py",
   "mimetype": "text/x-python",
   "name": "python",
   "nbconvert_exporter": "python",
   "pygments_lexer": "ipython3",
   "version": "3.10.12"
  }
 },
 "nbformat": 4,
 "nbformat_minor": 5
}
