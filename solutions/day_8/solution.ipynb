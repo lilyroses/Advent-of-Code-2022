{
 "cells": [
  {
   "cell_type": "markdown",
   "id": "471d8e4c",
   "metadata": {},
   "source": [
    "# Solution for Day 8: Treetop Tree House\n",
    "\n",
    "*Advent of Code 2022*"
   ]
  },
  {
   "cell_type": "markdown",
   "id": "6b958793",
   "metadata": {},
   "source": [
    "- [Day 8 Challenge](https://adventofcode.com/2022/day/8)\n",
    "\n",
    "- [Instructions](instructions.md)\n",
    "\n",
    "- [Input Data](input.txt)\n",
    "\n",
    "---"
   ]
  },
  {
   "cell_type": "code",
   "execution_count": 1,
   "id": "9b183a53",
   "metadata": {},
   "outputs": [],
   "source": [
    "# imports\n",
    "import numpy as np"
   ]
  },
  {
   "cell_type": "code",
   "execution_count": 2,
   "id": "66e5dc00",
   "metadata": {},
   "outputs": [],
   "source": [
    "INPUT_FILE = 'input.txt'"
   ]
  },
  {
   "cell_type": "code",
   "execution_count": 3,
   "id": "273a6b2c",
   "metadata": {},
   "outputs": [],
   "source": [
    "with open(INPUT_FILE, 'r') as f:\n",
    "    lines = [line.strip('\\n') for line in f.readlines()]\n",
    "    \n",
    "# lines"
   ]
  },
  {
   "cell_type": "markdown",
   "id": "437e5b86",
   "metadata": {},
   "source": [
    "---\n",
    "\n",
    "## Part I"
   ]
  },
  {
   "cell_type": "markdown",
   "id": "48b10385",
   "metadata": {},
   "source": [
    "### Create Rows and Columns from Input Data"
   ]
  },
  {
   "cell_type": "code",
   "execution_count": 19,
   "id": "e6ecda18",
   "metadata": {},
   "outputs": [],
   "source": [
    "# Change lines to a list of lists where each list contains numbers\n",
    "\n",
    "def create_array(lines):\n",
    "    \"\"\"Create an array from a list of numeric strings.\"\"\"\n",
    "    rows = [[int(num) for num in list(line)] for line in lines]\n",
    "    rows = np.array(rows)\n",
    "    return rows"
   ]
  },
  {
   "cell_type": "code",
   "execution_count": 26,
   "id": "0aaf59d1",
   "metadata": {},
   "outputs": [],
   "source": [
    "# Create rows of numbers from the input data\n",
    "rows = create_array(lines)\n",
    "\n",
    "# Check that the number of rows and columns in the columns array are equal\n",
    "# rows.shape"
   ]
  },
  {
   "cell_type": "code",
   "execution_count": 27,
   "id": "38bd04ad",
   "metadata": {},
   "outputs": [],
   "source": [
    "# Now we can transpose the rows to \"look down\" columns as well\n",
    "columns = np.transpose(rows)\n",
    "\n",
    "# Check that the number of rows and columns in the columns array are equal\n",
    "# columns.shape"
   ]
  },
  {
   "cell_type": "markdown",
   "id": "20ae102c",
   "metadata": {},
   "source": [
    "### Count Trees on Outer Edges"
   ]
  },
  {
   "cell_type": "code",
   "execution_count": 14,
   "id": "4214d2ba",
   "metadata": {},
   "outputs": [],
   "source": [
    "def count_visible_edge_trees(rows, cols):\n",
    "    \"\"\"Counts the number of trees on the edges of the array.\"\"\"\n",
    "    \n",
    "    # Ensure that the number of items in rows is the same as in columns.\n",
    "    if len(rows[0]) == len(cols[0]):\n",
    "        # The number of trees on the edge \n",
    "        outer_visible = (len(rows[0]) - 1) * 4\n",
    "        \n",
    "        return outer_visible\n",
    "    \n",
    "    # If rows and columns are not a true array, return an error message\n",
    "    else:\n",
    "        return f'Error: Length of rows ({len(rows)}) does not match length of columns ({len(columns)})'\n"
   ]
  },
  {
   "cell_type": "code",
   "execution_count": 15,
   "id": "9230cdc4",
   "metadata": {},
   "outputs": [
    {
     "data": {
      "text/plain": [
       "392"
      ]
     },
     "execution_count": 15,
     "metadata": {},
     "output_type": "execute_result"
    }
   ],
   "source": [
    "count_visible_edge_trees(rows, columns)"
   ]
  },
  {
   "cell_type": "markdown",
   "id": "a24911d1",
   "metadata": {},
   "source": [
    "### Create Array from Interior Trees"
   ]
  },
  {
   "cell_type": "code",
   "execution_count": null,
   "id": "31071b2c",
   "metadata": {},
   "outputs": [],
   "source": []
  },
  {
   "cell_type": "markdown",
   "id": "7bc92892",
   "metadata": {},
   "source": [
    "### Testcases"
   ]
  },
  {
   "cell_type": "code",
   "execution_count": 8,
   "id": "08bee79c",
   "metadata": {},
   "outputs": [
    {
     "name": "stdout",
     "output_type": "stream",
     "text": [
      "16\n"
     ]
    }
   ],
   "source": [
    "example_input = \"\"\"30373\n",
    "25512\n",
    "65332\n",
    "33549\n",
    "35390\n",
    "\"\"\"\n",
    "\n",
    "example_lines = [line.strip('\\n') for line in example_input.split()]\n",
    "\n",
    "example_rows = create_array(example_lines)\n",
    "example_cols = np.transpose(example_rows)\n",
    "\n",
    "# outer = (len(example_rows[0]) - 1) * (len(example_cols[0] - 1))\n",
    "# outer\n",
    "\n",
    "def find_number_edge_trees(rows, cols):\n",
    "    outer_visible = (len(rows[0]) - 1) * (len(cols[0]) - 1)\n",
    "    return outer_visible\n",
    "\n",
    "print(find_number_edge_trees(example_rows, example_cols))"
   ]
  },
  {
   "cell_type": "markdown",
   "id": "e93cafac",
   "metadata": {},
   "source": [
    "### Answer"
   ]
  },
  {
   "cell_type": "code",
   "execution_count": null,
   "id": "7294aba7",
   "metadata": {},
   "outputs": [],
   "source": []
  },
  {
   "cell_type": "markdown",
   "id": "f35cbceb",
   "metadata": {},
   "source": [
    "---\n",
    "\n",
    "## Part II"
   ]
  },
  {
   "cell_type": "code",
   "execution_count": null,
   "id": "f47b6ca2",
   "metadata": {},
   "outputs": [],
   "source": []
  },
  {
   "cell_type": "markdown",
   "id": "c686808e",
   "metadata": {},
   "source": [
    "### Answer"
   ]
  },
  {
   "cell_type": "code",
   "execution_count": null,
   "id": "19537c23",
   "metadata": {},
   "outputs": [],
   "source": []
  }
 ],
 "metadata": {
  "kernelspec": {
   "display_name": "Python 3",
   "language": "python",
   "name": "python3"
  },
  "language_info": {
   "codemirror_mode": {
    "name": "ipython",
    "version": 3
   },
   "file_extension": ".py",
   "mimetype": "text/x-python",
   "name": "python",
   "nbconvert_exporter": "python",
   "pygments_lexer": "ipython3",
   "version": "3.10.12"
  }
 },
 "nbformat": 4,
 "nbformat_minor": 5
}
