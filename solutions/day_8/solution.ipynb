{
 "cells": [
  {
   "cell_type": "code",
   "execution_count": 1,
   "metadata": {},
   "outputs": [],
   "source": [
    "import numpy as np"
   ]
  },
  {
   "cell_type": "code",
   "execution_count": 2,
   "metadata": {},
   "outputs": [],
   "source": [
    "INPUT_FILE = 'input.txt'"
   ]
  },
  {
   "cell_type": "code",
   "execution_count": 3,
   "metadata": {},
   "outputs": [],
   "source": [
    "with open(INPUT_FILE, 'r') as f:\n",
    "    lines = [line.strip('\\n') for line in f.readlines()]\n",
    "    \n",
    "# lines"
   ]
  },
  {
   "cell_type": "code",
   "execution_count": 4,
   "metadata": {},
   "outputs": [],
   "source": [
    "# Example input, same format as \"lines\"\n",
    "\n",
    "example_lines = [\n",
    "    '30373',\n",
    "    '25512',\n",
    "    '65332',\n",
    "    '33549',\n",
    "    '35390'\n",
    "]"
   ]
  },
  {
   "cell_type": "code",
   "execution_count": 5,
   "metadata": {},
   "outputs": [],
   "source": [
    "def create_tree_grid(lines: list[str]) -> list[list[int]]:\n",
    "    \"\"\"Create an array of integers from a list of numeric strings.\"\"\"\n",
    "    rows = [[int(num) for num\n",
    "             in list(line)]\n",
    "            for line in lines]\n",
    "    # Convert to numpy array so object can be transposed later\n",
    "    rows = np.array(rows)\n",
    "    \n",
    "    return rows"
   ]
  },
  {
   "cell_type": "code",
   "execution_count": 6,
   "metadata": {},
   "outputs": [],
   "source": [
    "def create_empty_checked_grid():\n",
    "    \"\"\"Create an array with the same shape as tree_grid, filled with 0s\"\"\"\n",
    "    rows, columns = tree_grid.shape\n",
    "    \n",
    "    empty_checked_grid = np.zeros((rows, columns),\n",
    "                                  dtype=np.int16)\n",
    "    \n",
    "    return empty_checked_grid"
   ]
  },
  {
   "cell_type": "code",
   "execution_count": 7,
   "metadata": {},
   "outputs": [
    {
     "data": {
      "text/plain": [
       "array([[1, 0, 1, ..., 1, 2, 2],\n",
       "       [1, 2, 2, ..., 1, 0, 0],\n",
       "       [0, 1, 1, ..., 2, 1, 1],\n",
       "       ...,\n",
       "       [0, 0, 0, ..., 0, 1, 2],\n",
       "       [0, 1, 2, ..., 0, 0, 0],\n",
       "       [0, 0, 1, ..., 1, 2, 0]])"
      ]
     },
     "execution_count": 7,
     "metadata": {},
     "output_type": "execute_result"
    }
   ],
   "source": [
    "tree_grid = create_tree_grid(lines)\n",
    "tree_grid"
   ]
  },
  {
   "cell_type": "code",
   "execution_count": 8,
   "metadata": {},
   "outputs": [
    {
     "data": {
      "text/plain": [
       "array([[0, 0, 0, ..., 0, 0, 0],\n",
       "       [0, 0, 0, ..., 0, 0, 0],\n",
       "       [0, 0, 0, ..., 0, 0, 0],\n",
       "       ...,\n",
       "       [0, 0, 0, ..., 0, 0, 0],\n",
       "       [0, 0, 0, ..., 0, 0, 0],\n",
       "       [0, 0, 0, ..., 0, 0, 0]], dtype=int16)"
      ]
     },
     "execution_count": 8,
     "metadata": {},
     "output_type": "execute_result"
    }
   ],
   "source": [
    "checked_grid = create_empty_checked_grid()\n",
    "checked_grid"
   ]
  },
  {
   "cell_type": "markdown",
   "metadata": {},
   "source": [
    "---\n",
    "\n",
    "## Check Row LTR\n",
    "\n",
    "*WORKS*"
   ]
  },
  {
   "cell_type": "code",
   "execution_count": 9,
   "metadata": {},
   "outputs": [],
   "source": [
    "def check_row_left_to_right(tree_grid):\n",
    "    \n",
    "    checked_grid = create_empty_checked_grid()\n",
    "    \n",
    "    row_coordinates = []\n",
    "    \n",
    "    last_index = tree_grid.shape[0] - 1\n",
    "    \n",
    "    for i, row in enumerate(tree_grid):\n",
    "        tallest = max(row)\n",
    "        current_tallest = row[0]\n",
    "        # checked_grid[i, 0] = 1\n",
    "        row_coordinates.append([i, 0])    \n",
    "        if current_tallest != tallest:\n",
    "            \n",
    "            j = 1\n",
    "            while j <= last_index:\n",
    "                if row[j] == tallest:\n",
    "                    # checked_grid[i, j] = 1\n",
    "                    row_coordinates.append([i, j])\n",
    "                    break\n",
    "                elif row[j] > current_tallest:\n",
    "                    # checked_grid[i, j] = 1\n",
    "                    row_coordinates.append([i, j])\n",
    "                    current_tallest = row[j]\n",
    "                j += 1\n",
    "    \n",
    "    for coordinate in row_coordinates:\n",
    "        i, j = coordinate\n",
    "        checked_grid[i][j] = 1\n",
    "        \n",
    "    return checked_grid\n",
    "            "
   ]
  },
  {
   "cell_type": "markdown",
   "metadata": {},
   "source": [
    "---\n",
    "\n",
    "## Check Row RTL\n",
    "\n",
    "*WORKS*"
   ]
  },
  {
   "cell_type": "code",
   "execution_count": 10,
   "metadata": {},
   "outputs": [],
   "source": [
    "def check_row_right_to_left(tree_grid):\n",
    "    \n",
    "    checked_grid = create_empty_checked_grid()\n",
    "    \n",
    "    last_index = tree_grid.shape[0] - 1\n",
    "    # reversed_tree_grid = []\n",
    "    reversed_tree_grid = [list(row[::-1]) for row in tree_grid]\n",
    "    reversed_tree_grid = np.array(reversed_tree_grid)\n",
    "    row_coordinates = []\n",
    "    \n",
    "    for i, reversed_row in enumerate(reversed_tree_grid):\n",
    "        tallest = max(reversed_row)\n",
    "        current_tallest = reversed_row[0]\n",
    "        row_coordinates.append([i, 0])\n",
    "        \n",
    "        if current_tallest != tallest:\n",
    "            \n",
    "            j = 1\n",
    "            while j <= last_index:\n",
    "                if reversed_row[j] == tallest:\n",
    "                    row_coordinates.append([i, j])\n",
    "                    break\n",
    "                elif reversed_row[j] > current_tallest:\n",
    "                    row_coordinates.append([i, j])\n",
    "                    current_tallest = reversed_row[j]\n",
    "                j += 1\n",
    "                \n",
    "    row_coordinates_reversed = []\n",
    "    \n",
    "    for row_coordinate in row_coordinates:\n",
    "        i, j = row_coordinate\n",
    "        new_j = last_index - j\n",
    "        row_coordinate_reversed = [i, new_j]\n",
    "        row_coordinates_reversed.append(row_coordinate_reversed)\n",
    "        \n",
    "    for coordinate in row_coordinates_reversed:\n",
    "        i, j = coordinate\n",
    "        checked_grid[i][j] = 1\n",
    "        \n",
    "    return checked_grid"
   ]
  },
  {
   "cell_type": "markdown",
   "metadata": {},
   "source": [
    "---\n",
    "\n",
    "## Check Column UTD\n",
    "\n",
    "*WORKS*"
   ]
  },
  {
   "cell_type": "code",
   "execution_count": 11,
   "metadata": {},
   "outputs": [],
   "source": [
    "def check_column_up_to_down(tree_grid):\n",
    "\n",
    "    # The checked grid for the visible tree locations    \n",
    "    checked_grid = create_empty_checked_grid()\n",
    "    \n",
    "    # The index of the last tree in each row\n",
    "    last_index = tree_grid.shape[0] - 1\n",
    "    \n",
    "    # Build \"columns\" from the tree grid to process each column horizontally \n",
    "    columns = []\n",
    "    for j, row in enumerate(tree_grid):\n",
    "        column = []\n",
    "        for i in range(len(row)):\n",
    "            column.append(tree_grid[i][j])\n",
    "        columns.append(column)\n",
    "        \n",
    "    column_coordinates = []\n",
    "    \n",
    "    # Find the coordinates for the visible trees\n",
    "    for i, column in enumerate(columns):\n",
    "        tallest = max(column)\n",
    "        current_tallest = column[0]\n",
    "        column_coordinates.append([i, 0])\n",
    "        \n",
    "        if current_tallest != tallest:\n",
    "            \n",
    "            j = 1\n",
    "            while j <= last_index: \n",
    "                if column[j] == tallest:\n",
    "                    column_coordinates.append([i, j])\n",
    "                    break\n",
    "                elif column[j] > current_tallest:\n",
    "                    column_coordinates.append([i, j])\n",
    "                    current_tallest = column[j]\n",
    "                j += 1\n",
    "       \n",
    "    column_coordinates_up_to_down = []\n",
    "    \n",
    "    for column_coordinate in column_coordinates:\n",
    "        i, j = column_coordinate\n",
    "        new_coordinate = [j, i]\n",
    "        column_coordinates_up_to_down.append(new_coordinate)\n",
    "    \n",
    "    for coordinate in column_coordinates_up_to_down:\n",
    "        i, j = coordinate\n",
    "        checked_grid[i][j] = 1\n",
    "           \n",
    "    # return column_coordinates_up_to_down\n",
    "    return checked_grid"
   ]
  },
  {
   "cell_type": "markdown",
   "metadata": {},
   "source": [
    "---\n",
    "\n",
    "## Check Column DTU\n",
    "\n",
    "*WORKS*"
   ]
  },
  {
   "cell_type": "code",
   "execution_count": 12,
   "metadata": {},
   "outputs": [],
   "source": [
    "def check_column_down_to_up(tree_grid):\n",
    "    \n",
    "    last_index = tree_grid.shape[0] - 1\n",
    "    \n",
    "    # Create columns from original grid\n",
    "    columns = []\n",
    "    for j, row in enumerate(tree_grid):\n",
    "        column = []\n",
    "        for i in range(len(row)):\n",
    "            column.append(tree_grid[i][j])\n",
    "        columns.append(column)\n",
    "    \n",
    "    # Now reverse those columns\n",
    "    reversed_columns = [list(column[::-1]) for column in columns]\n",
    "    reversed_columns = np.array(reversed_columns)\n",
    "    \n",
    "    # coordinates = []\n",
    "    checked_grid = create_empty_checked_grid()\n",
    "    for i, reversed_column in enumerate(reversed_columns):\n",
    "        tallest = max(reversed_column)\n",
    "        current_tallest = reversed_column[0]\n",
    "        checked_grid[i][0] = 1\n",
    "        \n",
    "        if current_tallest != tallest:\n",
    "            j = 1\n",
    "            while j <= last_index:\n",
    "                if reversed_column[j] == tallest:\n",
    "                    checked_grid[i][j] = 1\n",
    "                    break\n",
    "                elif reversed_column[j] > current_tallest:\n",
    "                    checked_grid[i][j] = 1\n",
    "                    current_tallest = reversed_column[j]\n",
    "                j += 1\n",
    "    \n",
    "    checked_grid = np.rot90(checked_grid, 1)\n",
    "    # reversed_columns = np.rot90(reversed_columns, 1)\n",
    "    return checked_grid"
   ]
  },
  {
   "cell_type": "markdown",
   "metadata": {},
   "source": [
    "---\n",
    "\n",
    "## Add Edge Trees"
   ]
  },
  {
   "cell_type": "code",
   "execution_count": 13,
   "metadata": {},
   "outputs": [],
   "source": [
    "def check_edges(tree_grid):\n",
    "    checked_grid = create_empty_checked_grid()\n",
    "    \n",
    "    last_index = tree_grid.shape[0] - 1\n",
    "    \n",
    "    for i, row in enumerate(tree_grid):\n",
    "        for j, tree in enumerate(row):\n",
    "            if (\n",
    "                    (i == 0) or (j == 0) or \\\n",
    "                    (i == last_index) or \\\n",
    "                    (j == last_index)\n",
    "            ):\n",
    "                checked_grid[i][j] = 1    \n",
    "                \n",
    "    return checked_grid        "
   ]
  },
  {
   "cell_type": "markdown",
   "metadata": {},
   "source": [
    "---\n",
    "\n",
    "## Build Checked Grids"
   ]
  },
  {
   "cell_type": "code",
   "execution_count": 14,
   "metadata": {},
   "outputs": [],
   "source": [
    "grid_left_to_right = check_row_left_to_right(tree_grid)\n",
    "grid_right_to_left = check_row_right_to_left(tree_grid)\n",
    "grid_up_to_down = check_column_up_to_down(tree_grid)\n",
    "grid_down_to_up = check_column_down_to_up(tree_grid)\n",
    "\n",
    "grid_edges = check_edges(tree_grid)            "
   ]
  },
  {
   "cell_type": "code",
   "execution_count": 15,
   "metadata": {},
   "outputs": [],
   "source": [
    "final_grid = np.zeros((tree_grid.shape), dtype=np.int16)\n",
    "# final_grid"
   ]
  },
  {
   "cell_type": "code",
   "execution_count": 16,
   "metadata": {},
   "outputs": [],
   "source": [
    "for i, row in enumerate(grid_left_to_right):\n",
    "    for j, coordinate in enumerate(row):\n",
    "        if coordinate == 1:\n",
    "            final_grid[i][j] = 1\n",
    "            \n",
    "# final_grid"
   ]
  },
  {
   "cell_type": "code",
   "execution_count": 17,
   "metadata": {},
   "outputs": [],
   "source": [
    "for i, row in enumerate(grid_right_to_left):\n",
    "    for j, coordinate in enumerate(row):\n",
    "        if coordinate == 1:\n",
    "            final_grid[i][j] = 1\n",
    "            \n",
    "# final_grid"
   ]
  },
  {
   "cell_type": "code",
   "execution_count": 18,
   "metadata": {},
   "outputs": [],
   "source": [
    "for i, row in enumerate(grid_up_to_down):\n",
    "    for j, coordinate in enumerate(row):\n",
    "        if coordinate == 1:\n",
    "            final_grid[i][j] = 1\n",
    "            \n",
    "# final_grid"
   ]
  },
  {
   "cell_type": "code",
   "execution_count": 19,
   "metadata": {},
   "outputs": [],
   "source": [
    "for i, row in enumerate(grid_down_to_up):\n",
    "    for j, coordinate in enumerate(row):\n",
    "        if coordinate == 1:\n",
    "            final_grid[i][j] = 1\n",
    "            \n",
    "# final_grid"
   ]
  },
  {
   "cell_type": "code",
   "execution_count": 20,
   "metadata": {},
   "outputs": [],
   "source": [
    "for i, row in enumerate(grid_edges):\n",
    "    for j, coordinate in enumerate(row):\n",
    "        if coordinate == 1:\n",
    "            final_grid[i][j] = 1\n",
    "            \n",
    "# final_grid"
   ]
  },
  {
   "cell_type": "code",
   "execution_count": 21,
   "metadata": {},
   "outputs": [
    {
     "data": {
      "text/plain": [
       "1820"
      ]
     },
     "execution_count": 21,
     "metadata": {},
     "output_type": "execute_result"
    }
   ],
   "source": [
    "total = 0\n",
    "\n",
    "for row in final_grid:\n",
    "    for tree in row:\n",
    "        if tree == 1:\n",
    "            total += 1\n",
    "            \n",
    "total        "
   ]
  },
  {
   "cell_type": "markdown",
   "metadata": {},
   "source": [
    "---\n",
    "\n",
    "## Final Answer"
   ]
  },
  {
   "cell_type": "code",
   "execution_count": 22,
   "metadata": {},
   "outputs": [
    {
     "name": "stdout",
     "output_type": "stream",
     "text": [
      "Answer: 1820\n"
     ]
    }
   ],
   "source": [
    "answer = 1820\n",
    "\n",
    "print(f'Answer: {answer}')"
   ]
  }
 ],
 "metadata": {
  "kernelspec": {
   "display_name": "Python 3",
   "language": "python",
   "name": "python3"
  },
  "language_info": {
   "codemirror_mode": {
    "name": "ipython",
    "version": 3
   },
   "file_extension": ".py",
   "mimetype": "text/x-python",
   "name": "python",
   "nbconvert_exporter": "python",
   "pygments_lexer": "ipython3",
   "version": "3.10.12"
  }
 },
 "nbformat": 4,
 "nbformat_minor": 2
}
