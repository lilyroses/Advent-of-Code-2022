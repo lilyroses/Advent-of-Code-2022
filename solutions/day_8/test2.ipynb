{
 "cells": [
  {
   "cell_type": "markdown",
   "metadata": {},
   "source": [
    "# WORKING"
   ]
  },
  {
   "cell_type": "markdown",
   "metadata": {},
   "source": [
    "---\n",
    "\n",
    "## Setup"
   ]
  },
  {
   "cell_type": "code",
   "execution_count": 1,
   "metadata": {},
   "outputs": [],
   "source": [
    "import numpy as np\n",
    "import pandas as pd"
   ]
  },
  {
   "cell_type": "code",
   "execution_count": 2,
   "metadata": {},
   "outputs": [],
   "source": [
    "INPUT_FILE = 'input.txt'"
   ]
  },
  {
   "cell_type": "code",
   "execution_count": 3,
   "metadata": {},
   "outputs": [],
   "source": [
    "with open(INPUT_FILE, 'r') as f:\n",
    "    lines = [line.strip('\\n') for line in f.readlines()]\n",
    "    \n",
    "# lines"
   ]
  },
  {
   "cell_type": "markdown",
   "metadata": {},
   "source": [
    "---\n",
    "\n",
    "### Create Tree Grid"
   ]
  },
  {
   "cell_type": "code",
   "execution_count": 4,
   "metadata": {},
   "outputs": [],
   "source": [
    "def create_tree_grid(lines: list[str]) -> list[list[int]]:\n",
    "    \"\"\"Create an array from a list of numeric strings.\"\"\"\n",
    "    rows = [[int(num) for num\n",
    "             in list(line)]\n",
    "            for line in lines]\n",
    "    # Convert to numpy array so object can be\n",
    "    # transposed to check columns later on\n",
    "    rows = np.array(rows)\n",
    "    \n",
    "    return rows"
   ]
  },
  {
   "cell_type": "markdown",
   "metadata": {},
   "source": [
    "---\n",
    "\n",
    "### Create (empty) Checked Grid"
   ]
  },
  {
   "cell_type": "code",
   "execution_count": 5,
   "metadata": {},
   "outputs": [],
   "source": [
    "def create_checked_grid(tree_grid):\n",
    "    \"\"\"Create a grid with the same shape as the tree_grid\n",
    "    array, filled with 0s to represent tree locations in the grid.\n",
    "    Visible trees will be denoted on this grid with a 1.\"\"\"\n",
    "    num_of_rows = tree_grid.shape[0]\n",
    "    num_of_columns = tree_grid.shape[1]\n",
    "    \n",
    "    checked_grid = np.zeros((num_of_rows, num_of_columns), dtype=np.int16)   \n",
    "\n",
    "    return checked_grid"
   ]
  },
  {
   "cell_type": "markdown",
   "metadata": {},
   "source": [
    "---\n",
    "\n",
    "#### Example Tree Grid"
   ]
  },
  {
   "cell_type": "code",
   "execution_count": 6,
   "metadata": {},
   "outputs": [],
   "source": [
    "# Example input, same format as \"lines\"\n",
    "\n",
    "example_tree_grid = [\n",
    "    '30373',\n",
    "    '25512',\n",
    "    '65332',\n",
    "    '33549',\n",
    "    '35390'\n",
    "]"
   ]
  },
  {
   "cell_type": "code",
   "execution_count": 7,
   "metadata": {},
   "outputs": [
    {
     "data": {
      "text/plain": [
       "array([[3, 0, 3, 7, 3],\n",
       "       [2, 5, 5, 1, 2],\n",
       "       [6, 5, 3, 3, 2],\n",
       "       [3, 3, 5, 4, 9],\n",
       "       [3, 5, 3, 9, 0]])"
      ]
     },
     "execution_count": 7,
     "metadata": {},
     "output_type": "execute_result"
    }
   ],
   "source": [
    "tree_grid = create_tree_grid(example_tree_grid)\n",
    "# tree_grid = create_tree_grid(lines)\n",
    "tree_grid "
   ]
  },
  {
   "cell_type": "markdown",
   "metadata": {},
   "source": [
    "---\n",
    "\n",
    "#### Empty Checked Grid"
   ]
  },
  {
   "cell_type": "code",
   "execution_count": 8,
   "metadata": {},
   "outputs": [
    {
     "data": {
      "text/plain": [
       "array([[0, 0, 0, 0, 0],\n",
       "       [0, 0, 0, 0, 0],\n",
       "       [0, 0, 0, 0, 0],\n",
       "       [0, 0, 0, 0, 0],\n",
       "       [0, 0, 0, 0, 0]], dtype=int16)"
      ]
     },
     "execution_count": 8,
     "metadata": {},
     "output_type": "execute_result"
    }
   ],
   "source": [
    "empty_checked_grid = create_checked_grid(tree_grid)\n",
    "empty_checked_grid"
   ]
  },
  {
   "cell_type": "markdown",
   "metadata": {},
   "source": [
    "---\n",
    "\n",
    "## Check Across (Left-to-Right and Right-to-Left) Rows for Visible Trees"
   ]
  },
  {
   "cell_type": "code",
   "execution_count": 39,
   "metadata": {},
   "outputs": [],
   "source": [
    "def check_row_left_to_right(tree_grid):\n",
    "        # Save row, column point for each visible tree to this list\n",
    "        all_visible = []\n",
    "        \n",
    "        # If the tree is in the first or last row or column (edge tree) add its \n",
    "        # point to the list of visible trees\n",
    "        for i, row in enumerate(tree_grid):    \n",
    "            for j, tree in enumerate(row):\n",
    "                if i == 0 or j == 0 or i == row_last_index or j == row_last_index:\n",
    "                    all_visible.append([i, j])\n",
    "\n",
    "        # Enumerate through each row in the tree grid\n",
    "        for i, row in enumerate(tree_grid):\n",
    "            # Find the tallest tree for that row\n",
    "            tallest_tree_height = max(row)\n",
    "\n",
    "            # Enumerate through the trees in each row\n",
    "            for j, tree in enumerate(row):\n",
    "                # If the tree is the first tree in the row\n",
    "                if j == 0:\n",
    "                    # The first tree we check is the current tallest tree of the checked trees\n",
    "                    current_tree = row[j]\n",
    "                    all_visible.append([i, j])\n",
    "                    # But if the current tree is the first tallest tree, then stop there.\n",
    "                    if current_tree == tallest_tree_height:\n",
    "                        break\n",
    "                    \n",
    "                # If the tree is not the first in the row and the tree equals the \n",
    "                # tallest tree height \n",
    "                elif tree == tallest_tree_height:\n",
    "                    # Add that tree's point to the list of visible trees\n",
    "                    all_visible.append([i, j])\n",
    "                    # And then stop checking the trees in that row, skip to the next row\n",
    "                    break\n",
    "                \n",
    "                # Otherwise, if the tree is not the first tree in the row and it does not\n",
    "                # equal the tallest tree\n",
    "                elif tree != tallest_tree_height:\n",
    "                    # If the tree's height is taller than the current tree's height\n",
    "                    if tree > current_tree:\n",
    "                        # Add that tree's points to the list of visible trees\n",
    "                        all_visible.append([i, j])\n",
    "                        # Then, set the current tree to that tree, so that any tree after\n",
    "                        # it must be higher than it to be visible\n",
    "                        current_tree = tree\n",
    "\n",
    "                    # If the tree is not the first tallest tree in the row and it is not taller\n",
    "                    # than the current tallest tree, it is not visible, so continue checking the\n",
    "                    # trees in the current row until the tallest tree is found.\n",
    "                    elif tree <= current_tree:\n",
    "                        continue\n",
    "\n",
    "        # Returns a list of lists, where each sublist is a coordinate for a tree in the grid,\n",
    "        # [row, column] to be represented in the checked_grid as a 1.                    \n",
    "        return all_visible"
   ]
  },
  {
   "cell_type": "markdown",
   "metadata": {},
   "source": [
    "---\n",
    "\n",
    "## Add Coordinates to Checked Grid"
   ]
  },
  {
   "cell_type": "code",
   "execution_count": 48,
   "metadata": {},
   "outputs": [],
   "source": [
    "def add_coordinates_to_checked_grid(all_coordinates):\n",
    "    \n",
    "    checked_grid = create_checked_grid(tree_grid)\n",
    " \n",
    "    for coordinate in all_coordinates:\n",
    "        row, column = coordinate\n",
    "        checked_grid[row][column] = 1\n",
    "        \n",
    "    return checked_grid"
   ]
  },
  {
   "cell_type": "markdown",
   "metadata": {},
   "source": [
    "---\n",
    "\n",
    "## Get Coordinates\n",
    "\n",
    "---"
   ]
  },
  {
   "cell_type": "markdown",
   "metadata": {},
   "source": [
    "### Rows "
   ]
  },
  {
   "cell_type": "markdown",
   "metadata": {},
   "source": [
    "---\n",
    "\n",
    "#### Left-to-Right"
   ]
  },
  {
   "cell_type": "code",
   "execution_count": 49,
   "metadata": {},
   "outputs": [
    {
     "data": {
      "text/plain": [
       "[[0, 0],\n",
       " [0, 1],\n",
       " [0, 2],\n",
       " [0, 3],\n",
       " [0, 4],\n",
       " [1, 0],\n",
       " [1, 4],\n",
       " [2, 0],\n",
       " [2, 4],\n",
       " [3, 0],\n",
       " [3, 4],\n",
       " [4, 0],\n",
       " [4, 1],\n",
       " [4, 2],\n",
       " [4, 3],\n",
       " [4, 4],\n",
       " [0, 0],\n",
       " [0, 3],\n",
       " [1, 0],\n",
       " [1, 1],\n",
       " [2, 0],\n",
       " [3, 0],\n",
       " [3, 2],\n",
       " [3, 4],\n",
       " [4, 0],\n",
       " [4, 1],\n",
       " [4, 3]]"
      ]
     },
     "execution_count": 49,
     "metadata": {},
     "output_type": "execute_result"
    }
   ],
   "source": [
    "left_to_right_coordinates = check_row(tree_grid, is_reversed=False)\n",
    "left_to_right_coordinates"
   ]
  },
  {
   "cell_type": "code",
   "execution_count": 51,
   "metadata": {},
   "outputs": [
    {
     "data": {
      "text/plain": [
       "array([[1, 1, 1, 1, 1],\n",
       "       [1, 1, 0, 0, 1],\n",
       "       [1, 0, 0, 0, 1],\n",
       "       [1, 0, 1, 0, 1],\n",
       "       [1, 1, 1, 1, 1]], dtype=int16)"
      ]
     },
     "execution_count": 51,
     "metadata": {},
     "output_type": "execute_result"
    }
   ],
   "source": [
    "left_to_right_grid = add_coordinates_to_checked_grid(left_to_right_coordinates)\n",
    "left_to_right_grid"
   ]
  },
  {
   "cell_type": "markdown",
   "metadata": {},
   "source": [
    "---\n",
    "\n",
    "#### Right-to-Left"
   ]
  },
  {
   "cell_type": "code",
   "execution_count": 52,
   "metadata": {},
   "outputs": [
    {
     "data": {
      "text/plain": [
       "[[0, 0],\n",
       " [0, 1],\n",
       " [1, 0],\n",
       " [1, 2],\n",
       " [2, 0],\n",
       " [2, 1],\n",
       " [2, 3],\n",
       " [2, 4],\n",
       " [3, 0],\n",
       " [4, 0],\n",
       " [4, 1]]"
      ]
     },
     "execution_count": 52,
     "metadata": {},
     "output_type": "execute_result"
    }
   ],
   "source": [
    "\n",
    "right_to_left_coordinates = check_row(tree_grid, is_reversed=True)\n",
    "right_to_left_coordinates"
   ]
  },
  {
   "cell_type": "code",
   "execution_count": 47,
   "metadata": {},
   "outputs": [
    {
     "data": {
      "text/plain": [
       "array([[1, 1, 1, 1, 1],\n",
       "       [1, 1, 1, 0, 1],\n",
       "       [1, 1, 0, 1, 1],\n",
       "       [1, 0, 1, 0, 1],\n",
       "       [1, 1, 1, 1, 1]], dtype=int16)"
      ]
     },
     "execution_count": 47,
     "metadata": {},
     "output_type": "execute_result"
    }
   ],
   "source": [
    "right_to_left_grid = add_coordinates_to_checked_grid(right_to_left_coordinates, empty_checked_grid)\n",
    "right_to_left_grid"
   ]
  },
  {
   "cell_type": "markdown",
   "metadata": {},
   "source": [
    "---\n",
    "\n",
    "### Columns"
   ]
  },
  {
   "cell_type": "markdown",
   "metadata": {},
   "source": [
    "---\n",
    "\n",
    "## Transpose Grid to check Columns"
   ]
  },
  {
   "cell_type": "code",
   "execution_count": 18,
   "metadata": {},
   "outputs": [
    {
     "data": {
      "text/plain": [
       "array([[3, 2, 6, 3, 3],\n",
       "       [0, 5, 5, 3, 5],\n",
       "       [3, 5, 3, 5, 3],\n",
       "       [7, 1, 3, 4, 9],\n",
       "       [3, 2, 2, 9, 0]])"
      ]
     },
     "execution_count": 18,
     "metadata": {},
     "output_type": "execute_result"
    }
   ],
   "source": [
    "tree_grid_transposed = np.transpose(tree_grid)\n",
    "tree_grid_transposed"
   ]
  },
  {
   "cell_type": "code",
   "execution_count": 34,
   "metadata": {},
   "outputs": [],
   "source": [
    "up_to_down_coordinates = check_row(tree_grid, is_reversed=False)\n",
    "down_to_up_coordinates = check_row(tree_grid, is_reversed=True)"
   ]
  },
  {
   "cell_type": "code",
   "execution_count": 20,
   "metadata": {},
   "outputs": [],
   "source": [
    "all_coordinates = get_all_coordinates(up_to_down_coordinates, down_to_up_coordinates)"
   ]
  },
  {
   "cell_type": "code",
   "execution_count": 25,
   "metadata": {},
   "outputs": [
    {
     "data": {
      "text/plain": [
       "array([[1, 1, 1, 1, 1],\n",
       "       [1, 1, 1, 0, 1],\n",
       "       [1, 1, 0, 1, 1],\n",
       "       [1, 0, 1, 0, 1],\n",
       "       [1, 1, 1, 1, 1]], dtype=int16)"
      ]
     },
     "execution_count": 25,
     "metadata": {},
     "output_type": "execute_result"
    }
   ],
   "source": [
    "add_coordinates_to_checked_grid(all_coordinates, half_checked_grid)"
   ]
  },
  {
   "cell_type": "code",
   "execution_count": 17,
   "metadata": {},
   "outputs": [
    {
     "data": {
      "text/plain": [
       "array([[ True,  True,  True,  True,  True],\n",
       "       [ True,  True,  True,  True,  True],\n",
       "       [ True,  True,  True,  True,  True],\n",
       "       [ True,  True,  True,  True,  True],\n",
       "       [ True,  True,  True,  True,  True]])"
      ]
     },
     "execution_count": 17,
     "metadata": {},
     "output_type": "execute_result"
    }
   ],
   "source": [
    "true_checked_grid = [\n",
    "    [1, 1, 1, 1, 1],\n",
    "    [1, 1, 1, 0, 1],\n",
    "    [1, 1, 0, 1, 1],\n",
    "    [1, 0, 1, 0, 1],\n",
    "    [1, 1, 1, 1, 1]    \n",
    "]\n",
    "\n",
    "checked_grid == true_checked_grid"
   ]
  },
  {
   "cell_type": "markdown",
   "metadata": {},
   "source": [
    "---\n",
    "\n",
    "## WORKING"
   ]
  },
  {
   "cell_type": "code",
   "execution_count": null,
   "metadata": {},
   "outputs": [],
   "source": [
    "def add_edge_trees_to_checked_grid(tree_grid):\n",
    "\n",
    "    last_row_index = len(tree_grid) - 1\n",
    "\n",
    "    # Check every row in the tree grid, and keep track of the index of the current row\n",
    "    for row_number, row in enumerate(tree_grid):\n",
    "        # Check every tree in each row, and keep track of the index of the current tree    \n",
    "        for tree_number, tree in enumerate(row):\n",
    "            # Add a 1 to the tree's location in the checked grid if the tree is on the edge\n",
    "            # of the grid\n",
    "            if (\n",
    "                (row_number == 0) or (row_number == last_row_index) or \n",
    "                (tree_number == 0) or (tree_number == len(row) - 1)\n",
    "            ):\n",
    "                checked_grid[row_number][tree_number] = 1\n",
    "\n",
    "            # Otherwise, keep track of each inner tree's neighbors.\n",
    "\n",
    "    return checked_grid    "
   ]
  },
  {
   "cell_type": "code",
   "execution_count": 31,
   "metadata": {},
   "outputs": [
    {
     "data": {
      "text/plain": [
       "array([[False, False, False],\n",
       "       [False, False, False],\n",
       "       [False, False, False]])"
      ]
     },
     "execution_count": 31,
     "metadata": {},
     "output_type": "execute_result"
    }
   ],
   "source": [
    "a = [[0, 0, 0],\n",
    "     [1, 1, 0], \n",
    "     [0, 1, 0]]\n",
    "\n",
    "a = np.array(a, dtype=bool)\n",
    "a\n",
    "\n",
    "b = [[0, 1, 1],\n",
    "     [0, 0, 1],\n",
    "     [1, 0, 1]]\n",
    "\n",
    "b = np.array(b, dtype=bool)\n",
    "\n",
    "(a|b)"
   ]
  },
  {
   "cell_type": "code",
   "execution_count": 53,
   "metadata": {},
   "outputs": [],
   "source": [
    "def check_row_left_to_right(tree_grid):\n",
    "    \"\"\"Create a grid of trees visible for each row when viewed from left to right.\"\"\"\n",
    "    \n",
    "    # Initialize empty grid to add visible trees (1s) to\n",
    "    checked_grid_left_to_right = create_empty_checked_grid()\n",
    "    \n",
    "    # For each row in the tree grid\n",
    "    for i, row in enumerate(tree_grid):\n",
    "        # Find the tallest tree for that row\n",
    "        tallest_tree_height = max(row)\n",
    "        \n",
    "        # Iterate through each tree in the row\n",
    "        for j, tree in enumerate(row):\n",
    "            # For the first tree in the row, set it as the current tallest tree\n",
    "            if j == 0:\n",
    "                current_tree = row[j]\n",
    "                checked_grid_left_to_right[i][j] = 1\n",
    "                # If the first tree is the tallest tree, skip to checking the next row\n",
    "                if current_tree == tallest_tree_height:\n",
    "                    break\n",
    "            \n",
    "            # If the tree is not the first in the row, and the tree equals to the\n",
    "            # tallest tree height\n",
    "            elif tree == tallest_tree_height:\n",
    "                # Add a visible tree marker (1) to the checked_trees grid at the tree's\n",
    "                # coordinates\n",
    "                checked_grid_left_to_right[i][j] = 1\n",
    "                # Then skip to checking the next row\n",
    "                break\n",
    "            \n",
    "            # If the tree is not the first in the row, and it is not the tallest tree\n",
    "            elif tree != tallest_tree_height:\n",
    "                # If the tree's height is taller than the current tallest tree\n",
    "                if tree > current_tree:\n",
    "                    # Add a visible tree marker (1) to the checked_trees grid\n",
    "                    checked_grid_left_to_right[i][j] = 1\n",
    "                    # Then, change the current_tree to that tree, so that each following tree\n",
    "                    # must be taller than it to be considered visible.\n",
    "                    current_tree = tree\n",
    "                    \n",
    "                # The tree is not visible if it is not taller than the current tallest tree,\n",
    "                # so continue checking the rest of the trees in the current row until the\n",
    "                # tallest tree is found.\n",
    "                elif tree <= current_tree:\n",
    "                    continue\n",
    "                \n",
    "    return checked_grid_left_to_right"
   ]
  },
  {
   "cell_type": "code",
   "execution_count": null,
   "metadata": {},
   "outputs": [],
   "source": []
  }
 ],
 "metadata": {
  "kernelspec": {
   "display_name": "Python 3",
   "language": "python",
   "name": "python3"
  },
  "language_info": {
   "codemirror_mode": {
    "name": "ipython",
    "version": 3
   },
   "file_extension": ".py",
   "mimetype": "text/x-python",
   "name": "python",
   "nbconvert_exporter": "python",
   "pygments_lexer": "ipython3",
   "version": "3.10.12"
  }
 },
 "nbformat": 4,
 "nbformat_minor": 2
}
