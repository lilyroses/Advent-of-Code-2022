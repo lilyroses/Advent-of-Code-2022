{
 "cells": [
  {
   "cell_type": "markdown",
   "id": "7f970d78",
   "metadata": {},
   "source": [
    "# Solution for Day 10: No Space Left On Device\n",
    "\n",
    "*Advent of Code 2022*"
   ]
  },
  {
   "cell_type": "markdown",
   "id": "ac685d80",
   "metadata": {},
   "source": [
    "- [Homepage](https://adventofcode.com/2022)\n",
    "\n",
    "- [Day 10 Challenge](https://adventofcode.com/2022/day/10)\n",
    "\n",
    "- [Input Data](https://adventofcode.com/2022/day/10/input)\n",
    "\n",
    "---"
   ]
  },
  {
   "cell_type": "code",
   "execution_count": null,
   "id": "5e957733",
   "metadata": {},
   "outputs": [],
   "source": [
    "# import\n"
   ]
  },
  {
   "cell_type": "code",
   "execution_count": null,
   "id": "4bf5f26b",
   "metadata": {},
   "outputs": [],
   "source": [
    "INPUT_FILE = 'input.txt'"
   ]
  },
  {
   "cell_type": "markdown",
   "id": "d1c77f97",
   "metadata": {},
   "source": [
    "---\n",
    "\n",
    "## Part I"
   ]
  },
  {
   "cell_type": "code",
   "execution_count": null,
   "id": "2b679a1d",
   "metadata": {},
   "outputs": [],
   "source": []
  },
  {
   "cell_type": "markdown",
   "id": "828eff74",
   "metadata": {},
   "source": [
    "### Answer"
   ]
  },
  {
   "cell_type": "code",
   "execution_count": null,
   "id": "c62bdcda",
   "metadata": {},
   "outputs": [],
   "source": []
  },
  {
   "cell_type": "markdown",
   "id": "b5340065",
   "metadata": {},
   "source": [
    "---\n",
    "\n",
    "## Part II"
   ]
  },
  {
   "cell_type": "code",
   "execution_count": null,
   "id": "e34afa79",
   "metadata": {},
   "outputs": [],
   "source": []
  },
  {
   "cell_type": "markdown",
   "id": "fd8576e3",
   "metadata": {},
   "source": [
    "### Answer"
   ]
  },
  {
   "cell_type": "code",
   "execution_count": null,
   "id": "b12cc600",
   "metadata": {},
   "outputs": [],
   "source": []
  }
 ],
 "metadata": {},
 "nbformat": 4,
 "nbformat_minor": 5
}
