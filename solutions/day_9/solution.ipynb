{
 "cells": [
  {
   "cell_type": "markdown",
   "id": "038fd33e",
   "metadata": {},
   "source": [
    "# Solution for Day 9: Rope Bridge\n",
    "\n",
    "*Advent of Code 2022*"
   ]
  },
  {
   "cell_type": "markdown",
   "id": "0f7f6c22",
   "metadata": {},
   "source": [
    "- [Day 9 Challenge](https://adventofcode.com/2022/day/9)\n",
    "\n",
    "- [Instructions](instructions.md)\n",
    "\n",
    "- [Input Data](input.txt)\n",
    "\n",
    "---"
   ]
  },
  {
   "cell_type": "code",
   "execution_count": 66,
   "id": "dc991696",
   "metadata": {},
   "outputs": [],
   "source": [
    "# imports\n",
    "import numpy as np"
   ]
  },
  {
   "cell_type": "code",
   "execution_count": 18,
   "id": "e7539757",
   "metadata": {},
   "outputs": [],
   "source": [
    "INPUT_FILE = 'input.txt'"
   ]
  },
  {
   "cell_type": "code",
   "execution_count": 58,
   "id": "e6718c48",
   "metadata": {},
   "outputs": [],
   "source": [
    "with open(INPUT_FILE, 'r') as f:\n",
    "    lines = [line.strip() for line in f.readlines()]\n",
    "\n",
    "# lines"
   ]
  },
  {
   "cell_type": "markdown",
   "id": "c2f0c424",
   "metadata": {},
   "source": [
    "---\n",
    "\n",
    "## Part I"
   ]
  },
  {
   "cell_type": "code",
   "execution_count": 59,
   "id": "c862cea9",
   "metadata": {},
   "outputs": [],
   "source": [
    "directional_moves = {\n",
    "    'R': [],\n",
    "    'L': [],\n",
    "    'U': [],\n",
    "    'D': []\n",
    "}"
   ]
  },
  {
   "cell_type": "code",
   "execution_count": 60,
   "id": "784600fa",
   "metadata": {},
   "outputs": [],
   "source": [
    "def parse_head_positions(lines):\n",
    "    all_moves = []\n",
    "\n",
    "    for line in lines:\n",
    "        current_move = [line.split()[0], int(line.split()[1])]\n",
    "        all_moves.append(current_move)\n",
    "\n",
    "    return all_moves"
   ]
  },
  {
   "cell_type": "code",
   "execution_count": 63,
   "id": "92fa6daa",
   "metadata": {},
   "outputs": [],
   "source": [
    "head_moves = parse_head_positions(lines)\n",
    "# head_moves"
   ]
  },
  {
   "cell_type": "markdown",
   "id": "c37906c2",
   "metadata": {},
   "source": [
    "---\n",
    "\n",
    "## Build Matrix Grid"
   ]
  },
  {
   "cell_type": "code",
   "execution_count": 113,
   "id": "5be97be2",
   "metadata": {},
   "outputs": [
    {
     "data": {
      "text/plain": [
       "'.'"
      ]
     },
     "execution_count": 113,
     "metadata": {},
     "output_type": "execute_result"
    }
   ],
   "source": [
    "# COORDINATES: [x][y]\n",
    "# x = left/right\n",
    "# y = up/down\n",
    "\n",
    "# We start at the point: [0][0]\n",
    "\n",
    "matrix = [['.']]  # [0][0] = '.'\n",
    "\n",
    "x = 0\n",
    "y = 0\n",
    "\n",
    "# If we move right:\n",
    "    # Take the current point ([0 0]) and EXTEND it that many steps.\n",
    "    # So if the move is R4, we now have\n",
    "direction = 'R'\n",
    "steps = 4\n",
    "\n",
    "x = x + steps\n",
    "y = y\n",
    "\n",
    "# x = x + 4\n",
    "# y = y\n",
    "\n",
    "right_extend = []\n",
    "for i in range(steps):\n",
    "    right_extend.append('.')\n",
    "\n",
    "# and the new position is at [0, 4]\n",
    "matrix = matrix[0] + right_extend\n",
    "\n"
   ]
  },
  {
   "cell_type": "code",
   "execution_count": 100,
   "id": "fb18730f",
   "metadata": {},
   "outputs": [
    {
     "data": {
      "text/plain": [
       "['.', '.', '.', '.', '.']"
      ]
     },
     "execution_count": 100,
     "metadata": {},
     "output_type": "execute_result"
    }
   ],
   "source": [
    "a = ['.']\n",
    "b = ['.', '.', '.', '.']\n",
    "\n",
    "a + b"
   ]
  },
  {
   "cell_type": "code",
   "execution_count": 87,
   "id": "257ef3ef",
   "metadata": {},
   "outputs": [],
   "source": []
  },
  {
   "cell_type": "code",
   "execution_count": 90,
   "id": "c905688c",
   "metadata": {},
   "outputs": [
    {
     "data": {
      "text/plain": [
       "11692"
      ]
     },
     "execution_count": 90,
     "metadata": {},
     "output_type": "execute_result"
    }
   ],
   "source": [
    "matrix = np.zeros((rows*2, columns*2), dtype=int)\n"
   ]
  },
  {
   "cell_type": "markdown",
   "id": "b1608071",
   "metadata": {},
   "source": [
    "### Answer"
   ]
  },
  {
   "cell_type": "code",
   "execution_count": null,
   "id": "a719e7d0",
   "metadata": {},
   "outputs": [],
   "source": []
  },
  {
   "cell_type": "markdown",
   "id": "b1b9c296",
   "metadata": {},
   "source": [
    "---\n",
    "\n",
    "## Part II"
   ]
  },
  {
   "cell_type": "code",
   "execution_count": null,
   "id": "6ecb2f09",
   "metadata": {},
   "outputs": [],
   "source": []
  },
  {
   "cell_type": "markdown",
   "id": "ffbb1b85",
   "metadata": {},
   "source": [
    "### Answer"
   ]
  },
  {
   "cell_type": "code",
   "execution_count": null,
   "id": "b7ccdfd9",
   "metadata": {},
   "outputs": [],
   "source": []
  }
 ],
 "metadata": {
  "kernelspec": {
   "display_name": "Python 3",
   "language": "python",
   "name": "python3"
  },
  "language_info": {
   "codemirror_mode": {
    "name": "ipython",
    "version": 3
   },
   "file_extension": ".py",
   "mimetype": "text/x-python",
   "name": "python",
   "nbconvert_exporter": "python",
   "pygments_lexer": "ipython3",
   "version": "3.10.12"
  }
 },
 "nbformat": 4,
 "nbformat_minor": 5
}
