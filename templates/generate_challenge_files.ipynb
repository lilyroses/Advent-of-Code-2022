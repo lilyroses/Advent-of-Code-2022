{
 "cells": [
  {
   "cell_type": "markdown",
   "metadata": {},
   "source": [
    "# Generate Challenge Directory and Files\n",
    "\n",
    "To generate a solution folder for a single day's challenge, use this Jupyter notebook.\n",
    "\n",
    "The only cells you are required to interact with are the cells between the markdown cells stating \"Custom User Input\" and \"End Custom User Input\".\n",
    "\n",
    "These custom variables hold the day number (`n`) and the name of the challenge (`title`).\n",
    "\n",
    "You must also specify your user home directory, and any parent directories that your `Advent-of-Code` folder resides within. \n",
    "\n",
    "This notebook then creates a directory for the challenge day within the `solutions` directory.\n",
    "\n",
    "The new directory is then populated with 3 files:\n",
    "\n",
    "1.  `input.txt` : an empty text file, where you should copy and paste your challenge's input data. \n",
    "  \n",
    "2.  `instructions.md` : a markdown file with a default basic outline, which uses the challenge's name in the title.\n",
    "  \n",
    "3.  `solution.ipynb` : a Jupyter notebook file that is initialized with a default number of code and Markdown cells, initialized with default values such as a level one header with the challenge name as the title, and basic variable setup such as `INPUT_FILE = input.txt`.  \n",
    "\n",
    "\n",
    "*The layout of the project:*\n",
    "\n",
    "```\n",
    "|__ Advent-of-Code-2022\n",
    "    |__ solutions\n",
    "        |__ day_1\n",
    "            |__ solution.ipynb\n",
    "            |__ instructions.md\n",
    "            |__ input.txt\n",
    "        |__ day_2\n",
    "            |__ solution.ipynb\n",
    "            |__ instructions.md\n",
    "            |__ input.txt\n",
    "        ...\n",
    "        |__ day_n\n",
    "            |__ solution.ipynb\n",
    "            |__ instructions.md\n",
    "            |__ input.txt\n",
    "```"
   ]
  },
  {
   "cell_type": "markdown",
   "metadata": {},
   "source": [
    "---\n",
    "\n",
    "## User Defined Variables\n",
    "\n",
    "*CUSTOM USER VARIABLES*"
   ]
  },
  {
   "cell_type": "code",
   "execution_count": 73,
   "metadata": {},
   "outputs": [],
   "source": [
    "# CHANGE THESE VARIABLES\n",
    "\n",
    "# The directory where your 'Advent-of-Code-{yyyy}' folder resides\n",
    "HOME_DIR = '/home/lilyroses/code/'\n",
    "\n",
    "# Advent of Code year \n",
    "YEAR = 2022\n",
    "\n",
    "# Individual challenge day number\n",
    "n = 1\n",
    "\n",
    "TITLE = 'Counting Calories'  # title of challenge"
   ]
  },
  {
   "cell_type": "code",
   "execution_count": 74,
   "metadata": {},
   "outputs": [],
   "source": [
    "# Path to location of Advent of Code files\n",
    "\n",
    "PROJECT_FOLDER = f'{HOME_DIR}Advent-of-Code-{YEAR}/solutions/'"
   ]
  },
  {
   "cell_type": "markdown",
   "metadata": {},
   "source": [
    "*END CUSTOM USER VARIABLES*\n",
    "\n",
    "---"
   ]
  },
  {
   "cell_type": "markdown",
   "metadata": {},
   "source": [
    "## Generate Challenge Folder"
   ]
  },
  {
   "cell_type": "code",
   "execution_count": 75,
   "metadata": {},
   "outputs": [],
   "source": [
    "import os"
   ]
  },
  {
   "cell_type": "code",
   "execution_count": 76,
   "metadata": {},
   "outputs": [],
   "source": [
    "# Default folder/file names\n",
    "\n",
    "SOLUTION_FILENAME = 'solution.py'\n",
    "SOLUTION_FILENAME_JUPYTER_NOTEBOOK = 'solution.ipynb'\n",
    "INSTRUCTIONS_FILENAME = 'instructions.md'\n",
    "INPUT_FILENAME = 'input.txt'"
   ]
  },
  {
   "cell_type": "code",
   "execution_count": 77,
   "metadata": {},
   "outputs": [],
   "source": [
    "def create_dir(n):\n",
    "    dir = f'day_{n}/'\n",
    "    full_path = PROJECT_FOLDER + dir\n",
    "    \n",
    "    try:\n",
    "        os.mkdir(full_path)\n",
    "    except FileExistsError:\n",
    "        pass\n",
    "    except FileNotFoundError:\n",
    "        pass\n",
    "    \n",
    "    return full_path"
   ]
  },
  {
   "cell_type": "code",
   "execution_count": 78,
   "metadata": {},
   "outputs": [],
   "source": [
    "challenge_dir = create_dir(n)"
   ]
  },
  {
   "cell_type": "markdown",
   "metadata": {},
   "source": [
    "---\n",
    "\n",
    "## Generate Input File"
   ]
  },
  {
   "cell_type": "code",
   "execution_count": 79,
   "metadata": {},
   "outputs": [],
   "source": [
    "## Generate Input File\n",
    "\n",
    "def generate_input_file(dir):\n",
    "    input_file_path  = dir + INPUT_FILENAME\n",
    "\n",
    "    with open(input_file_path, 'w') as f:\n",
    "        f.write('')\n",
    "        \n",
    "    # return  input_file_path"
   ]
  },
  {
   "cell_type": "code",
   "execution_count": 80,
   "metadata": {},
   "outputs": [],
   "source": [
    "generate_input_file(challenge_dir)"
   ]
  },
  {
   "cell_type": "markdown",
   "metadata": {},
   "source": [
    "---\n",
    "\n",
    "## Generate Instructions File"
   ]
  },
  {
   "cell_type": "code",
   "execution_count": 81,
   "metadata": {},
   "outputs": [],
   "source": [
    "def generate_instructions_file():\n",
    "    \n",
    "    instructions_file_path = challenge_dir + INSTRUCTIONS_FILENAME\n",
    "    \n",
    "    instructions_file_contents = f\"\"\"# Instructions for Day {n}: {TITLE.title()}\n",
    "\n",
    "---\n",
    "\n",
    "## Links\n",
    "\n",
    "- [Homepage](https://adventofcode.com/{YEAR})\n",
    "\n",
    "- [Day {n} Challenge](https://adventofcode.com/{YEAR}/day/{n})\n",
    "\n",
    "- [Input Data](https://adventofcode.com/{YEAR}/day/{n}/input)\n",
    "\n",
    "---\n",
    "\n",
    "## Part I\n",
    "\n",
    "*Description goes here*\n",
    "\n",
    "---\n",
    "\n",
    "## Part II \n",
    "\n",
    "*Description goes here*\n",
    "\"\"\"\n",
    "\n",
    "    # print(instructions_file_contents)\n",
    "    try:\n",
    "        with open(instructions_file_path, 'w') as f:\n",
    "            f.write(instructions_file_contents)\n",
    "            print(f'Creating {INSTRUCTIONS_FILENAME}...')\n",
    "    except FileExistsError:\n",
    "        print(f'File `{INPUT_FILENAME}` exists')"
   ]
  },
  {
   "cell_type": "code",
   "execution_count": 82,
   "metadata": {},
   "outputs": [
    {
     "name": "stdout",
     "output_type": "stream",
     "text": [
      "Creating instructions.md...\n"
     ]
    }
   ],
   "source": [
    "generate_instructions_file()"
   ]
  },
  {
   "cell_type": "markdown",
   "metadata": {},
   "source": [
    "---\n",
    "\n",
    "## Generate Solutions File (Jupyter Notebook)"
   ]
  },
  {
   "cell_type": "code",
   "execution_count": 83,
   "metadata": {},
   "outputs": [],
   "source": [
    "import nbformat as nbf"
   ]
  },
  {
   "cell_type": "code",
   "execution_count": 84,
   "metadata": {},
   "outputs": [],
   "source": [
    "def generate_solutions_file(is_jupyter_notebook=True):\n",
    "    \n",
    "    if is_jupyter_notebook == True:\n",
    "        solution_file_path = challenge_dir + SOLUTION_FILENAME_JUPYTER_NOTEBOOK\n",
    "    \n",
    "        nb = nbf.v4.new_notebook()\n",
    "\n",
    "        title_md = f\"\"\"# Solution for Day {n}: {TITLE.title()}\n",
    "\n",
    "*Advent of Code {YEAR}*\"\"\"\n",
    "\n",
    "        links_md = f\"\"\"- [Homepage](https://adventofcode.com/{YEAR})\n",
    "\n",
    "- [Day {n} Challenge](https://adventofcode.com/{YEAR}/day/{n})\n",
    "\n",
    "- [Input Data](https://adventofcode.com/{YEAR}/day/{n}/input)\n",
    "\n",
    "---\"\"\"\n",
    "\n",
    "        import_cell = \"\"\"# imports\n",
    "\"\"\"\n",
    "        input_file_cell = \"\"\"INPUT_FILE = 'input.txt'\"\"\"\n",
    "\n",
    "        part_I_md = \"\"\"---\n",
    "\n",
    "## Part I\"\"\"\n",
    "\n",
    "        answer_md = \"### Answer\"\n",
    "\n",
    "        part_2_md = \"\"\"---\n",
    "\n",
    "## Part II\"\"\"\n",
    "\n",
    "        nb = nbf.v4.new_notebook()\n",
    "\n",
    "\n",
    "        nb['cells'] = [nbf.v4.new_markdown_cell(title_md), \n",
    "                       nbf.v4.new_markdown_cell(links_md),\n",
    "                       nbf.v4.new_code_cell(import_cell),\n",
    "                       nbf.v4.new_code_cell(input_file_cell),\n",
    "                                              \n",
    "                       \n",
    "                       nbf.v4.new_markdown_cell(part_I_md),\n",
    "\n",
    "                       nbf.v4.new_code_cell(),\n",
    "\n",
    "                       nbf.v4.new_markdown_cell(answer_md),\n",
    "                       nbf.v4.new_code_cell(),\n",
    "\n",
    "                       nbf.v4.new_markdown_cell(part_2_md),\n",
    "                       nbf.v4.new_code_cell(),\n",
    "\n",
    "                       nbf.v4.new_markdown_cell(answer_md),\n",
    "                       nbf.v4.new_code_cell()]\n",
    "\n",
    "\n",
    "\n",
    "        with open(solution_file_path, 'w') as f:\n",
    "            nbf.write(nb, f)\n",
    "            \n",
    "    else:\n",
    "        solution_file_path = challenge_dir + SOLUTION_FILENAME\n",
    "        solution_docstring = f\"\"\"\\\"\\\"\\\"Solution for Day {n} Challenge.\\\"\\\"\\\"\n",
    "        \n",
    "INPUT_FILE = 'input.txt'\n",
    "        \n",
    "with open(INPUT_FILE, 'r') as f:\n",
    "    lines = f.readlines()\n",
    "            \n",
    "print(lines)\"\"\"\n",
    "\n",
    "        with open(solution_file_path, 'w') as f:\n",
    "            f.write(solution_docstring)"
   ]
  },
  {
   "cell_type": "code",
   "execution_count": 85,
   "metadata": {},
   "outputs": [],
   "source": [
    "generate_solutions_file(is_jupyter_notebook=True)"
   ]
  }
 ],
 "metadata": {
  "kernelspec": {
   "display_name": "Python 3",
   "language": "python",
   "name": "python3"
  },
  "language_info": {
   "codemirror_mode": {
    "name": "ipython",
    "version": 3
   },
   "file_extension": ".py",
   "mimetype": "text/x-python",
   "name": "python",
   "nbconvert_exporter": "python",
   "pygments_lexer": "ipython3",
   "version": "3.10.12"
  },
  "orig_nbformat": 4
 },
 "nbformat": 4,
 "nbformat_minor": 2
}
