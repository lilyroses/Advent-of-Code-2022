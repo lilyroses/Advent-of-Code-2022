{
 "cells": [
  {
   "cell_type": "markdown",
   "metadata": {},
   "source": [
    "# Generate Challenge Directory and Files\n",
    "\n",
    "Given the day number (`n`) and the challenge nane (`title`), create a directory for the challenge (`day_{n}`).\n",
    "\n",
    "Within the new directory create an empty `input.txt` file, an `instructions.md` file with basic outline, and a `solution.ipynb` notebook file with basic outline cells.\n",
    "\n",
    "---"
   ]
  },
  {
   "cell_type": "markdown",
   "metadata": {},
   "source": [
    "## VARIABLES"
   ]
  },
  {
   "cell_type": "code",
   "execution_count": 1,
   "metadata": {},
   "outputs": [],
   "source": [
    "# CHANGE THESE VARIABLES\n",
    "\n",
    "n = 1000  # day number\n",
    "\n",
    "title = 'No Space Left on Device'  # title of challenge"
   ]
  },
  {
   "cell_type": "code",
   "execution_count": 2,
   "metadata": {},
   "outputs": [],
   "source": [
    "# Path to location of Advent of Code files\n",
    "\n",
    "PROJECT_FOLDER = '/home/lilyroses/code/Advent-of-Code-2022/solutions/'"
   ]
  },
  {
   "cell_type": "markdown",
   "metadata": {},
   "source": [
    "---\n",
    "\n",
    "## Generate Challenge Folder"
   ]
  },
  {
   "cell_type": "code",
   "execution_count": 3,
   "metadata": {},
   "outputs": [],
   "source": [
    "import os"
   ]
  },
  {
   "cell_type": "code",
   "execution_count": 4,
   "metadata": {},
   "outputs": [],
   "source": [
    "# Default folder/file names\n",
    "\n",
    "SOLUTION_FILENAME = 'solution.py'\n",
    "SOLUTION_FILENAME_JUPYTER_NOTEBOOK = 'solution.ipynb'\n",
    "INSTRUCTIONS_FILENAME = 'instructions.md'\n",
    "INPUT_FILENAME = 'input.txt'"
   ]
  },
  {
   "cell_type": "code",
   "execution_count": 5,
   "metadata": {},
   "outputs": [],
   "source": [
    "def create_dir(n):\n",
    "    dir = f'day_{n}/'\n",
    "    full_path = PROJECT_FOLDER + dir\n",
    "    \n",
    "    try:\n",
    "        os.mkdir(full_path)\n",
    "    except FileExistsError:\n",
    "        pass\n",
    "    except FileNotFoundError:\n",
    "        pass\n",
    "    \n",
    "    return full_path"
   ]
  },
  {
   "cell_type": "code",
   "execution_count": 6,
   "metadata": {},
   "outputs": [],
   "source": [
    "challenge_dir = create_dir(n)"
   ]
  },
  {
   "cell_type": "markdown",
   "metadata": {},
   "source": [
    "---\n",
    "\n",
    "## Generate Input File"
   ]
  },
  {
   "cell_type": "code",
   "execution_count": 7,
   "metadata": {},
   "outputs": [],
   "source": [
    "## Generate Input File\n",
    "\n",
    "def generate_input_file(dir):\n",
    "    input_file_path  = dir + INPUT_FILENAME\n",
    "\n",
    "    with open(input_file_path, 'w') as f:\n",
    "        f.write('')\n",
    "        \n",
    "    # return  input_file_path"
   ]
  },
  {
   "cell_type": "code",
   "execution_count": 8,
   "metadata": {},
   "outputs": [],
   "source": [
    "generate_input_file(challenge_dir)"
   ]
  },
  {
   "cell_type": "markdown",
   "metadata": {},
   "source": [
    "---\n",
    "\n",
    "## Generate Instructions File"
   ]
  },
  {
   "cell_type": "code",
   "execution_count": 9,
   "metadata": {},
   "outputs": [],
   "source": [
    "def generate_instructions_file(n, title):\n",
    "    \n",
    "    instructions_file_path = challenge_dir + INSTRUCTIONS_FILENAME\n",
    "    \n",
    "    instructions_file_contents = f\"\"\"# Day {n}: {title.title()} Instructions\n",
    "\n",
    "---\n",
    "\n",
    "## Links\n",
    "\n",
    "- [Homepage](https://adventofcode.com/2022)\n",
    "- [Day {n} Challenge](https://adventofcode.com/2022/day/{n})\n",
    "- [Input Data](https://adventofcode.com/2022/day/{n}/input)\n",
    "\n",
    "---\n",
    "\n",
    "## Part I\n",
    "\n",
    "*Description goes here*\n",
    "\n",
    "---\n",
    "\n",
    "## Part II \n",
    "\n",
    "*Description goes here*\n",
    "\"\"\"\n",
    "\n",
    "    # print(instructions_file_contents)\n",
    "    try:\n",
    "        with open(instructions_file_path, 'w') as f:\n",
    "            f.write(instructions_file_contents)\n",
    "            print(f'Creating {INSTRUCTIONS_FILENAME}...')\n",
    "    except FileExistsError:\n",
    "        print(f'File `{INPUT_FILENAME}` exists')"
   ]
  },
  {
   "cell_type": "code",
   "execution_count": 10,
   "metadata": {},
   "outputs": [
    {
     "name": "stdout",
     "output_type": "stream",
     "text": [
      "Creating instructions.md...\n"
     ]
    }
   ],
   "source": [
    "generate_instructions_file(n, title)"
   ]
  },
  {
   "cell_type": "markdown",
   "metadata": {},
   "source": [
    "---\n",
    "\n",
    "## Generate Solutions File (Jupyter Notebook)"
   ]
  },
  {
   "cell_type": "code",
   "execution_count": 11,
   "metadata": {},
   "outputs": [],
   "source": [
    "import nbformat as nbf"
   ]
  },
  {
   "cell_type": "code",
   "execution_count": 12,
   "metadata": {},
   "outputs": [],
   "source": [
    "def generate_solutions_file(n, title, jupyter_notebook=False):\n",
    "    \n",
    "    if jupyter_notebook == True:\n",
    "        solution_file_path = challenge_dir + SOLUTION_FILENAME_JUPYTER_NOTEBOOK\n",
    "    \n",
    "        nb = nbf.v4.new_notebook()\n",
    "\n",
    "        title_md = f\"\"\"# Day {n}: {title.title()} Solution\n",
    "\n",
    "    - [Homepage](https://adventofcode.com/2022)\n",
    "    - [Day {n} Challenge](https://adventofcode.com/2022/day/{n})\n",
    "    - [Input Data](https://adventofcode.com/2022/day/{n}/input)\n",
    "    \"\"\"\n",
    "\n",
    "        part_I_md = \"\"\"---\n",
    "\n",
    "    ## Part I\n",
    "    \"\"\"\n",
    "\n",
    "        input_file_cell = \"input_file = 'input.txt'\"\n",
    "\n",
    "        answer_md = \"### Answer\"\n",
    "\n",
    "        part_2_md = \"\"\"---\n",
    "\n",
    "    ## Part II\n",
    "    \"\"\"\n",
    "\n",
    "        nb = nbf.v4.new_notebook()\n",
    "\n",
    "\n",
    "        nb['cells'] = [nbf.v4.new_markdown_cell(title_md), \n",
    "\n",
    "                       nbf.v4.new_markdown_cell(part_I_md),\n",
    "                       nbf.v4.new_code_cell(input_file_cell),\n",
    "                       nbf.v4.new_code_cell(),\n",
    "\n",
    "                       nbf.v4.new_markdown_cell(answer_md),\n",
    "                       nbf.v4.new_code_cell(),\n",
    "\n",
    "                       nbf.v4.new_markdown_cell(part_2_md),\n",
    "                       nbf.v4.new_code_cell(),\n",
    "\n",
    "                       nbf.v4.new_markdown_cell(answer_md),\n",
    "                       nbf.v4.new_code_cell()]\n",
    "\n",
    "\n",
    "\n",
    "        with open(solution_file_path, 'w') as f:\n",
    "            nbf.write(nb, f)\n",
    "            \n",
    "    else:\n",
    "        solution_file_path = challenge_dir + SOLUTION_FILENAME\n",
    "        solution_docstring = f\"\"\"\\\"\\\"\\\"Solution for Day {n} Challenge.\\\"\\\"\\\"\n",
    "        \n",
    "input_file = 'input.txt'\n",
    "        \n",
    "with open(input_file, 'r') as f:\n",
    "    lines = f.readlines()\n",
    "            \n",
    "print(lines)\"\"\"\n",
    "\n",
    "        with open(solution_file_path, 'w') as f:\n",
    "            f.write(solution_docstring)"
   ]
  },
  {
   "cell_type": "code",
   "execution_count": 13,
   "metadata": {},
   "outputs": [],
   "source": [
    "generate_solutions_file(n, title, jupyter_notebook=False)"
   ]
  }
 ],
 "metadata": {
  "kernelspec": {
   "display_name": "Python 3",
   "language": "python",
   "name": "python3"
  },
  "language_info": {
   "codemirror_mode": {
    "name": "ipython",
    "version": 3
   },
   "file_extension": ".py",
   "mimetype": "text/x-python",
   "name": "python",
   "nbconvert_exporter": "python",
   "pygments_lexer": "ipython3",
   "version": "3.11.5"
  },
  "orig_nbformat": 4
 },
 "nbformat": 4,
 "nbformat_minor": 2
}
