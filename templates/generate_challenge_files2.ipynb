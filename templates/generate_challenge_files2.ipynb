{
 "cells": [
  {
   "cell_type": "markdown",
   "metadata": {},
   "source": [
    "*CUSTOM USER VARIABLES*"
   ]
  },
  {
   "cell_type": "code",
   "execution_count": 2,
   "metadata": {},
   "outputs": [],
   "source": [
    "# Change these variable once, save this template and reuse for each challenge\n",
    "\n",
    " # The absolute path to the directory where your Advent-of-Code-{YEAR} folder lives\n",
    "HOME_DIR = '/home/lilyroses/code/'\n",
    "\n",
    "# The Advent of Code Year\n",
    "YEAR = 2022"
   ]
  },
  {
   "cell_type": "code",
   "execution_count": 298,
   "metadata": {},
   "outputs": [],
   "source": [
    "# CHANGE THESE VARIABLES FOR EACH CHALLENGE SOLUTION\n",
    "\n",
    "# The challenge day number\n",
    "n = 0\n",
    "\n",
    "# The title of the challenge\n",
    "TITLE = ''"
   ]
  },
  {
   "cell_type": "markdown",
   "metadata": {},
   "source": [
    "*END CUSTOM USER VARIABELES*"
   ]
  },
  {
   "cell_type": "markdown",
   "metadata": {},
   "source": [
    "---\n",
    "\n",
    "## Fol\n",
    "\n",
    "der and File Vari Xables\n",
    "\n",
    "*Don't change these variables - they will be auto-updated after your custom user varaibles have been set.*"
   ]
  },
  {
   "cell_type": "code",
   "execution_count": 5,
   "metadata": {},
   "outputs": [],
   "source": [
    "# LEAVE THIS VARIABLE ALONE (automatically updated)\n",
    "\n",
    "SOLUTIONS_DIR = f'{HOME_DIR}Advent-of-Code-{YEAR}/solutions/'"
   ]
  },
  {
   "cell_type": "markdown",
   "metadata": {},
   "source": [
    "---\n",
    "\n",
    "## Generate Challenge Folder\n",
    "\n",
    "*Generate a folder named `day_{n}` (after the challenge day number), located in the `solutions` directory*"
   ]
  },
  {
   "cell_type": "markdown",
   "metadata": {},
   "source": []
  }
 ],
 "metadata": {
  "kernelspec": {
   "display_name": "Python 3",
   "language": "python",
   "name": "python3"
  },
  "language_info": {
   "codemirror_mode": {
    "name": "ipython",
    "version": 3
   },
   "file_extension": ".py",
   "mimetype": "text/x-python",
   "name": "python",
   "nbconvert_exporter": "python",
   "pygments_lexer": "ipython3",
   "version": "3.10.12"
  }
 },
 "nbformat": 4,
 "nbformat_minor": 2
}
