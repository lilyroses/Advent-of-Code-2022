{
 "cells": [
  {
   "cell_type": "markdown",
   "metadata": {},
   "source": [
    "# Solution for Day {n}: {title_of_challenge}\n",
    "\n",
    "*Advent of Code {Year}*\n",
    "\n",
    "- [Homepage](https://adventofcode.com/{year}/)\n",
    "\n",
    "- [Day {n} Challenge](https://adventofcode.com/{year}/day/{n})\n",
    "\n",
    "- [Input Data](https://adventofcode.com/{year}/day/{n}/input)\n",
    "\n",
    "---"
   ]
  },
  {
   "cell_type": "markdown",
   "metadata": {},
   "source": [
    "## Part 0 - Setup\n",
    "\n",
    "To begin our solution, we first do the following:\n",
    "\n",
    "1. Save the input data file to a variable\n",
    "\n",
    "2. Read in the input data with `open()` to manipulate it with Python\n",
    "\n",
    "3. Examine the contents of the data to determine how best to handle it\n",
    "\n",
    "---"
   ]
  },
  {
   "cell_type": "markdown",
   "metadata": {},
   "source": [
    "### Step 1. Save Input Data Filename to a Variable\n",
    "\n",
    "For consistency, in each solution notebook, the text file is named `input.txt` and the filename is saved to variable `INPUT_FILE`."
   ]
  },
  {
   "cell_type": "code",
   "execution_count": null,
   "metadata": {},
   "outputs": [],
   "source": [
    "# Input data for this day's challenge\n",
    "INPUT_FILE = 'input.txt'"
   ]
  },
  {
   "cell_type": "markdown",
   "metadata": {},
   "source": [
    "---\n",
    "\n",
    "### Step 2. Read In Input Data\n",
    "\n",
    "For each solution we begin by reading in the input file, `INPUT_FILE`.\n",
    "\n",
    "The data is saved to a list, `lines`.\n",
    "\n",
    "Each element in `lines` is a single line from `input.txt`, saved as a string. The newline (`\\n`) characters have been stripped from the end of each line.\n",
    "\n",
    "---"
   ]
  },
  {
   "cell_type": "markdown",
   "metadata": {},
   "source": [
    "#### A Note on Reading In Files\n",
    "\n",
    "Python's built-in `open()` function handles reading and writing data to and from files.\n",
    "\n",
    "`open()` has two required parameters:\n",
    "\n",
    "1. `file` : (required) - the name of the file you wish to open.\n",
    "\n",
    "2. `mode` - there are several mode options; below are the most common.\n",
    "    \n",
    "    - `'r'` : **read** in the file. Note that this is the default mode - setting `'r'` explicitly is not required.\n",
    "\n",
    "    - `'w'` : **write** to the file. **This is a destructive action and will replace everything within the file with the specified data** - akin to the shell command `cat 'hello world' > file.txt`.\n",
    "\n",
    "    - `'a'` : **append** to the file. This appends data to a file with existing data - akin to the shell command `echo 'hello world' >> file.txt`."
   ]
  },
  {
   "cell_type": "code",
   "execution_count": null,
   "metadata": {},
   "outputs": [],
   "source": [
    "# Open the input data file, read in the data, and save each line as a string.\n",
    "with open(INPUT_FILE, 'r') as f:\n",
    "    # rstrip() removes whitespace from the leftmost end of a string.\n",
    "    lines = [line.rstrip() for line in f.readlines()]"
   ]
  },
  {
   "cell_type": "markdown",
   "metadata": {},
   "source": [
    "---\n",
    "\n",
    "### Step 3. Examine the Data\n",
    "\n",
    "We use different Python functions to examine the data we just read in, such as `len()` and `type()`.\n",
    "\n",
    "Based on the challenge instructions, start considering how best to handle the input data.\n",
    "\n",
    "**Consider the following questions:**\n",
    "\n",
    "- For each line in `lines`, **identify** the data you will need to solve the challenge.\n",
    "\n",
    "- Should the data be **extracted** from the line? Should the line be separated into **sections**?\n",
    "\n",
    "\n",
    "- Is the data of an appropriate type, or should it be **converted**? (E.g. a `str` to an `int` to perform calculations?)\n",
    "\n",
    "- How should the extracted/sectioned data be **stored**? (E.g., another list?)\n",
    "\n",
    "Below, we check the total number of lines in `lines`, prove that each line is of the `str` type, and print the first 5 lines."
   ]
  },
  {
   "cell_type": "code",
   "execution_count": null,
   "metadata": {},
   "outputs": [],
   "source": [
    "# Find the number of lines\n",
    "print(f'Number of lines in lines:\\n{len(lines)}')\n",
    "\n",
    "# View the data type of each line\n",
    "print(f'\\nData type of each line in lines:\\n{type(lines[0])}')\n",
    "\n",
    "# View the first few lines, to get a feel for the data\n",
    "print(f'\\nLines 1-5:')\n",
    "for line in lines[:5]:\n",
    "    print(line)"
   ]
  },
  {
   "cell_type": "markdown",
   "metadata": {},
   "source": [
    "If you wish, you can uncomment the next cell to view the `lines` object in its entirety. \n"
   ]
  },
  {
   "cell_type": "code",
   "execution_count": 5,
   "metadata": {},
   "outputs": [],
   "source": [
    "# for line in lines:\n",
    "#     print(line)"
   ]
  },
  {
   "cell_type": "markdown",
   "metadata": {},
   "source": [
    "#### *** ***Helpful Hint*** *** \n",
    "\n",
    "**KEYBOARD SHORTCUT** (VS Code for Windows)\n",
    "- *Highlight* (select) code : `Ctrl` + `a`\n",
    "- *Uncomment* code : `Ctrl` + `/`"
   ]
  },
  {
   "cell_type": "markdown",
   "metadata": {},
   "source": [
    "---\n",
    "\n",
    "## Part I\n",
    "\n",
    "### Step 1: Convert Data Type"
   ]
  },
  {
   "cell_type": "code",
   "execution_count": null,
   "metadata": {},
   "outputs": [],
   "source": []
  }
 ],
 "metadata": {
  "kernelspec": {
   "display_name": "Python 3",
   "language": "python",
   "name": "python3"
  },
  "language_info": {
   "codemirror_mode": {
    "name": "ipython",
    "version": 3
   },
   "file_extension": ".py",
   "mimetype": "text/x-python",
   "name": "python",
   "nbconvert_exporter": "python",
   "pygments_lexer": "ipython3",
   "version": "3.10.12"
  }
 },
 "nbformat": 4,
 "nbformat_minor": 2
}
